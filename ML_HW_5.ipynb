{
  "nbformat": 4,
  "nbformat_minor": 0,
  "metadata": {
    "colab": {
      "provenance": [],
      "toc_visible": true,
      "authorship_tag": "ABX9TyN10FzQQMANIsAUpIZX7QDv",
      "include_colab_link": true
    },
    "kernelspec": {
      "name": "python3",
      "display_name": "Python 3"
    },
    "language_info": {
      "name": "python"
    }
  },
  "cells": [
    {
      "cell_type": "markdown",
      "metadata": {
        "id": "view-in-github",
        "colab_type": "text"
      },
      "source": [
        "<a href=\"https://colab.research.google.com/github/liminovna/HSE_ML_NOTEBOOKS/blob/main/ML_HW_5.ipynb\" target=\"_parent\"><img src=\"https://colab.research.google.com/assets/colab-badge.svg\" alt=\"Open In Colab\"/></a>"
      ]
    },
    {
      "cell_type": "markdown",
      "source": [
        "Необходимо реализовать кластеризацию вопросов со Stackoverflow.\n",
        "\n",
        "Кластеризовать нужно тексты из колонки Question.\n",
        "\n",
        "1. Реализация k-means\n",
        "\n",
        "  a. Векторизуйте исходные тексты без предварительной обработки тремя способами\n",
        "    \n",
        "    i. CountVectorizer\n",
        "    \n",
        "    ii. TfidfVectorizer\n",
        "\n",
        "      1. необходимо написать в ipynb формулу tf-idf + объяснить ее значение и смысл\n",
        "    \n",
        "  iii. Glove с использованием через Gensim (ссылка, ссылка, ссылка, ссылка)\n",
        "\n",
        "      1. скачайте с сайта данные для Glove\n",
        "      2. Чтобы получить вектор текста - усредните вектора входящих в него слов\n",
        "\n",
        "  b. Определите количество кластеров\n",
        "  \n",
        "  c. Реализуйте кластеризацию (x3)\n",
        "  \n",
        "  d. Найдите по 1 ближайшему тексту к центроидам полученных кластеров. Можно ли с их помощью описать полученный кластер?\n",
        "  \n",
        "  e. Обработайте тексты\n",
        "    \n",
        "    i. удалите стоп-слова\n",
        "    \n",
        "    ii. приведите в нижний регистр\n",
        "    \n",
        "    iii. удалите лишние символы\n",
        "    \n",
        "    iv. нормализуйте слова\n",
        "      1. выберите Stemming или лемматизацию\n",
        "    \n",
        "  f. Повторите пункты a-d\n",
        "  \n",
        "  g. Можно ли заметить улучшение качества? Текстом описать!\n",
        "2. Реализуйте любой другой алгоритм кластеризации, который не требует задавать количество кластеров. (Как вариант -  DBscan)\n",
        "используйте сразу обработанные данные\n",
        "сравните результат кластеризации с k-means\n",
        "3. (Задание со звездочкой)* Это задание чтобы получить +1 (вне 10 баллов, можно добавить к другим работам или этой)\n",
        "реализуйте векторизацию через sentence-transformers (ссылка, ссылка)\n",
        "примените какой-то из алгоритмов кластеризации\n",
        "4. (Задание со звездочкой)* Это задание чтобы получить +1 (вне 10 баллов, можно добавить к другим работам или этой)\n",
        "Попробуйте применить BERTopic\n",
        "5. (Задание со звездочкой)* Это задание чтобы получить +1 (вне 10 баллов, можно добавить к другим работам или этой)\n",
        "Реализуйте кластеризацию через LDA Topic Modeling, лучше использовать библиотеку gensim (ссылка)"
      ],
      "metadata": {
        "id": "JbH7cbqG44xM"
      }
    },
    {
      "cell_type": "code",
      "source": [
        "import pandas as pd\n",
        "url='https://drive.google.com/file/d/1zLs02TTxbt1Htk1RdIJM5AaBacs6Y39K/view?usp=sharing'\n",
        "url='https://drive.google.com/uc?id=' + url.split('/')[-2]\n",
        "df = pd.read_csv(url)"
      ],
      "metadata": {
        "id": "ioEAhjNp2gHi"
      },
      "execution_count": 2,
      "outputs": []
    },
    {
      "cell_type": "code",
      "source": [
        "df"
      ],
      "metadata": {
        "colab": {
          "base_uri": "https://localhost:8080/",
          "height": 424
        },
        "id": "GLKirooH4yMr",
        "outputId": "17b00f4d-93c0-4744-b668-e5a5ab1264fa"
      },
      "execution_count": 3,
      "outputs": [
        {
          "output_type": "execute_result",
          "data": {
            "text/plain": [
              "                                                   Title  \\\n",
              "0      your browser version is not supported using sy...   \n",
              "1                   how to get button text value in java   \n",
              "2      How to make sure communication is stable when ...   \n",
              "3                           Cubical Agda Inclusion Order   \n",
              "4      How to convert depth map to image(.png) format...   \n",
              "...                                                  ...   \n",
              "22118     SqlAzureDacpacDeployment@1 - parameter problem   \n",
              "22119  How do I instantiate structs inside a nested c...   \n",
              "22120  How to reverse_lazy user in template view's ge...   \n",
              "22121  \"undefined reference to `GOACC_parallel_keyed'...   \n",
              "22122                 How to learn React native [closed]   \n",
              "\n",
              "                                                     URL  \\\n",
              "0      https://stackoverflow.com/questions/76981459/y...   \n",
              "1      https://stackoverflow.com/questions/76981456/h...   \n",
              "2      https://stackoverflow.com/questions/76981455/h...   \n",
              "3      https://stackoverflow.com/questions/76981453/c...   \n",
              "4      https://stackoverflow.com/questions/76981450/h...   \n",
              "...                                                  ...   \n",
              "22118  https://stackoverflow.com/questions/76933724/s...   \n",
              "22119  https://stackoverflow.com/questions/76933723/h...   \n",
              "22120  https://stackoverflow.com/questions/76933722/h...   \n",
              "22121  https://stackoverflow.com/questions/76933719/u...   \n",
              "22122  https://stackoverflow.com/questions/76933718/h...   \n",
              "\n",
              "                                                Question  \\\n",
              "0      I'm trying to automate some features and I nee...   \n",
              "1      I want to get button text value to do the on c...   \n",
              "2      This is my Node codeasync function runClient()...   \n",
              "3      I'm almost finished defining an Inclusion Orde...   \n",
              "4      I am using a depth camera which captures a 500...   \n",
              "...                                                  ...   \n",
              "22118  I have the following devops task in my pipelin...   \n",
              "22119  So I googled everywhere and cannot get a strai...   \n",
              "22120  Does anyone know how I can redirect the user t...   \n",
              "22121  I am working on a project where I have to opti...   \n",
              "22122  Closed. This question is seeking recommendatio...   \n",
              "\n",
              "                                              Categories  \n",
              "0                     ['php', 'symfony', 'web-scraping']  \n",
              "1                                     ['java', 'button']  \n",
              "2              ['javascript', 'node.js', 'go', 'zeromq']  \n",
              "3                                               ['agda']  \n",
              "4      ['3d', 'computer-vision', 'point-clouds', 'vis...  \n",
              "...                                                  ...  \n",
              "22118                     ['powershell', 'azure-devops']  \n",
              "22119       ['c++', 'struct', 'nested', 'inner-classes']  \n",
              "22120  ['django', 'django-models', 'django-views', 'd...  \n",
              "22121            ['fortran', 'linker-errors', 'openacc']  \n",
              "22122  ['reactjs', 'user-interface', 'mobile', 'native']  \n",
              "\n",
              "[22123 rows x 4 columns]"
            ],
            "text/html": [
              "\n",
              "  <div id=\"df-57260405-63eb-435c-b110-bd3810d465d3\" class=\"colab-df-container\">\n",
              "    <div>\n",
              "<style scoped>\n",
              "    .dataframe tbody tr th:only-of-type {\n",
              "        vertical-align: middle;\n",
              "    }\n",
              "\n",
              "    .dataframe tbody tr th {\n",
              "        vertical-align: top;\n",
              "    }\n",
              "\n",
              "    .dataframe thead th {\n",
              "        text-align: right;\n",
              "    }\n",
              "</style>\n",
              "<table border=\"1\" class=\"dataframe\">\n",
              "  <thead>\n",
              "    <tr style=\"text-align: right;\">\n",
              "      <th></th>\n",
              "      <th>Title</th>\n",
              "      <th>URL</th>\n",
              "      <th>Question</th>\n",
              "      <th>Categories</th>\n",
              "    </tr>\n",
              "  </thead>\n",
              "  <tbody>\n",
              "    <tr>\n",
              "      <th>0</th>\n",
              "      <td>your browser version is not supported using sy...</td>\n",
              "      <td>https://stackoverflow.com/questions/76981459/y...</td>\n",
              "      <td>I'm trying to automate some features and I nee...</td>\n",
              "      <td>['php', 'symfony', 'web-scraping']</td>\n",
              "    </tr>\n",
              "    <tr>\n",
              "      <th>1</th>\n",
              "      <td>how to get button text value in java</td>\n",
              "      <td>https://stackoverflow.com/questions/76981456/h...</td>\n",
              "      <td>I want to get button text value to do the on c...</td>\n",
              "      <td>['java', 'button']</td>\n",
              "    </tr>\n",
              "    <tr>\n",
              "      <th>2</th>\n",
              "      <td>How to make sure communication is stable when ...</td>\n",
              "      <td>https://stackoverflow.com/questions/76981455/h...</td>\n",
              "      <td>This is my Node codeasync function runClient()...</td>\n",
              "      <td>['javascript', 'node.js', 'go', 'zeromq']</td>\n",
              "    </tr>\n",
              "    <tr>\n",
              "      <th>3</th>\n",
              "      <td>Cubical Agda Inclusion Order</td>\n",
              "      <td>https://stackoverflow.com/questions/76981453/c...</td>\n",
              "      <td>I'm almost finished defining an Inclusion Orde...</td>\n",
              "      <td>['agda']</td>\n",
              "    </tr>\n",
              "    <tr>\n",
              "      <th>4</th>\n",
              "      <td>How to convert depth map to image(.png) format...</td>\n",
              "      <td>https://stackoverflow.com/questions/76981450/h...</td>\n",
              "      <td>I am using a depth camera which captures a 500...</td>\n",
              "      <td>['3d', 'computer-vision', 'point-clouds', 'vis...</td>\n",
              "    </tr>\n",
              "    <tr>\n",
              "      <th>...</th>\n",
              "      <td>...</td>\n",
              "      <td>...</td>\n",
              "      <td>...</td>\n",
              "      <td>...</td>\n",
              "    </tr>\n",
              "    <tr>\n",
              "      <th>22118</th>\n",
              "      <td>SqlAzureDacpacDeployment@1 - parameter problem</td>\n",
              "      <td>https://stackoverflow.com/questions/76933724/s...</td>\n",
              "      <td>I have the following devops task in my pipelin...</td>\n",
              "      <td>['powershell', 'azure-devops']</td>\n",
              "    </tr>\n",
              "    <tr>\n",
              "      <th>22119</th>\n",
              "      <td>How do I instantiate structs inside a nested c...</td>\n",
              "      <td>https://stackoverflow.com/questions/76933723/h...</td>\n",
              "      <td>So I googled everywhere and cannot get a strai...</td>\n",
              "      <td>['c++', 'struct', 'nested', 'inner-classes']</td>\n",
              "    </tr>\n",
              "    <tr>\n",
              "      <th>22120</th>\n",
              "      <td>How to reverse_lazy user in template view's ge...</td>\n",
              "      <td>https://stackoverflow.com/questions/76933722/h...</td>\n",
              "      <td>Does anyone know how I can redirect the user t...</td>\n",
              "      <td>['django', 'django-models', 'django-views', 'd...</td>\n",
              "    </tr>\n",
              "    <tr>\n",
              "      <th>22121</th>\n",
              "      <td>\"undefined reference to `GOACC_parallel_keyed'...</td>\n",
              "      <td>https://stackoverflow.com/questions/76933719/u...</td>\n",
              "      <td>I am working on a project where I have to opti...</td>\n",
              "      <td>['fortran', 'linker-errors', 'openacc']</td>\n",
              "    </tr>\n",
              "    <tr>\n",
              "      <th>22122</th>\n",
              "      <td>How to learn React native [closed]</td>\n",
              "      <td>https://stackoverflow.com/questions/76933718/h...</td>\n",
              "      <td>Closed. This question is seeking recommendatio...</td>\n",
              "      <td>['reactjs', 'user-interface', 'mobile', 'native']</td>\n",
              "    </tr>\n",
              "  </tbody>\n",
              "</table>\n",
              "<p>22123 rows × 4 columns</p>\n",
              "</div>\n",
              "    <div class=\"colab-df-buttons\">\n",
              "\n",
              "  <div class=\"colab-df-container\">\n",
              "    <button class=\"colab-df-convert\" onclick=\"convertToInteractive('df-57260405-63eb-435c-b110-bd3810d465d3')\"\n",
              "            title=\"Convert this dataframe to an interactive table.\"\n",
              "            style=\"display:none;\">\n",
              "\n",
              "  <svg xmlns=\"http://www.w3.org/2000/svg\" height=\"24px\" viewBox=\"0 -960 960 960\">\n",
              "    <path d=\"M120-120v-720h720v720H120Zm60-500h600v-160H180v160Zm220 220h160v-160H400v160Zm0 220h160v-160H400v160ZM180-400h160v-160H180v160Zm440 0h160v-160H620v160ZM180-180h160v-160H180v160Zm440 0h160v-160H620v160Z\"/>\n",
              "  </svg>\n",
              "    </button>\n",
              "\n",
              "  <style>\n",
              "    .colab-df-container {\n",
              "      display:flex;\n",
              "      gap: 12px;\n",
              "    }\n",
              "\n",
              "    .colab-df-convert {\n",
              "      background-color: #E8F0FE;\n",
              "      border: none;\n",
              "      border-radius: 50%;\n",
              "      cursor: pointer;\n",
              "      display: none;\n",
              "      fill: #1967D2;\n",
              "      height: 32px;\n",
              "      padding: 0 0 0 0;\n",
              "      width: 32px;\n",
              "    }\n",
              "\n",
              "    .colab-df-convert:hover {\n",
              "      background-color: #E2EBFA;\n",
              "      box-shadow: 0px 1px 2px rgba(60, 64, 67, 0.3), 0px 1px 3px 1px rgba(60, 64, 67, 0.15);\n",
              "      fill: #174EA6;\n",
              "    }\n",
              "\n",
              "    .colab-df-buttons div {\n",
              "      margin-bottom: 4px;\n",
              "    }\n",
              "\n",
              "    [theme=dark] .colab-df-convert {\n",
              "      background-color: #3B4455;\n",
              "      fill: #D2E3FC;\n",
              "    }\n",
              "\n",
              "    [theme=dark] .colab-df-convert:hover {\n",
              "      background-color: #434B5C;\n",
              "      box-shadow: 0px 1px 3px 1px rgba(0, 0, 0, 0.15);\n",
              "      filter: drop-shadow(0px 1px 2px rgba(0, 0, 0, 0.3));\n",
              "      fill: #FFFFFF;\n",
              "    }\n",
              "  </style>\n",
              "\n",
              "    <script>\n",
              "      const buttonEl =\n",
              "        document.querySelector('#df-57260405-63eb-435c-b110-bd3810d465d3 button.colab-df-convert');\n",
              "      buttonEl.style.display =\n",
              "        google.colab.kernel.accessAllowed ? 'block' : 'none';\n",
              "\n",
              "      async function convertToInteractive(key) {\n",
              "        const element = document.querySelector('#df-57260405-63eb-435c-b110-bd3810d465d3');\n",
              "        const dataTable =\n",
              "          await google.colab.kernel.invokeFunction('convertToInteractive',\n",
              "                                                    [key], {});\n",
              "        if (!dataTable) return;\n",
              "\n",
              "        const docLinkHtml = 'Like what you see? Visit the ' +\n",
              "          '<a target=\"_blank\" href=https://colab.research.google.com/notebooks/data_table.ipynb>data table notebook</a>'\n",
              "          + ' to learn more about interactive tables.';\n",
              "        element.innerHTML = '';\n",
              "        dataTable['output_type'] = 'display_data';\n",
              "        await google.colab.output.renderOutput(dataTable, element);\n",
              "        const docLink = document.createElement('div');\n",
              "        docLink.innerHTML = docLinkHtml;\n",
              "        element.appendChild(docLink);\n",
              "      }\n",
              "    </script>\n",
              "  </div>\n",
              "\n",
              "\n",
              "    <div id=\"df-61dfe56d-acb5-4a4c-ab2f-c05faf263730\">\n",
              "      <button class=\"colab-df-quickchart\" onclick=\"quickchart('df-61dfe56d-acb5-4a4c-ab2f-c05faf263730')\"\n",
              "                title=\"Suggest charts\"\n",
              "                style=\"display:none;\">\n",
              "\n",
              "<svg xmlns=\"http://www.w3.org/2000/svg\" height=\"24px\"viewBox=\"0 0 24 24\"\n",
              "     width=\"24px\">\n",
              "    <g>\n",
              "        <path d=\"M19 3H5c-1.1 0-2 .9-2 2v14c0 1.1.9 2 2 2h14c1.1 0 2-.9 2-2V5c0-1.1-.9-2-2-2zM9 17H7v-7h2v7zm4 0h-2V7h2v10zm4 0h-2v-4h2v4z\"/>\n",
              "    </g>\n",
              "</svg>\n",
              "      </button>\n",
              "\n",
              "<style>\n",
              "  .colab-df-quickchart {\n",
              "      --bg-color: #E8F0FE;\n",
              "      --fill-color: #1967D2;\n",
              "      --hover-bg-color: #E2EBFA;\n",
              "      --hover-fill-color: #174EA6;\n",
              "      --disabled-fill-color: #AAA;\n",
              "      --disabled-bg-color: #DDD;\n",
              "  }\n",
              "\n",
              "  [theme=dark] .colab-df-quickchart {\n",
              "      --bg-color: #3B4455;\n",
              "      --fill-color: #D2E3FC;\n",
              "      --hover-bg-color: #434B5C;\n",
              "      --hover-fill-color: #FFFFFF;\n",
              "      --disabled-bg-color: #3B4455;\n",
              "      --disabled-fill-color: #666;\n",
              "  }\n",
              "\n",
              "  .colab-df-quickchart {\n",
              "    background-color: var(--bg-color);\n",
              "    border: none;\n",
              "    border-radius: 50%;\n",
              "    cursor: pointer;\n",
              "    display: none;\n",
              "    fill: var(--fill-color);\n",
              "    height: 32px;\n",
              "    padding: 0;\n",
              "    width: 32px;\n",
              "  }\n",
              "\n",
              "  .colab-df-quickchart:hover {\n",
              "    background-color: var(--hover-bg-color);\n",
              "    box-shadow: 0 1px 2px rgba(60, 64, 67, 0.3), 0 1px 3px 1px rgba(60, 64, 67, 0.15);\n",
              "    fill: var(--button-hover-fill-color);\n",
              "  }\n",
              "\n",
              "  .colab-df-quickchart-complete:disabled,\n",
              "  .colab-df-quickchart-complete:disabled:hover {\n",
              "    background-color: var(--disabled-bg-color);\n",
              "    fill: var(--disabled-fill-color);\n",
              "    box-shadow: none;\n",
              "  }\n",
              "\n",
              "  .colab-df-spinner {\n",
              "    border: 2px solid var(--fill-color);\n",
              "    border-color: transparent;\n",
              "    border-bottom-color: var(--fill-color);\n",
              "    animation:\n",
              "      spin 1s steps(1) infinite;\n",
              "  }\n",
              "\n",
              "  @keyframes spin {\n",
              "    0% {\n",
              "      border-color: transparent;\n",
              "      border-bottom-color: var(--fill-color);\n",
              "      border-left-color: var(--fill-color);\n",
              "    }\n",
              "    20% {\n",
              "      border-color: transparent;\n",
              "      border-left-color: var(--fill-color);\n",
              "      border-top-color: var(--fill-color);\n",
              "    }\n",
              "    30% {\n",
              "      border-color: transparent;\n",
              "      border-left-color: var(--fill-color);\n",
              "      border-top-color: var(--fill-color);\n",
              "      border-right-color: var(--fill-color);\n",
              "    }\n",
              "    40% {\n",
              "      border-color: transparent;\n",
              "      border-right-color: var(--fill-color);\n",
              "      border-top-color: var(--fill-color);\n",
              "    }\n",
              "    60% {\n",
              "      border-color: transparent;\n",
              "      border-right-color: var(--fill-color);\n",
              "    }\n",
              "    80% {\n",
              "      border-color: transparent;\n",
              "      border-right-color: var(--fill-color);\n",
              "      border-bottom-color: var(--fill-color);\n",
              "    }\n",
              "    90% {\n",
              "      border-color: transparent;\n",
              "      border-bottom-color: var(--fill-color);\n",
              "    }\n",
              "  }\n",
              "</style>\n",
              "\n",
              "      <script>\n",
              "        async function quickchart(key) {\n",
              "          const quickchartButtonEl =\n",
              "            document.querySelector('#' + key + ' button');\n",
              "          quickchartButtonEl.disabled = true;  // To prevent multiple clicks.\n",
              "          quickchartButtonEl.classList.add('colab-df-spinner');\n",
              "          try {\n",
              "            const charts = await google.colab.kernel.invokeFunction(\n",
              "                'suggestCharts', [key], {});\n",
              "          } catch (error) {\n",
              "            console.error('Error during call to suggestCharts:', error);\n",
              "          }\n",
              "          quickchartButtonEl.classList.remove('colab-df-spinner');\n",
              "          quickchartButtonEl.classList.add('colab-df-quickchart-complete');\n",
              "        }\n",
              "        (() => {\n",
              "          let quickchartButtonEl =\n",
              "            document.querySelector('#df-61dfe56d-acb5-4a4c-ab2f-c05faf263730 button');\n",
              "          quickchartButtonEl.style.display =\n",
              "            google.colab.kernel.accessAllowed ? 'block' : 'none';\n",
              "        })();\n",
              "      </script>\n",
              "    </div>\n",
              "    </div>\n",
              "  </div>\n"
            ],
            "application/vnd.google.colaboratory.intrinsic+json": {
              "type": "dataframe",
              "variable_name": "df",
              "summary": "{\n  \"name\": \"df\",\n  \"rows\": 22123,\n  \"fields\": [\n    {\n      \"column\": \"Title\",\n      \"properties\": {\n        \"dtype\": \"string\",\n        \"num_unique_values\": 22122,\n        \"samples\": [\n          \"How can I record and replay MongoDB requests?\",\n          \"Dataflow Flex template while running throwing error for all default parameters\",\n          \"Trying to use multiple alias to create a new column [duplicate]\"\n        ],\n        \"semantic_type\": \"\",\n        \"description\": \"\"\n      }\n    },\n    {\n      \"column\": \"URL\",\n      \"properties\": {\n        \"dtype\": \"string\",\n        \"num_unique_values\": 22123,\n        \"samples\": [\n          \"https://stackoverflow.com/questions/76975806/how-can-i-record-and-replay-mongodb-requests\",\n          \"https://stackoverflow.com/questions/76940189/dataflow-flex-template-while-running-throwing-error-for-all-default-parameters\",\n          \"https://stackoverflow.com/questions/76950125/trying-to-use-multiple-alias-to-create-a-new-column\"\n        ],\n        \"semantic_type\": \"\",\n        \"description\": \"\"\n      }\n    },\n    {\n      \"column\": \"Question\",\n      \"properties\": {\n        \"dtype\": \"string\",\n        \"num_unique_values\": 22083,\n        \"samples\": [\n          \"I'm using QgsQuick in one of my development projects.I use QGIS Desktop to setup my map environment(.qgs file). When running my project using QgsQuick, it seems that the raster image layers are always rendered on top of the vector layers. Even though I've set the rendering order in QGIS Desktop so that the vector layers should show on top.Has anyone had this issue?I've seen this issue with qgis 3.4.4 and version 3.22. Same issue on Windows and Linux.Is the QgsQuick tool still being maintained by QGIS?Do anyone know if the QgsQuick qml tool is widely used?I've tried it on windows and Linux.When opening my development project without making use of the QgsQuick, It runs correctly.Any help would be appreciated.Pieter\",\n          \"I am working on an Orbeon form where the user needs to confirm the values of some input fields before being allowed to send in the form. The confirmation uses single checkboxes to allow different error messages.The number formatting throughout the form is with comma as decimal separator and point as thousands separator.Now, when I add the needed cell names as template parameters to a label to a single checkbox, the number from the cell is shown with point as decimal separator and no thousands separator, even though it is shown correctly in the original field and in the pdf?So, how can I change this formatting of the number in a template parameter?I tried format-number(//cell,\\\"99.999,00\\\") in the template parameter.I also tried converting the number to a string and replace the point with a comma. It just seems like there must be a simpler solution\",\n          \"Closed. This question is not written in English. It is not currently accepting answers.Stack Overflow is an English-only site. The author must be able to communicate in English to understand and engage with any comments and/or answers their question receives. Don't translate this post for the author; machine translations can be inaccurate, and even human translations can alter the intended meaning of the post.Closed 16 hours ago.Improve this questionSalut, j'utilise GPT-4 et depuis 4 jours voici le probl\\u00e8me que je rencontre:Erreur d'application : une exception c\\u00f4t\\u00e9 client s'est produite (voir la console du navigateur pour plus d'informations)en consultant la console de mon navigateur qui est google chrome, voici les premi\\u00e8res lignes d'erreur qui s'affichent :\\\"general.js:102 Only one LaunchDarklyClient can exist at a time, but another client already exists. This probably means something has gone wrong with our DI system, or we're using it incorrectly. d @ general.js:102 Show 1 more frame Show less 24_app-ddf4d3f1671bd1f5.js:28 DOMException: Failed to execute 'insertBefore' on 'Node': The node before which the new node is to be inserted is not a child of this node. at e (https://chat.openai.com/_next/static/chunks/framework-10a404587b40544b.js:9:89708)\\\"que faire dans ce cas?j'ai tout essay\\u00e9 rien a abouti. aidez moi \\u00e0 r\\u00e9soudre ce probl\\u00e8me\"\n        ],\n        \"semantic_type\": \"\",\n        \"description\": \"\"\n      }\n    },\n    {\n      \"column\": \"Categories\",\n      \"properties\": {\n        \"dtype\": \"string\",\n        \"num_unique_values\": 18106,\n        \"samples\": [\n          \"['java', 'elasticsearch']\",\n          \"['css', 'msbuild', 'blazor', 'isolation']\",\n          \"['powershell', 'go', 'exec']\"\n        ],\n        \"semantic_type\": \"\",\n        \"description\": \"\"\n      }\n    }\n  ]\n}"
            }
          },
          "metadata": {},
          "execution_count": 3
        }
      ]
    },
    {
      "cell_type": "code",
      "source": [
        "# объединяем Title и Question в один параметр\n",
        "df['text'] = df['Title'] + ' ' + df['Question']\n",
        "df"
      ],
      "metadata": {
        "colab": {
          "base_uri": "https://localhost:8080/",
          "height": 597
        },
        "id": "7LSnHwF1_TrQ",
        "outputId": "1f106c3c-0bfd-410d-e2bb-7063813a8637"
      },
      "execution_count": 4,
      "outputs": [
        {
          "output_type": "execute_result",
          "data": {
            "text/plain": [
              "                                                   Title  \\\n",
              "0      your browser version is not supported using sy...   \n",
              "1                   how to get button text value in java   \n",
              "2      How to make sure communication is stable when ...   \n",
              "3                           Cubical Agda Inclusion Order   \n",
              "4      How to convert depth map to image(.png) format...   \n",
              "...                                                  ...   \n",
              "22118     SqlAzureDacpacDeployment@1 - parameter problem   \n",
              "22119  How do I instantiate structs inside a nested c...   \n",
              "22120  How to reverse_lazy user in template view's ge...   \n",
              "22121  \"undefined reference to `GOACC_parallel_keyed'...   \n",
              "22122                 How to learn React native [closed]   \n",
              "\n",
              "                                                     URL  \\\n",
              "0      https://stackoverflow.com/questions/76981459/y...   \n",
              "1      https://stackoverflow.com/questions/76981456/h...   \n",
              "2      https://stackoverflow.com/questions/76981455/h...   \n",
              "3      https://stackoverflow.com/questions/76981453/c...   \n",
              "4      https://stackoverflow.com/questions/76981450/h...   \n",
              "...                                                  ...   \n",
              "22118  https://stackoverflow.com/questions/76933724/s...   \n",
              "22119  https://stackoverflow.com/questions/76933723/h...   \n",
              "22120  https://stackoverflow.com/questions/76933722/h...   \n",
              "22121  https://stackoverflow.com/questions/76933719/u...   \n",
              "22122  https://stackoverflow.com/questions/76933718/h...   \n",
              "\n",
              "                                                Question  \\\n",
              "0      I'm trying to automate some features and I nee...   \n",
              "1      I want to get button text value to do the on c...   \n",
              "2      This is my Node codeasync function runClient()...   \n",
              "3      I'm almost finished defining an Inclusion Orde...   \n",
              "4      I am using a depth camera which captures a 500...   \n",
              "...                                                  ...   \n",
              "22118  I have the following devops task in my pipelin...   \n",
              "22119  So I googled everywhere and cannot get a strai...   \n",
              "22120  Does anyone know how I can redirect the user t...   \n",
              "22121  I am working on a project where I have to opti...   \n",
              "22122  Closed. This question is seeking recommendatio...   \n",
              "\n",
              "                                              Categories  \\\n",
              "0                     ['php', 'symfony', 'web-scraping']   \n",
              "1                                     ['java', 'button']   \n",
              "2              ['javascript', 'node.js', 'go', 'zeromq']   \n",
              "3                                               ['agda']   \n",
              "4      ['3d', 'computer-vision', 'point-clouds', 'vis...   \n",
              "...                                                  ...   \n",
              "22118                     ['powershell', 'azure-devops']   \n",
              "22119       ['c++', 'struct', 'nested', 'inner-classes']   \n",
              "22120  ['django', 'django-models', 'django-views', 'd...   \n",
              "22121            ['fortran', 'linker-errors', 'openacc']   \n",
              "22122  ['reactjs', 'user-interface', 'mobile', 'native']   \n",
              "\n",
              "                                                    text  \n",
              "0      your browser version is not supported using sy...  \n",
              "1      how to get button text value in java I want to...  \n",
              "2      How to make sure communication is stable when ...  \n",
              "3      Cubical Agda Inclusion Order I'm almost finish...  \n",
              "4      How to convert depth map to image(.png) format...  \n",
              "...                                                  ...  \n",
              "22118  SqlAzureDacpacDeployment@1 - parameter problem...  \n",
              "22119  How do I instantiate structs inside a nested c...  \n",
              "22120  How to reverse_lazy user in template view's ge...  \n",
              "22121  \"undefined reference to `GOACC_parallel_keyed'...  \n",
              "22122  How to learn React native [closed] Closed. Thi...  \n",
              "\n",
              "[22123 rows x 5 columns]"
            ],
            "text/html": [
              "\n",
              "  <div id=\"df-3216421b-e8fd-4173-8343-b15b9ce73cb4\" class=\"colab-df-container\">\n",
              "    <div>\n",
              "<style scoped>\n",
              "    .dataframe tbody tr th:only-of-type {\n",
              "        vertical-align: middle;\n",
              "    }\n",
              "\n",
              "    .dataframe tbody tr th {\n",
              "        vertical-align: top;\n",
              "    }\n",
              "\n",
              "    .dataframe thead th {\n",
              "        text-align: right;\n",
              "    }\n",
              "</style>\n",
              "<table border=\"1\" class=\"dataframe\">\n",
              "  <thead>\n",
              "    <tr style=\"text-align: right;\">\n",
              "      <th></th>\n",
              "      <th>Title</th>\n",
              "      <th>URL</th>\n",
              "      <th>Question</th>\n",
              "      <th>Categories</th>\n",
              "      <th>text</th>\n",
              "    </tr>\n",
              "  </thead>\n",
              "  <tbody>\n",
              "    <tr>\n",
              "      <th>0</th>\n",
              "      <td>your browser version is not supported using sy...</td>\n",
              "      <td>https://stackoverflow.com/questions/76981459/y...</td>\n",
              "      <td>I'm trying to automate some features and I nee...</td>\n",
              "      <td>['php', 'symfony', 'web-scraping']</td>\n",
              "      <td>your browser version is not supported using sy...</td>\n",
              "    </tr>\n",
              "    <tr>\n",
              "      <th>1</th>\n",
              "      <td>how to get button text value in java</td>\n",
              "      <td>https://stackoverflow.com/questions/76981456/h...</td>\n",
              "      <td>I want to get button text value to do the on c...</td>\n",
              "      <td>['java', 'button']</td>\n",
              "      <td>how to get button text value in java I want to...</td>\n",
              "    </tr>\n",
              "    <tr>\n",
              "      <th>2</th>\n",
              "      <td>How to make sure communication is stable when ...</td>\n",
              "      <td>https://stackoverflow.com/questions/76981455/h...</td>\n",
              "      <td>This is my Node codeasync function runClient()...</td>\n",
              "      <td>['javascript', 'node.js', 'go', 'zeromq']</td>\n",
              "      <td>How to make sure communication is stable when ...</td>\n",
              "    </tr>\n",
              "    <tr>\n",
              "      <th>3</th>\n",
              "      <td>Cubical Agda Inclusion Order</td>\n",
              "      <td>https://stackoverflow.com/questions/76981453/c...</td>\n",
              "      <td>I'm almost finished defining an Inclusion Orde...</td>\n",
              "      <td>['agda']</td>\n",
              "      <td>Cubical Agda Inclusion Order I'm almost finish...</td>\n",
              "    </tr>\n",
              "    <tr>\n",
              "      <th>4</th>\n",
              "      <td>How to convert depth map to image(.png) format...</td>\n",
              "      <td>https://stackoverflow.com/questions/76981450/h...</td>\n",
              "      <td>I am using a depth camera which captures a 500...</td>\n",
              "      <td>['3d', 'computer-vision', 'point-clouds', 'vis...</td>\n",
              "      <td>How to convert depth map to image(.png) format...</td>\n",
              "    </tr>\n",
              "    <tr>\n",
              "      <th>...</th>\n",
              "      <td>...</td>\n",
              "      <td>...</td>\n",
              "      <td>...</td>\n",
              "      <td>...</td>\n",
              "      <td>...</td>\n",
              "    </tr>\n",
              "    <tr>\n",
              "      <th>22118</th>\n",
              "      <td>SqlAzureDacpacDeployment@1 - parameter problem</td>\n",
              "      <td>https://stackoverflow.com/questions/76933724/s...</td>\n",
              "      <td>I have the following devops task in my pipelin...</td>\n",
              "      <td>['powershell', 'azure-devops']</td>\n",
              "      <td>SqlAzureDacpacDeployment@1 - parameter problem...</td>\n",
              "    </tr>\n",
              "    <tr>\n",
              "      <th>22119</th>\n",
              "      <td>How do I instantiate structs inside a nested c...</td>\n",
              "      <td>https://stackoverflow.com/questions/76933723/h...</td>\n",
              "      <td>So I googled everywhere and cannot get a strai...</td>\n",
              "      <td>['c++', 'struct', 'nested', 'inner-classes']</td>\n",
              "      <td>How do I instantiate structs inside a nested c...</td>\n",
              "    </tr>\n",
              "    <tr>\n",
              "      <th>22120</th>\n",
              "      <td>How to reverse_lazy user in template view's ge...</td>\n",
              "      <td>https://stackoverflow.com/questions/76933722/h...</td>\n",
              "      <td>Does anyone know how I can redirect the user t...</td>\n",
              "      <td>['django', 'django-models', 'django-views', 'd...</td>\n",
              "      <td>How to reverse_lazy user in template view's ge...</td>\n",
              "    </tr>\n",
              "    <tr>\n",
              "      <th>22121</th>\n",
              "      <td>\"undefined reference to `GOACC_parallel_keyed'...</td>\n",
              "      <td>https://stackoverflow.com/questions/76933719/u...</td>\n",
              "      <td>I am working on a project where I have to opti...</td>\n",
              "      <td>['fortran', 'linker-errors', 'openacc']</td>\n",
              "      <td>\"undefined reference to `GOACC_parallel_keyed'...</td>\n",
              "    </tr>\n",
              "    <tr>\n",
              "      <th>22122</th>\n",
              "      <td>How to learn React native [closed]</td>\n",
              "      <td>https://stackoverflow.com/questions/76933718/h...</td>\n",
              "      <td>Closed. This question is seeking recommendatio...</td>\n",
              "      <td>['reactjs', 'user-interface', 'mobile', 'native']</td>\n",
              "      <td>How to learn React native [closed] Closed. Thi...</td>\n",
              "    </tr>\n",
              "  </tbody>\n",
              "</table>\n",
              "<p>22123 rows × 5 columns</p>\n",
              "</div>\n",
              "    <div class=\"colab-df-buttons\">\n",
              "\n",
              "  <div class=\"colab-df-container\">\n",
              "    <button class=\"colab-df-convert\" onclick=\"convertToInteractive('df-3216421b-e8fd-4173-8343-b15b9ce73cb4')\"\n",
              "            title=\"Convert this dataframe to an interactive table.\"\n",
              "            style=\"display:none;\">\n",
              "\n",
              "  <svg xmlns=\"http://www.w3.org/2000/svg\" height=\"24px\" viewBox=\"0 -960 960 960\">\n",
              "    <path d=\"M120-120v-720h720v720H120Zm60-500h600v-160H180v160Zm220 220h160v-160H400v160Zm0 220h160v-160H400v160ZM180-400h160v-160H180v160Zm440 0h160v-160H620v160ZM180-180h160v-160H180v160Zm440 0h160v-160H620v160Z\"/>\n",
              "  </svg>\n",
              "    </button>\n",
              "\n",
              "  <style>\n",
              "    .colab-df-container {\n",
              "      display:flex;\n",
              "      gap: 12px;\n",
              "    }\n",
              "\n",
              "    .colab-df-convert {\n",
              "      background-color: #E8F0FE;\n",
              "      border: none;\n",
              "      border-radius: 50%;\n",
              "      cursor: pointer;\n",
              "      display: none;\n",
              "      fill: #1967D2;\n",
              "      height: 32px;\n",
              "      padding: 0 0 0 0;\n",
              "      width: 32px;\n",
              "    }\n",
              "\n",
              "    .colab-df-convert:hover {\n",
              "      background-color: #E2EBFA;\n",
              "      box-shadow: 0px 1px 2px rgba(60, 64, 67, 0.3), 0px 1px 3px 1px rgba(60, 64, 67, 0.15);\n",
              "      fill: #174EA6;\n",
              "    }\n",
              "\n",
              "    .colab-df-buttons div {\n",
              "      margin-bottom: 4px;\n",
              "    }\n",
              "\n",
              "    [theme=dark] .colab-df-convert {\n",
              "      background-color: #3B4455;\n",
              "      fill: #D2E3FC;\n",
              "    }\n",
              "\n",
              "    [theme=dark] .colab-df-convert:hover {\n",
              "      background-color: #434B5C;\n",
              "      box-shadow: 0px 1px 3px 1px rgba(0, 0, 0, 0.15);\n",
              "      filter: drop-shadow(0px 1px 2px rgba(0, 0, 0, 0.3));\n",
              "      fill: #FFFFFF;\n",
              "    }\n",
              "  </style>\n",
              "\n",
              "    <script>\n",
              "      const buttonEl =\n",
              "        document.querySelector('#df-3216421b-e8fd-4173-8343-b15b9ce73cb4 button.colab-df-convert');\n",
              "      buttonEl.style.display =\n",
              "        google.colab.kernel.accessAllowed ? 'block' : 'none';\n",
              "\n",
              "      async function convertToInteractive(key) {\n",
              "        const element = document.querySelector('#df-3216421b-e8fd-4173-8343-b15b9ce73cb4');\n",
              "        const dataTable =\n",
              "          await google.colab.kernel.invokeFunction('convertToInteractive',\n",
              "                                                    [key], {});\n",
              "        if (!dataTable) return;\n",
              "\n",
              "        const docLinkHtml = 'Like what you see? Visit the ' +\n",
              "          '<a target=\"_blank\" href=https://colab.research.google.com/notebooks/data_table.ipynb>data table notebook</a>'\n",
              "          + ' to learn more about interactive tables.';\n",
              "        element.innerHTML = '';\n",
              "        dataTable['output_type'] = 'display_data';\n",
              "        await google.colab.output.renderOutput(dataTable, element);\n",
              "        const docLink = document.createElement('div');\n",
              "        docLink.innerHTML = docLinkHtml;\n",
              "        element.appendChild(docLink);\n",
              "      }\n",
              "    </script>\n",
              "  </div>\n",
              "\n",
              "\n",
              "    <div id=\"df-61c86ace-ec2c-4d42-a0f8-14233de4e296\">\n",
              "      <button class=\"colab-df-quickchart\" onclick=\"quickchart('df-61c86ace-ec2c-4d42-a0f8-14233de4e296')\"\n",
              "                title=\"Suggest charts\"\n",
              "                style=\"display:none;\">\n",
              "\n",
              "<svg xmlns=\"http://www.w3.org/2000/svg\" height=\"24px\"viewBox=\"0 0 24 24\"\n",
              "     width=\"24px\">\n",
              "    <g>\n",
              "        <path d=\"M19 3H5c-1.1 0-2 .9-2 2v14c0 1.1.9 2 2 2h14c1.1 0 2-.9 2-2V5c0-1.1-.9-2-2-2zM9 17H7v-7h2v7zm4 0h-2V7h2v10zm4 0h-2v-4h2v4z\"/>\n",
              "    </g>\n",
              "</svg>\n",
              "      </button>\n",
              "\n",
              "<style>\n",
              "  .colab-df-quickchart {\n",
              "      --bg-color: #E8F0FE;\n",
              "      --fill-color: #1967D2;\n",
              "      --hover-bg-color: #E2EBFA;\n",
              "      --hover-fill-color: #174EA6;\n",
              "      --disabled-fill-color: #AAA;\n",
              "      --disabled-bg-color: #DDD;\n",
              "  }\n",
              "\n",
              "  [theme=dark] .colab-df-quickchart {\n",
              "      --bg-color: #3B4455;\n",
              "      --fill-color: #D2E3FC;\n",
              "      --hover-bg-color: #434B5C;\n",
              "      --hover-fill-color: #FFFFFF;\n",
              "      --disabled-bg-color: #3B4455;\n",
              "      --disabled-fill-color: #666;\n",
              "  }\n",
              "\n",
              "  .colab-df-quickchart {\n",
              "    background-color: var(--bg-color);\n",
              "    border: none;\n",
              "    border-radius: 50%;\n",
              "    cursor: pointer;\n",
              "    display: none;\n",
              "    fill: var(--fill-color);\n",
              "    height: 32px;\n",
              "    padding: 0;\n",
              "    width: 32px;\n",
              "  }\n",
              "\n",
              "  .colab-df-quickchart:hover {\n",
              "    background-color: var(--hover-bg-color);\n",
              "    box-shadow: 0 1px 2px rgba(60, 64, 67, 0.3), 0 1px 3px 1px rgba(60, 64, 67, 0.15);\n",
              "    fill: var(--button-hover-fill-color);\n",
              "  }\n",
              "\n",
              "  .colab-df-quickchart-complete:disabled,\n",
              "  .colab-df-quickchart-complete:disabled:hover {\n",
              "    background-color: var(--disabled-bg-color);\n",
              "    fill: var(--disabled-fill-color);\n",
              "    box-shadow: none;\n",
              "  }\n",
              "\n",
              "  .colab-df-spinner {\n",
              "    border: 2px solid var(--fill-color);\n",
              "    border-color: transparent;\n",
              "    border-bottom-color: var(--fill-color);\n",
              "    animation:\n",
              "      spin 1s steps(1) infinite;\n",
              "  }\n",
              "\n",
              "  @keyframes spin {\n",
              "    0% {\n",
              "      border-color: transparent;\n",
              "      border-bottom-color: var(--fill-color);\n",
              "      border-left-color: var(--fill-color);\n",
              "    }\n",
              "    20% {\n",
              "      border-color: transparent;\n",
              "      border-left-color: var(--fill-color);\n",
              "      border-top-color: var(--fill-color);\n",
              "    }\n",
              "    30% {\n",
              "      border-color: transparent;\n",
              "      border-left-color: var(--fill-color);\n",
              "      border-top-color: var(--fill-color);\n",
              "      border-right-color: var(--fill-color);\n",
              "    }\n",
              "    40% {\n",
              "      border-color: transparent;\n",
              "      border-right-color: var(--fill-color);\n",
              "      border-top-color: var(--fill-color);\n",
              "    }\n",
              "    60% {\n",
              "      border-color: transparent;\n",
              "      border-right-color: var(--fill-color);\n",
              "    }\n",
              "    80% {\n",
              "      border-color: transparent;\n",
              "      border-right-color: var(--fill-color);\n",
              "      border-bottom-color: var(--fill-color);\n",
              "    }\n",
              "    90% {\n",
              "      border-color: transparent;\n",
              "      border-bottom-color: var(--fill-color);\n",
              "    }\n",
              "  }\n",
              "</style>\n",
              "\n",
              "      <script>\n",
              "        async function quickchart(key) {\n",
              "          const quickchartButtonEl =\n",
              "            document.querySelector('#' + key + ' button');\n",
              "          quickchartButtonEl.disabled = true;  // To prevent multiple clicks.\n",
              "          quickchartButtonEl.classList.add('colab-df-spinner');\n",
              "          try {\n",
              "            const charts = await google.colab.kernel.invokeFunction(\n",
              "                'suggestCharts', [key], {});\n",
              "          } catch (error) {\n",
              "            console.error('Error during call to suggestCharts:', error);\n",
              "          }\n",
              "          quickchartButtonEl.classList.remove('colab-df-spinner');\n",
              "          quickchartButtonEl.classList.add('colab-df-quickchart-complete');\n",
              "        }\n",
              "        (() => {\n",
              "          let quickchartButtonEl =\n",
              "            document.querySelector('#df-61c86ace-ec2c-4d42-a0f8-14233de4e296 button');\n",
              "          quickchartButtonEl.style.display =\n",
              "            google.colab.kernel.accessAllowed ? 'block' : 'none';\n",
              "        })();\n",
              "      </script>\n",
              "    </div>\n",
              "    </div>\n",
              "  </div>\n"
            ],
            "application/vnd.google.colaboratory.intrinsic+json": {
              "type": "dataframe",
              "variable_name": "df",
              "summary": "{\n  \"name\": \"df\",\n  \"rows\": 22123,\n  \"fields\": [\n    {\n      \"column\": \"Title\",\n      \"properties\": {\n        \"dtype\": \"string\",\n        \"num_unique_values\": 22122,\n        \"samples\": [\n          \"How can I record and replay MongoDB requests?\",\n          \"Dataflow Flex template while running throwing error for all default parameters\",\n          \"Trying to use multiple alias to create a new column [duplicate]\"\n        ],\n        \"semantic_type\": \"\",\n        \"description\": \"\"\n      }\n    },\n    {\n      \"column\": \"URL\",\n      \"properties\": {\n        \"dtype\": \"string\",\n        \"num_unique_values\": 22123,\n        \"samples\": [\n          \"https://stackoverflow.com/questions/76975806/how-can-i-record-and-replay-mongodb-requests\",\n          \"https://stackoverflow.com/questions/76940189/dataflow-flex-template-while-running-throwing-error-for-all-default-parameters\",\n          \"https://stackoverflow.com/questions/76950125/trying-to-use-multiple-alias-to-create-a-new-column\"\n        ],\n        \"semantic_type\": \"\",\n        \"description\": \"\"\n      }\n    },\n    {\n      \"column\": \"Question\",\n      \"properties\": {\n        \"dtype\": \"string\",\n        \"num_unique_values\": 22083,\n        \"samples\": [\n          \"I'm using QgsQuick in one of my development projects.I use QGIS Desktop to setup my map environment(.qgs file). When running my project using QgsQuick, it seems that the raster image layers are always rendered on top of the vector layers. Even though I've set the rendering order in QGIS Desktop so that the vector layers should show on top.Has anyone had this issue?I've seen this issue with qgis 3.4.4 and version 3.22. Same issue on Windows and Linux.Is the QgsQuick tool still being maintained by QGIS?Do anyone know if the QgsQuick qml tool is widely used?I've tried it on windows and Linux.When opening my development project without making use of the QgsQuick, It runs correctly.Any help would be appreciated.Pieter\",\n          \"I am working on an Orbeon form where the user needs to confirm the values of some input fields before being allowed to send in the form. The confirmation uses single checkboxes to allow different error messages.The number formatting throughout the form is with comma as decimal separator and point as thousands separator.Now, when I add the needed cell names as template parameters to a label to a single checkbox, the number from the cell is shown with point as decimal separator and no thousands separator, even though it is shown correctly in the original field and in the pdf?So, how can I change this formatting of the number in a template parameter?I tried format-number(//cell,\\\"99.999,00\\\") in the template parameter.I also tried converting the number to a string and replace the point with a comma. It just seems like there must be a simpler solution\",\n          \"Closed. This question is not written in English. It is not currently accepting answers.Stack Overflow is an English-only site. The author must be able to communicate in English to understand and engage with any comments and/or answers their question receives. Don't translate this post for the author; machine translations can be inaccurate, and even human translations can alter the intended meaning of the post.Closed 16 hours ago.Improve this questionSalut, j'utilise GPT-4 et depuis 4 jours voici le probl\\u00e8me que je rencontre:Erreur d'application : une exception c\\u00f4t\\u00e9 client s'est produite (voir la console du navigateur pour plus d'informations)en consultant la console de mon navigateur qui est google chrome, voici les premi\\u00e8res lignes d'erreur qui s'affichent :\\\"general.js:102 Only one LaunchDarklyClient can exist at a time, but another client already exists. This probably means something has gone wrong with our DI system, or we're using it incorrectly. d @ general.js:102 Show 1 more frame Show less 24_app-ddf4d3f1671bd1f5.js:28 DOMException: Failed to execute 'insertBefore' on 'Node': The node before which the new node is to be inserted is not a child of this node. at e (https://chat.openai.com/_next/static/chunks/framework-10a404587b40544b.js:9:89708)\\\"que faire dans ce cas?j'ai tout essay\\u00e9 rien a abouti. aidez moi \\u00e0 r\\u00e9soudre ce probl\\u00e8me\"\n        ],\n        \"semantic_type\": \"\",\n        \"description\": \"\"\n      }\n    },\n    {\n      \"column\": \"Categories\",\n      \"properties\": {\n        \"dtype\": \"string\",\n        \"num_unique_values\": 18106,\n        \"samples\": [\n          \"['java', 'elasticsearch']\",\n          \"['css', 'msbuild', 'blazor', 'isolation']\",\n          \"['powershell', 'go', 'exec']\"\n        ],\n        \"semantic_type\": \"\",\n        \"description\": \"\"\n      }\n    },\n    {\n      \"column\": \"text\",\n      \"properties\": {\n        \"dtype\": \"string\",\n        \"num_unique_values\": 22123,\n        \"samples\": [\n          \"How can I record and replay MongoDB requests? I'm writing integration tests for a Go program that queries a MongoDB cluster using Mongo Go Driver. I'd like to record those requests and later replay them in the tests.Is there a library that I could use? I'm currently familiar with 2 similar libraries, but those are used for different purposes:https://github.com/google/go-replayershttps://github.com/cockroachdb/copyistAny help would be appreciated. Thank you.\",\n          \"Dataflow Flex template while running throwing error for all default parameters I have created a flex template for dataflow and it got build using gcloud successfully but while running the template, it is throwing the error for all default parameters that are supposed to be taken directly from gcloud run command. Below is the error:java.lang.IllegalArgumentException: Class interface org.ccm.templates.MongoDbToBigQuery$Options missing a property named 'serviceAccount'.I am using google provided docker image only i.e. java11.Command for gcloud build:gcloud dataflow flex-template build gs://hdfc-ergo-artifacts/templates_m/Flex/flextemplate.json \\\\ --image-gcr-path=asia-south1-docker.pkg.dev/prj-srv/mongodbtobigquery-flex/dataflow/flextemplate:latest \\\\ --sdk-language=JAVA \\\\ --flex-template-base-image=JAVA11 \\\\ --metadata-file=src/main/java/org/metadata/mongodb-to-bigquery-image-spec-metadata.json \\\\ --jar=target/dynamic-templates-1.0-SNAPSHOT-jar-with-dependencies.jar \\\\  --env=FLEX_TEMPLATE_JAVA_MAIN_CLASS=org.templates.MongoDbToBigQuery \\\\  --worker-region=asia-south1 \\\\  --dataflow-kms-key=projects/prj-shared/locations/asia-south1/keyRings \\\\ --service-account-email=service-account-email\\\\ --subnetwork=https://www.googleapis.com/compute/projects/prj-shared/regions/asia-south1/subnetworks \\\\  --temp-location=gs://fromMongo_Dir1/ --staging-location=gs://MongoDbToBigQuery_Stage/ \\\\ --disable-public-ips\",\n          \"Trying to use multiple alias to create a new column [duplicate] I have a lots of calculated columns and they keep repeating themselves, one inside of the others, including nested cases statements.There is a really simplified version of something that I've searching a way to do.SELECT     (1+2) AS A,     A + 3 AS B,     B * 7 AS C FROM MYTABLE\"\n        ],\n        \"semantic_type\": \"\",\n        \"description\": \"\"\n      }\n    }\n  ]\n}"
            }
          },
          "metadata": {},
          "execution_count": 4
        }
      ]
    },
    {
      "cell_type": "markdown",
      "source": [
        "# K-means"
      ],
      "metadata": {
        "id": "9ZICIkTUQlLn"
      }
    },
    {
      "cell_type": "markdown",
      "source": [
        "## a. Векторизуйте исходные тексты без предварительной обработки тремя способами"
      ],
      "metadata": {
        "id": "LzRtEASUWZeh"
      }
    },
    {
      "cell_type": "code",
      "source": [
        "from sklearn.feature_extraction.text import TfidfVectorizer, CountVectorizer"
      ],
      "metadata": {
        "id": "LOvBbgzCEoGW"
      },
      "execution_count": 5,
      "outputs": []
    },
    {
      "cell_type": "code",
      "source": [
        "# @title Векторизуем text с помощью CountVectorizer\n",
        "countvec = CountVectorizer()\n",
        "\n",
        "X_count = countvec.fit_transform(df['text'])"
      ],
      "metadata": {
        "id": "-pWGoSdOE7hu"
      },
      "execution_count": 6,
      "outputs": []
    },
    {
      "cell_type": "code",
      "source": [
        "# @title Векторизуем text с помощью TfidfVectorizer\n",
        "tfidfvec = TfidfVectorizer()\n",
        "\n",
        "X_tfidf = tfidfvec.fit_transform(df['text'])"
      ],
      "metadata": {
        "id": "duI6Asq7FCJm"
      },
      "execution_count": 7,
      "outputs": []
    },
    {
      "cell_type": "markdown",
      "source": [
        "TF-IDF мера позволяет понять, насколько слово \"важно\"/информативно в конкретном тексте. Если слово встречается в большом количестве документов (например, союзы, артикли, местоимения), оно не так важно, как то, которое встречается в меньшем количестве документов.\n",
        "\n",
        "$tfidf = \\frac{term frequency}{document frequency}$, где\n",
        "\n",
        "`term frequency` - количество раз, слово встретилось в документе\n",
        "\n",
        "`document frequency` - количество документов, в котором есть хотя бы одно употребление слова\n",
        "\n",
        "По умолчанию в sklearn\n",
        "\n",
        "$tf(t,d) = count(t,d)$\n",
        "\n",
        "$idf(t) = log [ \\frac{n}{df(t)} ] + 1$"
      ],
      "metadata": {
        "id": "RcPR6xiMFpcx"
      }
    },
    {
      "cell_type": "markdown",
      "source": [
        "### Векторизируем с помощью Glove"
      ],
      "metadata": {
        "id": "RjvvHjdnsHJr"
      }
    },
    {
      "cell_type": "code",
      "source": [
        "!wget http://nlp.stanford.edu/data/glove.6B.zip"
      ],
      "metadata": {
        "colab": {
          "base_uri": "https://localhost:8080/"
        },
        "id": "9wVvxN-smit7",
        "outputId": "da84a847-b7b5-43fc-d702-6fd8165d1749"
      },
      "execution_count": 8,
      "outputs": [
        {
          "output_type": "stream",
          "name": "stdout",
          "text": [
            "--2025-05-05 18:40:07--  http://nlp.stanford.edu/data/glove.6B.zip\n",
            "Resolving nlp.stanford.edu (nlp.stanford.edu)... 171.64.67.140\n",
            "Connecting to nlp.stanford.edu (nlp.stanford.edu)|171.64.67.140|:80... connected.\n",
            "HTTP request sent, awaiting response... 302 Found\n",
            "Location: https://nlp.stanford.edu/data/glove.6B.zip [following]\n",
            "--2025-05-05 18:40:07--  https://nlp.stanford.edu/data/glove.6B.zip\n",
            "Connecting to nlp.stanford.edu (nlp.stanford.edu)|171.64.67.140|:443... connected.\n",
            "HTTP request sent, awaiting response... 301 Moved Permanently\n",
            "Location: https://downloads.cs.stanford.edu/nlp/data/glove.6B.zip [following]\n",
            "--2025-05-05 18:40:07--  https://downloads.cs.stanford.edu/nlp/data/glove.6B.zip\n",
            "Resolving downloads.cs.stanford.edu (downloads.cs.stanford.edu)... 171.64.64.22\n",
            "Connecting to downloads.cs.stanford.edu (downloads.cs.stanford.edu)|171.64.64.22|:443... connected.\n",
            "HTTP request sent, awaiting response... 200 OK\n",
            "Length: 862182613 (822M) [application/zip]\n",
            "Saving to: ‘glove.6B.zip.3’\n",
            "\n",
            "glove.6B.zip.3      100%[===================>] 822.24M  5.01MB/s    in 2m 39s  \n",
            "\n",
            "2025-05-05 18:42:46 (5.18 MB/s) - ‘glove.6B.zip.3’ saved [862182613/862182613]\n",
            "\n"
          ]
        }
      ]
    },
    {
      "cell_type": "code",
      "source": [
        "!unzip glove.6B.zip"
      ],
      "metadata": {
        "colab": {
          "base_uri": "https://localhost:8080/"
        },
        "id": "uU1GksMxmlEI",
        "outputId": "e84ee988-2db9-40d5-ff20-52ff6b37434e"
      },
      "execution_count": 9,
      "outputs": [
        {
          "output_type": "stream",
          "name": "stdout",
          "text": [
            "Archive:  glove.6B.zip\n",
            "replace glove.6B.50d.txt? [y]es, [n]o, [A]ll, [N]one, [r]ename: n\n",
            "replace glove.6B.100d.txt? [y]es, [n]o, [A]ll, [N]one, [r]ename: n\n",
            "replace glove.6B.200d.txt? [y]es, [n]o, [A]ll, [N]one, [r]ename: n\n",
            "replace glove.6B.300d.txt? [y]es, [n]o, [A]ll, [N]one, [r]ename: n\n"
          ]
        }
      ]
    },
    {
      "cell_type": "code",
      "source": [
        "from gensim.scripts.glove2word2vec import glove2word2vec\n",
        "from gensim.models import KeyedVectors\n",
        "\n",
        "# Путь к файлу GloVe\n",
        "glove_file = 'glove.6B.100d.txt'  # пример файла\n",
        "word2vec_output_file = 'glove.6B.100d.word2vec'\n",
        "\n",
        "# конвертация файла GloVe в формат, совместимый с gensim\n",
        "glove2word2vec(glove_file, word2vec_output_file)"
      ],
      "metadata": {
        "colab": {
          "base_uri": "https://localhost:8080/"
        },
        "id": "pLlRHZXTWdsL",
        "outputId": "ac1dbeca-918a-4f02-d7bd-76817ec699cd"
      },
      "execution_count": 10,
      "outputs": [
        {
          "output_type": "stream",
          "name": "stderr",
          "text": [
            "<ipython-input-10-8d4b9f5ce4f4>:9: DeprecationWarning: Call to deprecated `glove2word2vec` (KeyedVectors.load_word2vec_format(.., binary=False, no_header=True) loads GLoVE text vectors.).\n",
            "  glove2word2vec(glove_file, word2vec_output_file)\n"
          ]
        },
        {
          "output_type": "execute_result",
          "data": {
            "text/plain": [
              "(400000, 100)"
            ]
          },
          "metadata": {},
          "execution_count": 10
        }
      ]
    },
    {
      "cell_type": "code",
      "source": [
        "# load the Stanford GloVe model\n",
        "filename = 'glove.6B.100d.word2vec'\n",
        "model = KeyedVectors.load_word2vec_format(filename, binary=False)\n",
        "# calculate: (king - man) + woman = ?\n",
        "result = model.most_similar(positive=['woman', 'king'], negative=['man'], topn=1)\n",
        "print(result)"
      ],
      "metadata": {
        "colab": {
          "base_uri": "https://localhost:8080/"
        },
        "id": "FxvizVtbpHRi",
        "outputId": "2ada7a80-ca28-45a2-8b16-fbf5356e97f2"
      },
      "execution_count": 11,
      "outputs": [
        {
          "output_type": "stream",
          "name": "stdout",
          "text": [
            "[('queen', 0.7698540687561035)]\n"
          ]
        }
      ]
    },
    {
      "cell_type": "code",
      "source": [
        "import re\n",
        "from string import punctuation\n",
        "import numpy as np\n",
        "\n",
        "def preprocess(text):\n",
        "    tokens = text.lower().split()\n",
        "    tokens = [token.strip(punctuation) for token in tokens]\n",
        "    return tokens\n",
        "\n",
        "def get_glove_vec(text):\n",
        "  tokens = preprocess(text)\n",
        "  res = []\n",
        "  for t in tokens:\n",
        "    try:\n",
        "      res.append(model[t])\n",
        "    except KeyError:\n",
        "      pass\n",
        "  return np.mean(res)"
      ],
      "metadata": {
        "id": "lXZZDiritVae"
      },
      "execution_count": 12,
      "outputs": []
    },
    {
      "cell_type": "code",
      "source": [
        "X_glove = df['text'].apply(get_glove_vec)\n",
        "X_glove"
      ],
      "metadata": {
        "colab": {
          "base_uri": "https://localhost:8080/",
          "height": 458
        },
        "id": "gQ1RhePfq9gd",
        "outputId": "32d40faf-9e08-4650-feb7-5a739c53fa45"
      },
      "execution_count": 13,
      "outputs": [
        {
          "output_type": "execute_result",
          "data": {
            "text/plain": [
              "0       -0.009162\n",
              "1       -0.024973\n",
              "2       -0.013194\n",
              "3        0.009674\n",
              "4       -0.005988\n",
              "           ...   \n",
              "22118    0.005909\n",
              "22119   -0.001465\n",
              "22120   -0.024612\n",
              "22121   -0.010669\n",
              "22122   -0.026666\n",
              "Name: text, Length: 22123, dtype: float32"
            ],
            "text/html": [
              "<div>\n",
              "<style scoped>\n",
              "    .dataframe tbody tr th:only-of-type {\n",
              "        vertical-align: middle;\n",
              "    }\n",
              "\n",
              "    .dataframe tbody tr th {\n",
              "        vertical-align: top;\n",
              "    }\n",
              "\n",
              "    .dataframe thead th {\n",
              "        text-align: right;\n",
              "    }\n",
              "</style>\n",
              "<table border=\"1\" class=\"dataframe\">\n",
              "  <thead>\n",
              "    <tr style=\"text-align: right;\">\n",
              "      <th></th>\n",
              "      <th>text</th>\n",
              "    </tr>\n",
              "  </thead>\n",
              "  <tbody>\n",
              "    <tr>\n",
              "      <th>0</th>\n",
              "      <td>-0.009162</td>\n",
              "    </tr>\n",
              "    <tr>\n",
              "      <th>1</th>\n",
              "      <td>-0.024973</td>\n",
              "    </tr>\n",
              "    <tr>\n",
              "      <th>2</th>\n",
              "      <td>-0.013194</td>\n",
              "    </tr>\n",
              "    <tr>\n",
              "      <th>3</th>\n",
              "      <td>0.009674</td>\n",
              "    </tr>\n",
              "    <tr>\n",
              "      <th>4</th>\n",
              "      <td>-0.005988</td>\n",
              "    </tr>\n",
              "    <tr>\n",
              "      <th>...</th>\n",
              "      <td>...</td>\n",
              "    </tr>\n",
              "    <tr>\n",
              "      <th>22118</th>\n",
              "      <td>0.005909</td>\n",
              "    </tr>\n",
              "    <tr>\n",
              "      <th>22119</th>\n",
              "      <td>-0.001465</td>\n",
              "    </tr>\n",
              "    <tr>\n",
              "      <th>22120</th>\n",
              "      <td>-0.024612</td>\n",
              "    </tr>\n",
              "    <tr>\n",
              "      <th>22121</th>\n",
              "      <td>-0.010669</td>\n",
              "    </tr>\n",
              "    <tr>\n",
              "      <th>22122</th>\n",
              "      <td>-0.026666</td>\n",
              "    </tr>\n",
              "  </tbody>\n",
              "</table>\n",
              "<p>22123 rows × 1 columns</p>\n",
              "</div><br><label><b>dtype:</b> float32</label>"
            ]
          },
          "metadata": {},
          "execution_count": 13
        }
      ]
    },
    {
      "cell_type": "markdown",
      "source": [
        "## Определяем количество кластеров"
      ],
      "metadata": {
        "id": "Svy-A4zl1z6U"
      }
    },
    {
      "cell_type": "code",
      "source": [
        "# @title Вычисляем количество уникальных категорий просто из любопытства\n",
        "import itertools\n",
        "import ast\n",
        "categories = df['Categories'].apply(ast.literal_eval).to_list()\n",
        "merged = set(itertools.chain(*categories))"
      ],
      "metadata": {
        "id": "DuSpEZC5zWGl"
      },
      "execution_count": 14,
      "outputs": []
    },
    {
      "cell_type": "code",
      "source": [
        "len(merged)"
      ],
      "metadata": {
        "colab": {
          "base_uri": "https://localhost:8080/"
        },
        "id": "WXaG6jTlztq2",
        "outputId": "ef85cc12-139a-49a2-802c-d7be38f10b22"
      },
      "execution_count": 15,
      "outputs": [
        {
          "output_type": "execute_result",
          "data": {
            "text/plain": [
              "10634"
            ]
          },
          "metadata": {},
          "execution_count": 15
        }
      ]
    },
    {
      "cell_type": "code",
      "source": [
        "# @title Уменьшем размерность датасетов X_tfidf и X_count\n",
        "from sklearn.decomposition import PCA\n",
        "pca_2 = PCA(2) # задали количество компонент\n",
        "\n",
        "X_tfidf_pca2 = pca_2.fit_transform(X_tfidf)\n",
        "\n",
        "X_tfidf_pca2.shape # массив длиной в кол-во строк датасета и шириной по числу компонент"
      ],
      "metadata": {
        "colab": {
          "base_uri": "https://localhost:8080/"
        },
        "id": "nyVQHr5d96-6",
        "outputId": "962b59ac-043e-4e98-da5f-b19e36099a9e"
      },
      "execution_count": 16,
      "outputs": [
        {
          "output_type": "execute_result",
          "data": {
            "text/plain": [
              "(22123, 2)"
            ]
          },
          "metadata": {},
          "execution_count": 16
        }
      ]
    },
    {
      "cell_type": "code",
      "source": [
        "X_count_pca2 = pca_2.fit_transform(X_count)\n",
        "\n",
        "X_count_pca2.shape # массив длиной в кол-во строк датасета и шириной по числу компонент"
      ],
      "metadata": {
        "colab": {
          "base_uri": "https://localhost:8080/"
        },
        "id": "UH15A45EARx3",
        "outputId": "873d3dde-353b-4d5f-90f3-2488c416b24a"
      },
      "execution_count": 17,
      "outputs": [
        {
          "output_type": "execute_result",
          "data": {
            "text/plain": [
              "(22123, 2)"
            ]
          },
          "metadata": {},
          "execution_count": 17
        }
      ]
    },
    {
      "cell_type": "code",
      "source": [
        "# @title Вычисляем инерцию для разного количества кластеров (от 2 до 20) X_count\n",
        "\n",
        "# https://scikit-learn.org/stable/modules/clustering.html#k-means\n",
        "\n",
        "import sklearn.cluster as cluster\n",
        "from tqdm import tqdm\n",
        "\n",
        "# inertia = {} # сюда будем сохранять значения\n",
        "inertia_count = []\n",
        "for i in tqdm(range(2,22)): # значения интервала - число кластеров (можно изменять)\n",
        "\n",
        "    kmeans = cluster.KMeans(\n",
        "               n_clusters=i, # инициализируем модель\n",
        "               init='k-means++', # метод, как разбросать центры среди данных\n",
        "               n_init=15, # сколько раз будем переопределять центры (в результате выберем самый успешный)\n",
        "               max_iter=500, # количество итераций а один проход алгоритма\n",
        "               random_state=17 # сколько раз датасет перемешан перед кластеризацией\n",
        "    )\n",
        "\n",
        "\n",
        "    kmeans.fit(X_count_pca2) # обучаем модель\n",
        "    inertia_count.append(kmeans.inertia_) # добавляем значения инерции для каждого числа кластеров\n",
        "    # inertia.update({i:kmeans.inertia_})\n",
        "\n",
        "# print(inertia)"
      ],
      "metadata": {
        "colab": {
          "base_uri": "https://localhost:8080/"
        },
        "id": "VsFOjx7rABna",
        "outputId": "1fbf8912-8283-43eb-d9d3-19653df593d4"
      },
      "execution_count": 18,
      "outputs": [
        {
          "output_type": "stream",
          "name": "stderr",
          "text": [
            "100%|██████████| 20/20 [00:11<00:00,  1.75it/s]\n"
          ]
        }
      ]
    },
    {
      "cell_type": "code",
      "source": [
        "# @title Вычисляем силуэт для разного количества кластеров (от 2 до 20) для X_count\n",
        "from sklearn.metrics import silhouette_score\n",
        "\n",
        "# все как в предыдущей ячейке, только силуэт-скоры сохраняем как значения в словаре\n",
        "silhouette_count = {}\n",
        "for i in tqdm(range(2,22)):\n",
        "    kmeans = cluster.KMeans(n_clusters=i,\n",
        "               init='k-means++',\n",
        "               n_init=15,\n",
        "               max_iter=500,\n",
        "               random_state=17)\n",
        "    kmeans.fit(X_count_pca2)\n",
        "\n",
        "    silhouette_count[i] = silhouette_score(X_count_pca2, kmeans.labels_, metric='euclidean')"
      ],
      "metadata": {
        "colab": {
          "base_uri": "https://localhost:8080/"
        },
        "id": "SgrN0zCnBjdy",
        "outputId": "c0916568-163a-47ab-bfea-e455ff33e947"
      },
      "execution_count": 19,
      "outputs": [
        {
          "output_type": "stream",
          "name": "stderr",
          "text": [
            "100%|██████████| 20/20 [02:43<00:00,  8.19s/it]\n"
          ]
        }
      ]
    },
    {
      "cell_type": "code",
      "source": [
        "# @title Визуализируем\n",
        "import seaborn as sns\n",
        "import matplotlib.pyplot as plt\n",
        "\n",
        "sns.set(font_scale=1, rc={'figure.figsize':(10,8)})\n",
        "# fig, axes = plt.subplots(ncols=2, nrows=3, figsize=(10,5))\n",
        "\n",
        "# CountVectorizer\n",
        "plt.subplot(3, 2, 1) # аргументы: nrows, ncols, index\n",
        "\n",
        "plt.plot(range(2,len(inertia_count)+2), inertia_count, marker='x',color='blue')\n",
        "# первый параметр = x (число шагов= числу кластеров), второй = y (инерция)\n",
        "\n",
        "plt.xlabel('Число кластеров')\n",
        "plt.title('K-means Inertia (CountVectorizer)',fontweight='bold')\n",
        "plt.grid(True)\n",
        "\n",
        "plt.subplot(3, 2, 2) # аргументы: nrows, ncols, index\n",
        "\n",
        "plt.bar(range(len(silhouette_count)), list(silhouette_count.values()), align='center',color= 'blue')\n",
        "plt.xticks(range(len(silhouette_count)), list(silhouette_count.keys())) # отметки на шкале\n",
        "plt.grid(True)\n",
        "plt.title('Silhouette Score (CountVectorizer)',fontweight='bold')\n",
        "plt.xlabel('Число кластеров')"
      ],
      "metadata": {
        "colab": {
          "base_uri": "https://localhost:8080/",
          "height": 325
        },
        "id": "16PGUr8rXK3w",
        "outputId": "e507d51d-ecf4-48c4-8f28-744378a1c6a4"
      },
      "execution_count": 27,
      "outputs": [
        {
          "output_type": "execute_result",
          "data": {
            "text/plain": [
              "Text(0.5, 0, 'Число кластеров')"
            ]
          },
          "metadata": {},
          "execution_count": 27
        },
        {
          "output_type": "display_data",
          "data": {
            "text/plain": [
              "<Figure size 1000x800 with 2 Axes>"
            ],
            "image/png": "[encoded data removed]"
          },
          "metadata": {}
        }
      ]
    },
    {
      "cell_type": "code",
      "source": [
        "# @title Вычисляем инерцию для разного количества кластеров (от 2 до 20) для X_tfidf_pca2\n",
        "\n",
        "# https://scikit-learn.org/stable/modules/clustering.html#k-means\n",
        "\n",
        "import sklearn.cluster as cluster\n",
        "from tqdm import tqdm\n",
        "\n",
        "# inertia = {} # сюда будем сохранять значения\n",
        "inertia_tfidf = []\n",
        "for i in tqdm(range(2,22)): # значения интервала - число кластеров (можно изменять)\n",
        "\n",
        "    kmeans = cluster.KMeans(\n",
        "               n_clusters=i, # инициализируем модель\n",
        "               init='k-means++', # метод, как разбросать центры среди данных\n",
        "               n_init=15, # сколько раз будем переопределять центры (в результате выберем самый успешный)\n",
        "               max_iter=500, # количество итераций а один проход алгоритма\n",
        "               random_state=17 # сколько раз датасет перемешан перед кластеризацией\n",
        "    )\n",
        "\n",
        "\n",
        "    kmeans.fit(X_tfidf_pca2) # обучаем модель\n",
        "    inertia_tfidf.append(kmeans.inertia_) # добавляем значения инерции для каждого числа кластеров\n",
        "    # inertia.update({i:kmeans.inertia_})\n",
        "\n",
        "# print(inertia)"
      ],
      "metadata": {
        "colab": {
          "base_uri": "https://localhost:8080/"
        },
        "id": "UmXLLIvk2AeR",
        "outputId": "947ae6cd-2811-4285-f972-1b76a4eb152a"
      },
      "execution_count": 21,
      "outputs": [
        {
          "output_type": "stream",
          "name": "stderr",
          "text": [
            "100%|██████████| 20/20 [00:22<00:00,  1.13s/it]\n"
          ]
        }
      ]
    },
    {
      "cell_type": "code",
      "source": [
        "# @title Вычисляем силуэт для разного количества кластеров (от 2 до 20) для X_tfidf_pca2\n",
        "from sklearn.metrics import silhouette_score\n",
        "\n",
        "# все как в предыдущей ячейке, только силуэт-скоры сохраняем как значения в словаре\n",
        "silhouette_tfidf = {}\n",
        "for i in tqdm(range(2,22)):\n",
        "    kmeans = cluster.KMeans(n_clusters=i,\n",
        "               init='k-means++',\n",
        "               n_init=15,\n",
        "               max_iter=500,\n",
        "               random_state=17)\n",
        "    kmeans.fit(X_tfidf_pca2)\n",
        "\n",
        "    silhouette_tfidf[i] = silhouette_score(X_tfidf_pca2, kmeans.labels_, metric='euclidean')"
      ],
      "metadata": {
        "colab": {
          "base_uri": "https://localhost:8080/"
        },
        "id": "rwdW6WlWA6y7",
        "outputId": "327e6d29-978d-4a91-838e-cd2268a42939"
      },
      "execution_count": 22,
      "outputs": [
        {
          "output_type": "stream",
          "name": "stderr",
          "text": [
            "100%|██████████| 20/20 [02:42<00:00,  8.10s/it]\n"
          ]
        }
      ]
    },
    {
      "cell_type": "code",
      "source": [
        "# TfIdfVectorizer\n",
        "plt.subplot(3, 2, 3) # аргументы: nrows, ncols, index\n",
        "\n",
        "plt.plot(range(2,len(inertia_tfidf)+2), inertia_tfidf, marker='x',color='blue')\n",
        "# первый параметр = x (число шагов= числу кластеров), второй = y (инерция)\n",
        "\n",
        "plt.xlabel('Число кластеров')\n",
        "plt.title('K-means Inertia (TfIdfVectorizer)',fontweight='bold')\n",
        "plt.grid(True)\n",
        "\n",
        "plt.subplot(3, 2, 4) # аргументы: nrows, ncols, index\n",
        "\n",
        "plt.bar(range(len(silhouette_tfidf)), list(silhouette_tfidf.values()), align='center',color= 'blue')\n",
        "plt.xticks(range(len(silhouette_tfidf)), list(silhouette_tfidf.keys())) # отметки на шкале\n",
        "plt.grid(True)\n",
        "plt.title('Silhouette Score (TfIdfVectorizer)',fontweight='bold')\n",
        "plt.xlabel('Число кластеров')"
      ],
      "metadata": {
        "colab": {
          "base_uri": "https://localhost:8080/",
          "height": 309
        },
        "id": "Ri7rtp1AXi3r",
        "outputId": "0cdad3be-c9b4-46a1-d422-d9ebfc239972"
      },
      "execution_count": 28,
      "outputs": [
        {
          "output_type": "execute_result",
          "data": {
            "text/plain": [
              "Text(0.5, 0, 'Число кластеров')"
            ]
          },
          "metadata": {},
          "execution_count": 28
        },
        {
          "output_type": "display_data",
          "data": {
            "text/plain": [
              "<Figure size 1000x800 with 2 Axes>"
            ],
            "image/png": "[encoded data removed]"
          },
          "metadata": {}
        }
      ]
    },
    {
      "cell_type": "code",
      "source": [
        "# @title Вычисляем инерцию для разного количества кластеров (от 2 до 20) для X_glove\n",
        "\n",
        "# https://scikit-learn.org/stable/modules/clustering.html#k-means\n",
        "\n",
        "import sklearn.cluster as cluster\n",
        "from tqdm import tqdm\n",
        "\n",
        "# inertia = {} # сюда будем сохранять значения\n",
        "inertia_glove = []\n",
        "for i in tqdm(range(2,22)): # значения интервала - число кластеров (можно изменять)\n",
        "\n",
        "    kmeans = cluster.KMeans(\n",
        "               n_clusters=i, # инициализируем модель\n",
        "               init='k-means++', # метод, как разбросать центры среди данных\n",
        "               n_init=15, # сколько раз будем переопределять центры (в результате выберем самый успешный)\n",
        "               max_iter=500, # количество итераций а один проход алгоритма\n",
        "               random_state=17 # сколько раз датасет перемешан перед кластеризацией\n",
        "    )\n",
        "\n",
        "\n",
        "    kmeans.fit(pd.DataFrame(X_glove)) # обучаем модель\n",
        "    inertia_glove.append(kmeans.inertia_) # добавляем значения инерции для каждого числа кластеров\n",
        "    # inertia.update({i:kmeans.inertia_})\n",
        "\n",
        "# print(inertia)"
      ],
      "metadata": {
        "colab": {
          "base_uri": "https://localhost:8080/"
        },
        "id": "pvG2rBev_4tp",
        "outputId": "b5c59faa-a74d-4555-99db-c00c61b0db29"
      },
      "execution_count": 24,
      "outputs": [
        {
          "output_type": "stream",
          "name": "stderr",
          "text": [
            "100%|██████████| 20/20 [00:13<00:00,  1.47it/s]\n"
          ]
        }
      ]
    },
    {
      "cell_type": "code",
      "source": [
        "# @title Вычисляем силуэт для разного количества кластеров (от 2 до 20) для X_glove\n",
        "from sklearn.metrics import silhouette_score\n",
        "\n",
        "# все как в предыдущей ячейке, только силуэт-скоры сохраняем как значения в словаре\n",
        "silhouette_glove = {}\n",
        "for i in tqdm(range(2,22)):\n",
        "    kmeans = cluster.KMeans(n_clusters=i,\n",
        "               init='k-means++',\n",
        "               n_init=15,\n",
        "               max_iter=500,\n",
        "               random_state=17)\n",
        "    kmeans.fit(pd.DataFrame(X_glove))\n",
        "\n",
        "    silhouette_glove[i] = silhouette_score(pd.DataFrame(X_glove), kmeans.labels_, metric='euclidean')"
      ],
      "metadata": {
        "colab": {
          "base_uri": "https://localhost:8080/"
        },
        "id": "EcSY3NxWBclZ",
        "outputId": "b3690309-e594-4b2e-b645-0154d037711d"
      },
      "execution_count": 29,
      "outputs": [
        {
          "output_type": "stream",
          "name": "stderr",
          "text": [
            "100%|██████████| 20/20 [03:20<00:00, 10.01s/it]\n"
          ]
        }
      ]
    },
    {
      "cell_type": "code",
      "source": [
        "# Glove\n",
        "plt.subplot(3, 2, 5) # аргументы: nrows, ncols, index\n",
        "\n",
        "plt.plot(range(2,len(inertia_glove)+2), inertia_glove, marker='x',color='blue')\n",
        "# первый параметр = x (число шагов= числу кластеров), второй = y (инерция)\n",
        "\n",
        "plt.xlabel('Число кластеров')\n",
        "plt.title('K-means Inertia (Glove)',fontweight='bold')\n",
        "plt.grid(True)\n",
        "\n",
        "plt.subplot(3, 2, 6) # аргументы: nrows, ncols, index\n",
        "\n",
        "plt.bar(range(len(silhouette_glove)), list(silhouette_glove.values()), align='center',color= 'blue')\n",
        "plt.xticks(range(len(silhouette_glove)), list(silhouette_glove.keys())) # отметки на шкале\n",
        "plt.grid(True)\n",
        "plt.title('Silhouette Score (Glove)',fontweight='bold')\n",
        "plt.xlabel('Число кластеров')\n",
        "\n",
        "\n",
        "plt.show()"
      ],
      "metadata": {
        "colab": {
          "base_uri": "https://localhost:8080/",
          "height": 292
        },
        "id": "PH1q-FEKBrd3",
        "outputId": "e637e735-ae81-4522-dc1b-6460573aaa88"
      },
      "execution_count": 30,
      "outputs": [
        {
          "output_type": "display_data",
          "data": {
            "text/plain": [
              "<Figure size 1000x800 with 2 Axes>"
            ],
            "image/png": "[encoded data removed]"
          },
          "metadata": {}
        }
      ]
    },
    {
      "cell_type": "markdown",
      "source": [
        "Вывод: будем делить тексты на 2 кластера (хотя выглядит это соминтельно)"
      ],
      "metadata": {
        "id": "OgPwWkeNLtrA"
      }
    },
    {
      "cell_type": "markdown",
      "source": [
        "## Кластеризируем"
      ],
      "metadata": {
        "id": "VQvGtSoBV6yh"
      }
    },
    {
      "cell_type": "code",
      "source": [
        "import sklearn.cluster as cluster\n",
        "\n",
        "kmeans = cluster.KMeans(n_clusters=2,random_state=42,init='k-means++')"
      ],
      "metadata": {
        "id": "v8Z-lTmiNSQD"
      },
      "execution_count": 31,
      "outputs": []
    },
    {
      "cell_type": "code",
      "source": [
        "# @title CountVectorizer\n",
        "kmeans_labels_count = kmeans.fit_predict(X_count_pca2)\n",
        "# вычисляем центры кластеров и предугадываем номер кластера для каждого семпла данных\n",
        "\n",
        "centroids_count = kmeans.cluster_centers_\n",
        "\n",
        "display(pd.Series(kmeans_labels_count).value_counts()) # кол-во вин по кластерам"
      ],
      "metadata": {
        "colab": {
          "base_uri": "https://localhost:8080/",
          "height": 147
        },
        "id": "WaUfk14lWiYr",
        "outputId": "7bfafe9a-5c49-47c1-a6d0-58cb2d24076f"
      },
      "execution_count": 32,
      "outputs": [
        {
          "output_type": "display_data",
          "data": {
            "text/plain": [
              "0    22100\n",
              "1       23\n",
              "Name: count, dtype: int64"
            ],
            "text/html": [
              "<div>\n",
              "<style scoped>\n",
              "    .dataframe tbody tr th:only-of-type {\n",
              "        vertical-align: middle;\n",
              "    }\n",
              "\n",
              "    .dataframe tbody tr th {\n",
              "        vertical-align: top;\n",
              "    }\n",
              "\n",
              "    .dataframe thead th {\n",
              "        text-align: right;\n",
              "    }\n",
              "</style>\n",
              "<table border=\"1\" class=\"dataframe\">\n",
              "  <thead>\n",
              "    <tr style=\"text-align: right;\">\n",
              "      <th></th>\n",
              "      <th>count</th>\n",
              "    </tr>\n",
              "  </thead>\n",
              "  <tbody>\n",
              "    <tr>\n",
              "      <th>0</th>\n",
              "      <td>22100</td>\n",
              "    </tr>\n",
              "    <tr>\n",
              "      <th>1</th>\n",
              "      <td>23</td>\n",
              "    </tr>\n",
              "  </tbody>\n",
              "</table>\n",
              "</div><br><label><b>dtype:</b> int64</label>"
            ]
          },
          "metadata": {}
        }
      ]
    },
    {
      "cell_type": "code",
      "source": [
        "sns.set( rc={'figure.figsize':(5,4)},font_scale=1)\n",
        "\n",
        "plt.scatter(x=X_count_pca2[:, 0], y=X_count_pca2[:, 1], c=kmeans_labels_count, cmap='viridis')\n",
        "plt.scatter(centroids_count[:, 0], centroids_count[:, 1],\n",
        "            marker='x', s=160, color='black')\n",
        "\n",
        "plt.xlabel('Principal Component 1')\n",
        "plt.ylabel('Principal Component 2')\n",
        "# добавить легенду\n",
        "\n",
        "plt.title('Clustered Data (PCA visualization)',fontweight='bold')\n",
        "\n",
        "plt.show()"
      ],
      "metadata": {
        "colab": {
          "base_uri": "https://localhost:8080/",
          "height": 419
        },
        "id": "zCyQVnFXZIfH",
        "outputId": "0ed275f5-764d-43a6-d8b9-6aa190c023f4"
      },
      "execution_count": 33,
      "outputs": [
        {
          "output_type": "display_data",
          "data": {
            "text/plain": [
              "<Figure size 500x400 with 1 Axes>"
            ],
            "image/png": "[encoded data removed]"
          },
          "metadata": {}
        }
      ]
    },
    {
      "cell_type": "code",
      "source": [
        "# силуэты: определяется на промежутке [-1;1] (чем выше тем лучше)\n",
        "\n",
        "# инерция: определяется на [0, inf) (чем ниже тем лучше)\n",
        "\n",
        "print(\"Inertia score: %0.1f\" % kmeans.inertia_,\n",
        "     \"\\nSilhouette score: %0.1f\" % silhouette_score(X_count_pca2, kmeans.labels_, metric='euclidean'))"
      ],
      "metadata": {
        "colab": {
          "base_uri": "https://localhost:8080/"
        },
        "id": "HjznozmtigDY",
        "outputId": "c221d32d-ea06-4305-b639-709eb5386fe6"
      },
      "execution_count": 34,
      "outputs": [
        {
          "output_type": "stream",
          "name": "stdout",
          "text": [
            "Inertia score: 4550075.8 \n",
            "Silhouette score: 1.0\n"
          ]
        }
      ]
    },
    {
      "cell_type": "code",
      "source": [
        "from sklearn.metrics import pairwise_distances_argmin_min\n",
        "\n",
        "closest, _ = pairwise_distances_argmin_min(centroids_count, X_count_pca2)\n",
        "closest"
      ],
      "metadata": {
        "colab": {
          "base_uri": "https://localhost:8080/"
        },
        "id": "gqNFzwZMjuBL",
        "outputId": "75f365ed-1fa7-4ccc-bcd3-fc6fc73a607f"
      },
      "execution_count": 35,
      "outputs": [
        {
          "output_type": "execute_result",
          "data": {
            "text/plain": [
              "array([10105, 11450])"
            ]
          },
          "metadata": {},
          "execution_count": 35
        }
      ]
    },
    {
      "cell_type": "code",
      "source": [
        "# Тексты, ближайший к центроиду 1\n",
        "df.iloc[closest[0]]['text']"
      ],
      "metadata": {
        "colab": {
          "base_uri": "https://localhost:8080/",
          "height": 105
        },
        "id": "g84ok_zpkvcG",
        "outputId": "6c21b8f6-809d-4b5d-f47e-fe3c9b59023a"
      },
      "execution_count": 36,
      "outputs": [
        {
          "output_type": "execute_result",
          "data": {
            "text/plain": [
              "'KeycloakStrategy invalid token ECONNREFUSED Client: {  transitional: {    silentJSONParsing: true,    forcedJSONParsing: true,    clarifyTimeoutError: false  },  adapter: [Function: httpAdapter],  transformRequest: [ [Function: transformRequest] ],  transformResponse: [ [Function: transformResponse] ],  timeout: 30000,  xsrfCookieName: \\'XSRF-TOKEN\\',  xsrfHeaderName: \\'X-XSRF-TOKEN\\',  maxContentLength: -1,  maxBodyLength: -1,  validateStatus: [Function: validateStatus],  headers: {    common: { Accept: \\'application/json, text/plain, */*\\' },    delete: {},    get: {},    head: {},    post: { \\'Content-Type\\': \\'application/x-www-form-urlencoded\\' },    put: { \\'Content-Type\\': \\'application/x-www-form-urlencoded\\' },    patch: { \\'Content-Type\\': \\'application/x-www-form-urlencoded\\' }  },  baseURL: \\'http://localhost:3000/\\'}[Nest] 36736   - 23/08/2023, 09:54:39   [KeycloakStrategy] Invalid token message=connect ECONNREFUSED 127.0.0.1:80 +4124ms[Nest] 36736   - 23/08/2023, 09:54:44   [KeycloakStrategy] Invalid token message=connect ECONNREFUSED 127.0.0.1:80 +5029ms[Nest] 36736   - 23/08/2023, 09:55:10   [KeycloakStrategy] Invalid token message=connect ECONNREFUSED 127.0.0.1:80 +25666msI\\'m currently using NextJS with NestJS on the backend along with Keycloak. As you can see, in the console output showed above, I\\'m outputing the axios client with the visible baseURL and bellow there\\'s an error for 127.0.0.1 on port 80, the problem is that I am not even making a request that port since the server is on port 3000.This is how my axios instance is defined, previously on the baseURL there was \"/\" but I changed it to localhost:3000 to see if something would change, apparently the same EECONNREFUSED error kept showing.export const client: AxiosInstance = axios.create({  baseURL: \"http://localhost:3000/\",  timeout: API_DEFAULT_TIMEOUT,});As for Keycloak, It\\'s hosted on an EKS cluster with one replica deployment and a load balancer exposing the service. If you need more details about the cluster be free to ask.I currently have no clue of where to start in order to solve this problem, even if you don\\'t know how to solve this, atleast try to tell me where should I start.'"
            ],
            "application/vnd.google.colaboratory.intrinsic+json": {
              "type": "string"
            }
          },
          "metadata": {},
          "execution_count": 36
        }
      ]
    },
    {
      "cell_type": "code",
      "source": [
        "# Тексты, ближайший к центроиду 2\n",
        "df.iloc[closest[1]]['text']"
      ],
      "metadata": {
        "colab": {
          "base_uri": "https://localhost:8080/",
          "height": 105
        },
        "id": "LEkNfM_Yj-xg",
        "outputId": "0a29585a-1269-4d06-b699-5b7832e80bac"
      },
      "execution_count": 37,
      "outputs": [
        {
          "output_type": "execute_result",
          "data": {
            "text/plain": [
              "'Spring and com.fasterxml.jackson.dataformat:jackson-dataformat-xml object mapping errors I have built a simple microservice using Spring Boot 3.0.9 and Spring Cloud 2022.0.4. A REST controller that accepts JSON payload POSTed to it works until I add the com.fasterxml.jackson.dataformat:jackson-dataformat-xml dependency. When I add this dependency, I receive the following error:java.lang.Exception: org.springframework.http.converter.HttpMessageNotReadableException: JSON parse error: Unexpected character \\'{\\' (code 123) in prolog; expected \\'<\\' at [row,col {unknown-source}]: [1,1]        at com.example.web.exception.response.RestResponseEntityExceptionHandler.handle(RestResponseEntityExceptionHandler.java:283)        at java.base/jdk.internal.reflect.NativeMethodAccessorImpl.invoke0(Native Method)        at java.base/jdk.internal.reflect.NativeMethodAccessorImpl.invoke(Unknown Source)        at java.base/jdk.internal.reflect.DelegatingMethodAccessorImpl.invoke(Unknown Source)        at java.base/java.lang.reflect.Method.invoke(Unknown Source)        at org.springframework.web.method.support.InvocableHandlerMethod.doInvoke(InvocableHandlerMethod.java:205)        at org.springframework.web.method.support.InvocableHandlerMethod.invokeForRequest(InvocableHandlerMethod.java:150)        at org.springframework.web.servlet.mvc.method.annotation.ServletInvocableHandlerMethod.invokeAndHandle(ServletInvocableHandlerMethod.java:118)        at org.springframework.web.servlet.mvc.method.annotation.ExceptionHandlerExceptionResolver.doResolveHandlerMethodException(ExceptionHandlerExceptionResolver.java:413)        at org.springframework.web.servlet.handler.AbstractHandlerMethodExceptionResolver.doResolveException(AbstractHandlerMethodExceptionResolver.java:74)        at org.springframework.web.servlet.handler.AbstractHandlerExceptionResolver.resolveException(AbstractHandlerExceptionResolver.java:141)        at org.springframework.web.servlet.handler.HandlerExceptionResolverComposite.resolveException(HandlerExceptionResolverComposite.java:80)        at org.springframework.web.servlet.DispatcherServlet.processHandlerException(DispatcherServlet.java:1341)        at org.springframework.web.servlet.DispatcherServlet.processDispatchResult(DispatcherServlet.java:1152)        at org.springframework.web.servlet.DispatcherServlet.doDispatch(DispatcherServlet.java:1098)        at org.springframework.web.servlet.DispatcherServlet.doService(DispatcherServlet.java:974)        at org.springframework.web.servlet.FrameworkServlet.processRequest(FrameworkServlet.java:1011)        at org.springframework.web.servlet.FrameworkServlet.doPost(FrameworkServlet.java:914)        at jakarta.servlet.http.HttpServlet.service(HttpServlet.java:547)        at org.springframework.web.servlet.FrameworkServlet.service(FrameworkServlet.java:885)        at jakarta.servlet.http.HttpServlet.service(HttpServlet.java:614)        at io.undertow.servlet.handlers.ServletHandler.handleRequest(ServletHandler.java:74)        at io.undertow.servlet.handlers.FilterHandler$FilterChainImpl.doFilter(FilterHandler.java:129)        at com.example.security.filter.JwtHttpRequestInterceptorFilter.doFilter(JwtHttpRequestInterceptorFilter.java:43)        at io.undertow.servlet.core.ManagedFilter.doFilter(ManagedFilter.java:67)        at io.undertow.servlet.handlers.FilterHandler$FilterChainImpl.doFilter(FilterHandler.java:131)        at org.springframework.security.web.FilterChainProxy.lambda$doFilterInternal$3(FilterChainProxy.java:231)        at org.springframework.security.web.ObservationFilterChainDecorator$FilterObservation$SimpleFilterObservation.lambda$wrap$1(ObservationFilterChainDecorator.java:426)        at org.springframework.security.web.ObservationFilterChainDecorator$AroundFilterObservation$SimpleAroundFilterObservation.lambda$wrap$1(ObservationFilterChainDecorator.java:287)        at org.springframework.security.web.ObservationFilterChainDecorator.lambda$wrapSecured$0(ObservationFilterChainDecorator.java:80)        at org.springframework.security.web.ObservationFilterChainDecorator$VirtualFilterChain.doFilter(ObservationFilterChainDecorator.java:126)        at org.springframework.security.web.access.intercept.AuthorizationFilter.doFilter(AuthorizationFilter.java:100)        at org.springframework.security.web.ObservationFilterChainDecorator$ObservationFilter.wrapFilter(ObservationFilterChainDecorator.java:187)        at org.springframework.security.web.ObservationFilterChainDecorator$ObservationFilter.doFilter(ObservationFilterChainDecorator.java:174)        at org.springframework.security.web.ObservationFilterChainDecorator$VirtualFilterChain.doFilter(ObservationFilterChainDecorator.java:135)        at org.springframework.security.web.access.ExceptionTranslationFilter.doFilter(ExceptionTranslationFilter.java:126)        at org.springframework.security.web.access.ExceptionTranslationFilter.doFilter(ExceptionTranslationFilter.java:120)        at org.springframework.security.web.ObservationFilterChainDecorator$ObservationFilter.wrapFilter(ObservationFilterChainDecorator.java:187)        at org.springframework.security.web.ObservationFilterChainDecorator$ObservationFilter.doFilter(ObservationFilterChainDecorator.java:174)        at org.springframework.security.web.ObservationFilterChainDecorator$VirtualFilterChain.doFilter(ObservationFilterChainDecorator.java:135)        at org.springframework.security.web.session.SessionManagementFilter.doFilter(SessionManagementFilter.java:131)        at org.springframework.security.web.session.SessionManagementFilter.doFilter(SessionManagementFilter.java:85)        at org.springframework.security.web.ObservationFilterChainDecorator$ObservationFilter.wrapFilter(ObservationFilterChainDecorator.java:187)        at org.springframework.security.web.ObservationFilterChainDecorator$ObservationFilter.doFilter(ObservationFilterChainDecorator.java:174)        at org.springframework.security.web.ObservationFilterChainDecorator$VirtualFilterChain.doFilter(ObservationFilterChainDecorator.java:135)        at org.springframework.security.web.authentication.AnonymousAuthenticationFilter.doFilter(AnonymousAuthenticationFilter.java:100)        at org.springframework.security.web.ObservationFilterChainDecorator$ObservationFilter.wrapFilter(ObservationFilterChainDecorator.java:187)        at org.springframework.security.web.ObservationFilterChainDecorator$ObservationFilter.doFilter(ObservationFilterChainDecorator.java:174)        at org.springframework.security.web.ObservationFilterChainDecorator$VirtualFilterChain.doFilter(ObservationFilterChainDecorator.java:135)        at org.springframework.security.web.servletapi.SecurityContextHolderAwareRequestFilter.doFilter(SecurityContextHolderAwareRequestFilter.java:179)        at org.springframework.security.web.ObservationFilterChainDecorator$ObservationFilter.wrapFilter(ObservationFilterChainDecorator.java:187)        at org.springframework.security.web.ObservationFilterChainDecorator$ObservationFilter.doFilter(ObservationFilterChainDecorator.java:174)        at org.springframework.security.web.ObservationFilterChainDecorator$VirtualFilterChain.doFilter(ObservationFilterChainDecorator.java:135)        at org.springframework.security.web.savedrequest.RequestCacheAwareFilter.doFilter(RequestCacheAwareFilter.java:63)        at org.springframework.security.web.ObservationFilterChainDecorator$ObservationFilter.wrapFilter(ObservationFilterChainDecorator.java:187)        at org.springframework.security.web.ObservationFilterChainDecorator$ObservationFilter.doFilter(ObservationFilterChainDecorator.java:174)        at org.springframework.security.web.ObservationFilterChainDecorator$VirtualFilterChain.doFilter(ObservationFilterChainDecorator.java:135)        at org.springframework.security.oauth2.server.resource.web.authentication.BearerTokenAuthenticationFilter.doFilterInternal(BearerTokenAuthenticationFilter.java:145)        at org.springframework.web.filter.OncePerRequestFilter.doFilter(OncePerRequestFilter.java:116)        at org.springframework.security.web.ObservationFilterChainDecorator$ObservationFilter.wrapFilter(ObservationFilterChainDecorator.java:187)        at org.springframework.security.web.ObservationFilterChainDecorator$ObservationFilter.doFilter(ObservationFilterChainDecorator.java:174)        at org.springframework.security.web.ObservationFilterChainDecorator$VirtualFilterChain.doFilter(ObservationFilterChainDecorator.java:135)        at com.example.security.filter.HttpServletResponseInspectionFilter.doFilter(HttpServletResponseInspectionFilter.java:26)        at org.springframework.security.web.ObservationFilterChainDecorator$ObservationFilter.wrapFilter(ObservationFilterChainDecorator.java:187)        at org.springframework.security.web.ObservationFilterChainDecorator$ObservationFilter.doFilter(ObservationFilterChainDecorator.java:174)        at org.springframework.security.web.ObservationFilterChainDecorator$VirtualFilterChain.doFilter(ObservationFilterChainDecorator.java:135)        at org.springframework.security.web.authentication.logout.LogoutFilter.doFilter(LogoutFilter.java:107)        at org.springframework.security.web.authentication.logout.LogoutFilter.doFilter(LogoutFilter.java:93)        at org.springframework.security.web.ObservationFilterChainDecorator$ObservationFilter.wrapFilter(ObservationFilterChainDecorator.java:187)        at org.springframework.security.web.ObservationFilterChainDecorator$ObservationFilter.doFilter(ObservationFilterChainDecorator.java:174)        at org.springframework.security.web.ObservationFilterChainDecorator$VirtualFilterChain.doFilter(ObservationFilterChainDecorator.java:135)        at org.springframework.web.filter.CorsFilter.doFilterInternal(CorsFilter.java:91)        at org.springframework.web.filter.OncePerRequestFilter.doFilter(OncePerRequestFilter.java:116)        at org.springframework.security.web.ObservationFilterChainDecorator$ObservationFilter.wrapFilter(ObservationFilterChainDecorator.java:187)        at org.springframework.security.web.ObservationFilterChainDecorator$ObservationFilter.doFilter(ObservationFilterChainDecorator.java:174)        at org.springframework.security.web.ObservationFilterChainDecorator$VirtualFilterChain.doFilter(ObservationFilterChainDecorator.java:135)        at org.springframework.security.web.header.HeaderWriterFilter.doHeadersAfter(HeaderWriterFilter.java:90)        at org.springframework.security.web.header.HeaderWriterFilter.doFilterInternal(HeaderWriterFilter.java:75)        at org.springframework.web.filter.OncePerRequestFilter.doFilter(OncePerRequestFilter.java:116)        at org.springframework.security.web.ObservationFilterChainDecorator$ObservationFilter.wrapFilter(ObservationFilterChainDecorator.java:187)        at org.springframework.security.web.ObservationFilterChainDecorator$ObservationFilter.doFilter(ObservationFilterChainDecorator.java:174)        at org.springframework.security.web.ObservationFilterChainDecorator$VirtualFilterChain.doFilter(ObservationFilterChainDecorator.java:135)        at org.springframework.security.web.context.SecurityContextHolderFilter.doFilter(SecurityContextHolderFilter.java:82)        at org.springframework.security.web.context.SecurityContextHolderFilter.doFilter(SecurityContextHolderFilter.java:69)        at org.springframework.security.web.ObservationFilterChainDecorator$ObservationFilter.wrapFilter(ObservationFilterChainDecorator.java:187)        at org.springframework.security.web.ObservationFilterChainDecorator$ObservationFilter.doFilter(ObservationFilterChainDecorator.java:174)        at org.springframework.security.web.ObservationFilterChainDecorator$VirtualFilterChain.doFilter(ObservationFilterChainDecorator.java:135)        at org.springframework.security.web.context.request.async.WebAsyncManagerIntegrationFilter.doFilterInternal(WebAsyncManagerIntegrationFilter.java:62)        at org.springframework.web.filter.OncePerRequestFilter.doFilter(OncePerRequestFilter.java:116)        at org.springframework.security.web.ObservationFilterChainDecorator$ObservationFilter.wrapFilter(ObservationFilterChainDecorator.java:187)        at org.springframework.security.web.ObservationFilterChainDecorator$ObservationFilter.doFilter(ObservationFilterChainDecorator.java:174)        at org.springframework.security.web.ObservationFilterChainDecorator$VirtualFilterChain.doFilter(ObservationFilterChainDecorator.java:135)        at org.springframework.security.web.session.DisableEncodeUrlFilter.doFilterInternal(DisableEncodeUrlFilter.java:42)        at org.springframework.web.filter.OncePerRequestFilter.doFilter(OncePerRequestFilter.java:116)        at org.springframework.security.web.ObservationFilterChainDecorator$ObservationFilter.wrapFilter(ObservationFilterChainDecorator.java:187)        at org.springframework.security.web.ObservationFilterChainDecorator$AroundFilterObservation$SimpleAroundFilterObservation.lambda$wrap$0(ObservationFilterChainDecorator.java:270)        at org.springframework.security.web.ObservationFilterChainDecorator$ObservationFilter.doFilter(ObservationFilterChainDecorator.java:171)        at org.springframework.security.web.ObservationFilterChainDecorator$VirtualFilterChain.doFilter(ObservationFilterChainDecorator.java:135)        at org.springframework.security.web.FilterChainProxy.doFilterInternal(FilterChainProxy.java:233)        at org.springframework.security.web.FilterChainProxy.doFilter(FilterChainProxy.java:191)        at org.springframework.web.filter.DelegatingFilterProxy.invokeDelegate(DelegatingFilterProxy.java:352)        at org.springframework.web.filter.DelegatingFilterProxy.doFilter(DelegatingFilterProxy.java:268)        at io.undertow.servlet.core.ManagedFilter.doFilter(ManagedFilter.java:67)        at io.undertow.servlet.handlers.FilterHandler$FilterChainImpl.doFilter(FilterHandler.java:131)        at org.springframework.web.filter.RequestContextFilter.doFilterInternal(RequestContextFilter.java:100)        at org.springframework.web.filter.OncePerRequestFilter.doFilter(OncePerRequestFilter.java:116)        at io.undertow.servlet.core.ManagedFilter.doFilter(ManagedFilter.java:67)        at io.undertow.servlet.handlers.FilterHandler$FilterChainImpl.doFilter(FilterHandler.java:131)        at org.springframework.web.filter.FormContentFilter.doFilterInternal(FormContentFilter.java:93)        at org.springframework.web.filter.OncePerRequestFilter.doFilter(OncePerRequestFilter.java:116)        at io.undertow.servlet.core.ManagedFilter.doFilter(ManagedFilter.java:67)        at io.undertow.servlet.handlers.FilterHandler$FilterChainImpl.doFilter(FilterHandler.java:131)        at org.springframework.web.filter.ServerHttpObservationFilter.doFilterInternal(ServerHttpObservationFilter.java:109)        at org.springframework.web.filter.OncePerRequestFilter.doFilter(OncePerRequestFilter.java:116)        at io.undertow.servlet.core.ManagedFilter.doFilter(ManagedFilter.java:67)        at io.undertow.servlet.handlers.FilterHandler$FilterChainImpl.doFilter(FilterHandler.java:131)        at org.springframework.web.filter.CharacterEncodingFilter.doFilterInternal(CharacterEncodingFilter.java:201)        at org.springframework.web.filter.OncePerRequestFilter.doFilter(OncePerRequestFilter.java:116)        at io.undertow.servlet.core.ManagedFilter.doFilter(ManagedFilter.java:67)        at io.undertow.servlet.handlers.FilterHandler$FilterChainImpl.doFilter(FilterHandler.java:131)        at io.undertow.servlet.handlers.FilterHandler.handleRequest(FilterHandler.java:84)        at io.undertow.servlet.handlers.security.ServletSecurityRoleHandler.handleRequest(ServletSecurityRoleHandler.java:62)        at io.undertow.servlet.handlers.ServletChain$1.handleRequest(ServletChain.java:68)        at io.undertow.servlet.handlers.ServletDispatchingHandler.handleRequest(ServletDispatchingHandler.java:36)        at io.undertow.servlet.handlers.RedirectDirHandler.handleRequest(RedirectDirHandler.java:68)        at io.undertow.servlet.handlers.security.SSLInformationAssociationHandler.handleRequest(SSLInformationAssociationHandler.java:117)        at io.undertow.servlet.handlers.security.ServletAuthenticationCallHandler.handleRequest(ServletAuthenticationCallHandler.java:57)        at io.undertow.server.handlers.PredicateHandler.handleRequest(PredicateHandler.java:43)        at io.undertow.security.handlers.AbstractConfidentialityHandler.handleRequest(AbstractConfidentialityHandler.java:46)        at io.undertow.servlet.handlers.security.ServletConfidentialityConstraintHandler.handleRequest(ServletConfidentialityConstraintHandler.java:64)        at io.undertow.security.handlers.AuthenticationMechanismsHandler.handleRequest(AuthenticationMechanismsHandler.java:60)        at io.undertow.servlet.handlers.security.CachedAuthenticatedSessionHandler.handleRequest(CachedAuthenticatedSessionHandler.java:77)        at io.undertow.security.handlers.AbstractSecurityContextAssociationHandler.handleRequest(AbstractSecurityContextAssociationHandler.java:43)        at io.undertow.server.handlers.PredicateHandler.handleRequest(PredicateHandler.java:43)        at io.undertow.servlet.handlers.SendErrorPageHandler.handleRequest(SendErrorPageHandler.java:52)        at io.undertow.server.handlers.PredicateHandler.handleRequest(PredicateHandler.java:43)        at io.undertow.servlet.handlers.ServletInitialHandler.handleFirstRequest(ServletInitialHandler.java:276)        at io.undertow.servlet.handlers.ServletInitialHandler$2.call(ServletInitialHandler.java:135)        at io.undertow.servlet.handlers.ServletInitialHandler$2.call(ServletInitialHandler.java:132)        at io.undertow.servlet.core.ServletRequestContextThreadSetupAction$1.call(ServletRequestContextThreadSetupAction.java:48)        at io.undertow.servlet.core.ContextClassLoaderSetupAction$1.call(ContextClassLoaderSetupAction.java:43)        at io.undertow.servlet.handlers.ServletInitialHandler.dispatchRequest(ServletInitialHandler.java:256)        at io.undertow.servlet.handlers.ServletInitialHandler$1.handleRequest(ServletInitialHandler.java:101)        at io.undertow.server.Connectors.executeRootHandler(Connectors.java:393)        at io.undertow.server.HttpServerExchange$1.run(HttpServerExchange.java:859)        at org.jboss.threads.ContextHandler$1.runWith(ContextHandler.java:18)        at org.jboss.threads.EnhancedQueueExecutor$Task.run(EnhancedQueueExecutor.java:2513)        at org.jboss.threads.EnhancedQueueExecutor$ThreadBody.run(EnhancedQueueExecutor.java:1538)        at org.xnio.XnioWorker$WorkerThreadFactory$1$1.run(XnioWorker.java:1282)        at java.base/java.lang.Thread.run(Unknown Source)Caused by: org.springframework.http.converter.HttpMessageNotReadableException: JSON parse error: Unexpected character \\'{\\' (code 123) in prolog; expected \\'<\\' at [row,col {unknown-source}]: [1,1]        at org.springframework.http.converter.json.AbstractJackson2HttpMessageConverter.readJavaType(AbstractJackson2HttpMessageConverter.java:406)        at org.springframework.http.converter.json.AbstractJackson2HttpMessageConverter.read(AbstractJackson2HttpMessageConverter.java:354)        at org.springframework.web.servlet.mvc.method.annotation.AbstractMessageConverterMethodArgumentResolver.readWithMessageConverters(AbstractMessageConverterMethodArgumentResolver.java:183)        at org.springframework.web.servlet.mvc.method.annotation.RequestResponseBodyMethodProcessor.readWithMessageConverters(RequestResponseBodyMethodProcessor.java:163)        at org.springframework.web.servlet.mvc.method.annotation.RequestResponseBodyMethodProcessor.resolveArgument(RequestResponseBodyMethodProcessor.java:136)        at org.springframework.web.method.support.HandlerMethodArgumentResolverComposite.resolveArgument(HandlerMethodArgumentResolverComposite.java:122)        at org.springframework.web.method.support.InvocableHandlerMethod.getMethodArgumentValues(InvocableHandlerMethod.java:179)        at org.springframework.web.method.support.InvocableHandlerMethod.invokeForRequest(InvocableHandlerMethod.java:146)        at org.springframework.web.servlet.mvc.method.annotation.ServletInvocableHandlerMethod.invokeAndHandle(ServletInvocableHandlerMethod.java:118)        at org.springframework.web.servlet.mvc.method.annotation.RequestMappingHandlerAdapter.invokeHandlerMethod(RequestMappingHandlerAdapter.java:884)        at org.springframework.web.servlet.mvc.method.annotation.RequestMappingHandlerAdapter.handleInternal(RequestMappingHandlerAdapter.java:797)        at org.springframework.web.servlet.mvc.method.AbstractHandlerMethodAdapter.handle(AbstractHandlerMethodAdapter.java:87)        at org.springframework.web.servlet.DispatcherServlet.doDispatch(DispatcherServlet.java:1081)        ... 135 common frames omittedCaused by: com.fasterxml.jackson.core.JsonParseException: Unexpected character \\'{\\' (code 123) in prolog; expected \\'<\\' at [row,col {unknown-source}]: [1,1]        at com.fasterxml.jackson.dataformat.xml.XmlFactory._initializeXmlReader(XmlFactory.java:734)        at com.fasterxml.jackson.dataformat.xml.XmlFactory._createParser(XmlFactory.java:600)        at com.fasterxml.jackson.dataformat.xml.XmlFactory._createParser(XmlFactory.java:30)        at com.fasterxml.jackson.core.JsonFactory.createParser(JsonFactory.java:1084)        at com.fasterxml.jackson.databind.ObjectReader.createParser(ObjectReader.java:1103)        at com.fasterxml.jackson.databind.ObjectReader.readValue(ObjectReader.java:1481)        at org.springframework.http.converter.json.AbstractJackson2HttpMessageConverter.readJavaType(AbstractJackson2HttpMessageConverter.java:395)        ... 147 common frames omittedCaused by: com.ctc.wstx.exc.WstxUnexpectedCharException: Unexpected character \\'{\\' (code 123) in prolog; expected \\'<\\' at [row,col {unknown-source}]: [1,1]        at com.ctc.wstx.sr.StreamScanner.throwUnexpectedChar(StreamScanner.java:666)        at com.ctc.wstx.sr.BasicStreamReader.nextFromProlog(BasicStreamReader.java:2148)        at com.ctc.wstx.sr.BasicStreamReader.next(BasicStreamReader.java:1180)        at com.fasterxml.jackson.dataformat.xml.XmlFactory._initializeXmlReader(XmlFactory.java:729)        ... 153 common frames omittedMy POST mapping is as follows:@PostMapping(      value = \"/account\",      consumes = {MediaType.APPLICATION_JSON_VALUE, MediaType.APPLICATION_XML_VALUE},      produces = {MediaType.APPLICATION_JSON_VALUE, MediaType.APPLICATION_XML_VALUE})Why is an object mapper trying to deserialize the JSON data as XML data, especially in light of the fact that I set the content-type header as application/json? Again, everything works fine until I add the com.fasterxml.jackson.dataformat:jackson-dataformat-xml dependency.'"
            ],
            "application/vnd.google.colaboratory.intrinsic+json": {
              "type": "string"
            }
          },
          "metadata": {},
          "execution_count": 37
        }
      ]
    },
    {
      "cell_type": "code",
      "source": [
        "# @title TfIdfVectorizer\n",
        "kmeans_labels_tfidf = kmeans.fit_predict(X_tfidf_pca2)\n",
        "# вычисляем центры кластеров и предугадываем номер кластера для каждого семпла данных\n",
        "\n",
        "centroids_tfidf = kmeans.cluster_centers_\n",
        "\n",
        "display(pd.Series(kmeans_labels_tfidf).value_counts()) # кол-во вин по кластерам"
      ],
      "metadata": {
        "colab": {
          "base_uri": "https://localhost:8080/",
          "height": 147
        },
        "id": "NucBU5I6YGFF",
        "outputId": "faab245c-8dce-49ff-97ba-4a7f6ab9c64e"
      },
      "execution_count": 38,
      "outputs": [
        {
          "output_type": "display_data",
          "data": {
            "text/plain": [
              "0    20426\n",
              "1     1697\n",
              "Name: count, dtype: int64"
            ],
            "text/html": [
              "<div>\n",
              "<style scoped>\n",
              "    .dataframe tbody tr th:only-of-type {\n",
              "        vertical-align: middle;\n",
              "    }\n",
              "\n",
              "    .dataframe tbody tr th {\n",
              "        vertical-align: top;\n",
              "    }\n",
              "\n",
              "    .dataframe thead th {\n",
              "        text-align: right;\n",
              "    }\n",
              "</style>\n",
              "<table border=\"1\" class=\"dataframe\">\n",
              "  <thead>\n",
              "    <tr style=\"text-align: right;\">\n",
              "      <th></th>\n",
              "      <th>count</th>\n",
              "    </tr>\n",
              "  </thead>\n",
              "  <tbody>\n",
              "    <tr>\n",
              "      <th>0</th>\n",
              "      <td>20426</td>\n",
              "    </tr>\n",
              "    <tr>\n",
              "      <th>1</th>\n",
              "      <td>1697</td>\n",
              "    </tr>\n",
              "  </tbody>\n",
              "</table>\n",
              "</div><br><label><b>dtype:</b> int64</label>"
            ]
          },
          "metadata": {}
        }
      ]
    },
    {
      "cell_type": "code",
      "source": [
        "sns.set( rc={'figure.figsize':(5,4)},font_scale=1)\n",
        "\n",
        "plt.scatter(x=X_tfidf_pca2[:, 0], y=X_tfidf_pca2[:, 1], c=kmeans_labels_tfidf, cmap='viridis')\n",
        "plt.scatter(centroids_tfidf[:, 0], centroids_tfidf[:, 1],\n",
        "            marker='x', s=160, color='black')\n",
        "\n",
        "plt.xlabel('Principal Component 1')\n",
        "plt.ylabel('Principal Component 2')\n",
        "# добавить легенду\n",
        "\n",
        "plt.title('Clustered Data (PCA visualization)',fontweight='bold')\n",
        "\n",
        "plt.show()"
      ],
      "metadata": {
        "colab": {
          "base_uri": "https://localhost:8080/",
          "height": 419
        },
        "outputId": "080d982b-cb60-419c-b298-827a75c14500",
        "id": "1JlVEz5JZaVH"
      },
      "execution_count": 39,
      "outputs": [
        {
          "output_type": "display_data",
          "data": {
            "text/plain": [
              "<Figure size 500x400 with 1 Axes>"
            ],
            "image/png": "[encoded data removed]"
          },
          "metadata": {}
        }
      ]
    },
    {
      "cell_type": "code",
      "source": [
        "# силуэты: определяется на промежутке [-1;1] (чем выше тем лучше)\n",
        "\n",
        "# инерция: определяется на [0, inf) (чем ниже тем лучше)\n",
        "\n",
        "print(\"Inertia score: %0.1f\" % kmeans.inertia_,\n",
        "     \"\\nSilhouette score: %0.1f\" % silhouette_score(X_tfidf_pca2, kmeans.labels_, metric='euclidean'))"
      ],
      "metadata": {
        "colab": {
          "base_uri": "https://localhost:8080/"
        },
        "id": "AaZcsbkwibaU",
        "outputId": "c5c5aec9-386e-468a-ab50-daf43dc1bc8b"
      },
      "execution_count": 40,
      "outputs": [
        {
          "output_type": "stream",
          "name": "stdout",
          "text": [
            "Inertia score: 159.5 \n",
            "Silhouette score: 0.7\n"
          ]
        }
      ]
    },
    {
      "cell_type": "code",
      "source": [
        "from sklearn.metrics import pairwise_distances_argmin_min\n",
        "\n",
        "closest, _ = pairwise_distances_argmin_min(centroids_tfidf, X_tfidf_pca2)\n",
        "closest"
      ],
      "metadata": {
        "colab": {
          "base_uri": "https://localhost:8080/"
        },
        "outputId": "d727a346-c026-4a3b-c6b7-46457043418d",
        "id": "PZSe_gPzlYLs"
      },
      "execution_count": 41,
      "outputs": [
        {
          "output_type": "execute_result",
          "data": {
            "text/plain": [
              "array([12546,  5679])"
            ]
          },
          "metadata": {},
          "execution_count": 41
        }
      ]
    },
    {
      "cell_type": "code",
      "source": [
        "# Тексты, ближайший к центроиду 1\n",
        "df.iloc[closest[0]]['text']"
      ],
      "metadata": {
        "colab": {
          "base_uri": "https://localhost:8080/",
          "height": 105
        },
        "outputId": "289ea3dc-9c63-4ba8-b596-ae723b9047e6",
        "id": "Qp1EWuSolYLy"
      },
      "execution_count": 42,
      "outputs": [
        {
          "output_type": "execute_result",
          "data": {
            "text/plain": [
              "'Using CUDA 11.x but getting error: Unknown CUDA arch (8.0) or GPU not supported possibly a very simple error but wanted to ask as I am unable to understand what the issue is or find an appropriate solution.I am working on Ubuntu 22.04.2 LTS and while checking nvcc -V, I see: Build cuda_11.2.r11.2/compiler.29618528_0With nvidia-smi, I see: NVIDIA-SMI 470.182.03 Driver Version: 470.182.03 CUDA Version: 11.4If I am reading the NVIDIA docs correctly, everything should be compatible.https://docs.nvidia.com/deploy/cuda-compatibility/What am I missing? Why is this error popping up?...torch/utils/cpp_extension.py\", line 991, in _get_cuda_arch_flags raise ValueError(\"Unknown CUDA arch ({}) or GPU not supported\".format(arch)) ValueError: Unknown CUDA arch (8.0) or GPU not supportedAny help and especially explanation would be appreciated as I am none the wiser from the other posts.Short description above'"
            ],
            "application/vnd.google.colaboratory.intrinsic+json": {
              "type": "string"
            }
          },
          "metadata": {},
          "execution_count": 42
        }
      ]
    },
    {
      "cell_type": "code",
      "source": [
        "# Тексты, ближайший к центроиду 2\n",
        "df.iloc[closest[1]]['text']"
      ],
      "metadata": {
        "colab": {
          "base_uri": "https://localhost:8080/",
          "height": 87
        },
        "outputId": "ecbe8adf-7721-48d7-899d-e6916b9f0b09",
        "id": "peN4qEFLlYL1"
      },
      "execution_count": 43,
      "outputs": [
        {
          "output_type": "execute_result",
          "data": {
            "text/plain": [
              "\"Is there any source code available of app store [closed] Closed. This question is seeking recommendations for books, tools, software libraries, and more. It does not meet Stack Overflow guidelines. It is not currently accepting answers.We don’t allow questions seeking recommendations for books, tools, software libraries, and more. You can edit the question so it can be answered with facts and citations.Closed 2 days ago.Improve this questionactually I need an Real working of actual design of app store ui in html css js the ios 16 ui one. Either if anyone have pc can you help me to convert the app store ui sketch project in html css please? Here I'll upload the link of it.https://iambhvsh.vercel.app/document_files/ios-11-app-store-nathanstreater.sketchPlease help me brother and sisters.I tried doing it but didn't found any solution please help\""
            ],
            "application/vnd.google.colaboratory.intrinsic+json": {
              "type": "string"
            }
          },
          "metadata": {},
          "execution_count": 43
        }
      ]
    },
    {
      "cell_type": "code",
      "source": [
        "# @title Glove\n",
        "kmeans_labels_glove = kmeans.fit_predict(pd.DataFrame(X_glove))\n",
        "# вычисляем центры кластеров и предугадываем номер кластера для каждого семпла данных\n",
        "\n",
        "centroids_glove = kmeans.cluster_centers_\n",
        "\n",
        "display(pd.Series(kmeans_labels_glove).value_counts()) # кол-во вин по кластерам"
      ],
      "metadata": {
        "colab": {
          "base_uri": "https://localhost:8080/",
          "height": 147
        },
        "id": "Wpom4BlBYhOE",
        "outputId": "c9e1254c-78af-443c-e840-89c54447455f"
      },
      "execution_count": 44,
      "outputs": [
        {
          "output_type": "display_data",
          "data": {
            "text/plain": [
              "0    12711\n",
              "1     9412\n",
              "Name: count, dtype: int64"
            ],
            "text/html": [
              "<div>\n",
              "<style scoped>\n",
              "    .dataframe tbody tr th:only-of-type {\n",
              "        vertical-align: middle;\n",
              "    }\n",
              "\n",
              "    .dataframe tbody tr th {\n",
              "        vertical-align: top;\n",
              "    }\n",
              "\n",
              "    .dataframe thead th {\n",
              "        text-align: right;\n",
              "    }\n",
              "</style>\n",
              "<table border=\"1\" class=\"dataframe\">\n",
              "  <thead>\n",
              "    <tr style=\"text-align: right;\">\n",
              "      <th></th>\n",
              "      <th>count</th>\n",
              "    </tr>\n",
              "  </thead>\n",
              "  <tbody>\n",
              "    <tr>\n",
              "      <th>0</th>\n",
              "      <td>12711</td>\n",
              "    </tr>\n",
              "    <tr>\n",
              "      <th>1</th>\n",
              "      <td>9412</td>\n",
              "    </tr>\n",
              "  </tbody>\n",
              "</table>\n",
              "</div><br><label><b>dtype:</b> int64</label>"
            ]
          },
          "metadata": {}
        }
      ]
    },
    {
      "cell_type": "code",
      "source": [
        "sns.set( rc={'figure.figsize':(5,4)},font_scale=1)\n",
        "\n",
        "plt.scatter(X_glove, X_glove, c=kmeans_labels_glove, cmap='viridis')\n",
        "plt.scatter(centroids_glove[:, 0], centroids_glove[:, 0],\n",
        "            marker='x', s=160, color='black')\n",
        "\n",
        "plt.xlabel('Средний вектор документа')\n",
        "plt.ylabel('Средний вектор документа')\n",
        "# добавить легенду\n",
        "\n",
        "plt.title('Clustered Data ',fontweight='bold')\n",
        "\n",
        "plt.show()"
      ],
      "metadata": {
        "colab": {
          "base_uri": "https://localhost:8080/",
          "height": 419
        },
        "id": "MPcP4YdnZqLh",
        "outputId": "d3db947d-8450-43f3-8d75-61fe77b1fd47"
      },
      "execution_count": 45,
      "outputs": [
        {
          "output_type": "display_data",
          "data": {
            "text/plain": [
              "<Figure size 500x400 with 1 Axes>"
            ],
            "image/png": "[encoded data removed]"
          },
          "metadata": {}
        }
      ]
    },
    {
      "cell_type": "code",
      "source": [
        "# силуэты: определяется на промежутке [-1;1] (чем выше тем лучше)\n",
        "\n",
        "# инерция: определяется на [0, inf) (чем ниже тем лучше)\n",
        "\n",
        "print(\"Inertia score: %0.1f\" % kmeans.inertia_,\n",
        "     \"\\nSilhouette score: %0.1f\" % silhouette_score(pd.DataFrame(X_glove), kmeans.labels_, metric='euclidean'))"
      ],
      "metadata": {
        "colab": {
          "base_uri": "https://localhost:8080/"
        },
        "id": "9XL22FZFhmJ4",
        "outputId": "cbc49198-a5a6-4b77-9c27-643c1882a16a"
      },
      "execution_count": 46,
      "outputs": [
        {
          "output_type": "stream",
          "name": "stdout",
          "text": [
            "Inertia score: 0.6 \n",
            "Silhouette score: 0.5\n"
          ]
        }
      ]
    },
    {
      "cell_type": "code",
      "source": [
        "from sklearn.metrics import pairwise_distances_argmin_min\n",
        "\n",
        "closest, _ = pairwise_distances_argmin_min(centroids_glove, pd.DataFrame(X_glove))\n",
        "closest"
      ],
      "metadata": {
        "colab": {
          "base_uri": "https://localhost:8080/"
        },
        "outputId": "9363ee62-0649-4bf3-fde9-76ea9a67623a",
        "id": "49cmodVdl71q"
      },
      "execution_count": 47,
      "outputs": [
        {
          "output_type": "execute_result",
          "data": {
            "text/plain": [
              "array([10915, 12156])"
            ]
          },
          "metadata": {},
          "execution_count": 47
        }
      ]
    },
    {
      "cell_type": "code",
      "source": [
        "# Тексты, ближайший к центроиду 1\n",
        "df.iloc[closest[0]]['text']"
      ],
      "metadata": {
        "colab": {
          "base_uri": "https://localhost:8080/",
          "height": 105
        },
        "outputId": "50fc4859-d92f-4ca1-9e63-6a9374220806",
        "id": "fRM9z-o4l71t"
      },
      "execution_count": 48,
      "outputs": [
        {
          "output_type": "execute_result",
          "data": {
            "text/plain": [
              "'How do I create an Azure Function App v4 using Azure Resource Manager API Consider the following code that worked for function apps prior to v4:var bindingsConfig = new{    bindings = new object[]        {            new            {                AuthLevel = \"function\",                Type = \"httpTrigger\",                Direction = \"in\",                Name = \"request\",                Methods = new[] {\"post\"}            },            new            {                Type = \"http\",                Direction = \"out\",                Name = \"$return\"            }        }};app = await myResourceGroup.GetWebSites().GetAsync(\"my-app-name\", ct);var func = await app.GetSiteFunctions().CreateOrUpdateAsync(WaitUntil.Completed, \"my-func-name\", new FunctionEnvelopeData{    Config = BinaryData.FromObjectAsJson(config)}, ct);Now according to this doc, function.json is no longer used in v4 programming model. My question is - does it mean I shouldn\\'t be passing bindingsConfig into CreateOrUpdateAsync()? When I try it though I get the following error:Azure.RequestFailedException: \\'Error creating function. <my-func-name> is not a valid function nameStatus: 400 (Bad Request)ErrorCode: BadRequestIn general how should I call CreateOrUpdateAsync() to create a v4 kind of function?'"
            ],
            "application/vnd.google.colaboratory.intrinsic+json": {
              "type": "string"
            }
          },
          "metadata": {},
          "execution_count": 48
        }
      ]
    },
    {
      "cell_type": "code",
      "source": [
        "# Тексты, ближайший к центроиду 2\n",
        "df.iloc[closest[1]]['text']"
      ],
      "metadata": {
        "colab": {
          "base_uri": "https://localhost:8080/",
          "height": 105
        },
        "outputId": "76c31a32-7450-4317-eea3-c23265550388",
        "id": "3DrZcW9yl71v"
      },
      "execution_count": 49,
      "outputs": [
        {
          "output_type": "execute_result",
          "data": {
            "text/plain": [
              "'Papermill Azure Function App: \"No such kernel named python3\" when executing a notebook I am trying to develop an Azure function app that executes jupyter notebooks stored in blob storage through papermill. It\\'s all working up until the point of papermill.execute_notebook(...) where I then get the following error:File \"/home/site/wwwroot/.python_packages/lib/site-packages/jupyter_client/kernelspec.py\", line 287, in get_kernel_spec    raise NoSuchKernel(kernel_name)jupyter_client.kernelspec.NoSuchKernel: No such kernel named python3For testing purposes, I am doing a very simple notebook that just accepts two parameters [\"name\", \"age\"] and inserts them into a sql table. My code below (written in python 3.8) is simply passing a name and age into the papermill.execute_notebook(<notebook_path>). I have tested that notebook and it works fine. It\\'s just when I try and run it through papermill, I get the error \"No such kernel named python3\".    blob_service_client = BlobServiceClient.from_connection_string(connection_string)                with tempfile.NamedTemporaryFile(delete=False, suffix=\".ipynb\") as temp_notebook:        blob_client = blob_service_client.get_blob_client(container=container, blob=blob_path)        temp_notebook.write(blob_client.download_blob().readall())        input_notebook_path = temp_notebook.name        output_notebook_path = \\'/tmp/output_notebook.ipynb\\'                papermill.execute_notebook(        input_path=input_notebook_path,        output_path=output_notebook_path,        parameters=dict(name=\\'Prince\\', age=\\'99\\')    )Any advice would be much appreciated.'"
            ],
            "application/vnd.google.colaboratory.intrinsic+json": {
              "type": "string"
            }
          },
          "metadata": {},
          "execution_count": 49
        }
      ]
    },
    {
      "cell_type": "markdown",
      "source": [
        "## Обрабатываем тексты в надежде, что это поможет разбить тексты на более внятные кластеры"
      ],
      "metadata": {
        "id": "SW_xoiONnYip"
      }
    },
    {
      "cell_type": "code",
      "source": [
        "import spacy\n",
        "from string import punctuation\n",
        "from spacy.lang.en import stop_words\n",
        "\n",
        "stop_words = list(stop_words.STOP_WORDS) + list(punctuation)\n",
        "\n",
        "# Load the spaCy English model\n",
        "nlp = spacy.load('en_core_web_sm')\n",
        "\n",
        "def tokenize(text):\n",
        "    sentence = nlp(text)\n",
        "    # lemmatizing\n",
        "    sentence = [ word.lemma_.lower().strip() if word.lemma_ != \"-PRON-\" and word.lower_ not in stop_words else word.lower_ for word in sentence ]\n",
        "    return sentence"
      ],
      "metadata": {
        "id": "rKoVh9CEn6_R"
      },
      "execution_count": 85,
      "outputs": []
    },
    {
      "cell_type": "code",
      "source": [
        "df['bag'] = df['text'].apply(tokenize)\n",
        "df"
      ],
      "metadata": {
        "colab": {
          "base_uri": "https://localhost:8080/",
          "height": 597
        },
        "id": "876X_4BW_O13",
        "outputId": "80c1b6cf-f784-4512-e11c-1509ef7ec6dd"
      },
      "execution_count": 86,
      "outputs": [
        {
          "output_type": "execute_result",
          "data": {
            "text/plain": [
              "                                                   Title  \\\n",
              "0      your browser version is not supported using sy...   \n",
              "1                   how to get button text value in java   \n",
              "2      How to make sure communication is stable when ...   \n",
              "3                           Cubical Agda Inclusion Order   \n",
              "4      How to convert depth map to image(.png) format...   \n",
              "...                                                  ...   \n",
              "22118     SqlAzureDacpacDeployment@1 - parameter problem   \n",
              "22119  How do I instantiate structs inside a nested c...   \n",
              "22120  How to reverse_lazy user in template view's ge...   \n",
              "22121  \"undefined reference to `GOACC_parallel_keyed'...   \n",
              "22122                 How to learn React native [closed]   \n",
              "\n",
              "                                                     URL  \\\n",
              "0      https://stackoverflow.com/questions/76981459/y...   \n",
              "1      https://stackoverflow.com/questions/76981456/h...   \n",
              "2      https://stackoverflow.com/questions/76981455/h...   \n",
              "3      https://stackoverflow.com/questions/76981453/c...   \n",
              "4      https://stackoverflow.com/questions/76981450/h...   \n",
              "...                                                  ...   \n",
              "22118  https://stackoverflow.com/questions/76933724/s...   \n",
              "22119  https://stackoverflow.com/questions/76933723/h...   \n",
              "22120  https://stackoverflow.com/questions/76933722/h...   \n",
              "22121  https://stackoverflow.com/questions/76933719/u...   \n",
              "22122  https://stackoverflow.com/questions/76933718/h...   \n",
              "\n",
              "                                                Question  \\\n",
              "0      I'm trying to automate some features and I nee...   \n",
              "1      I want to get button text value to do the on c...   \n",
              "2      This is my Node codeasync function runClient()...   \n",
              "3      I'm almost finished defining an Inclusion Orde...   \n",
              "4      I am using a depth camera which captures a 500...   \n",
              "...                                                  ...   \n",
              "22118  I have the following devops task in my pipelin...   \n",
              "22119  So I googled everywhere and cannot get a strai...   \n",
              "22120  Does anyone know how I can redirect the user t...   \n",
              "22121  I am working on a project where I have to opti...   \n",
              "22122  Closed. This question is seeking recommendatio...   \n",
              "\n",
              "                                              Categories  \\\n",
              "0                     ['php', 'symfony', 'web-scraping']   \n",
              "1                                     ['java', 'button']   \n",
              "2              ['javascript', 'node.js', 'go', 'zeromq']   \n",
              "3                                               ['agda']   \n",
              "4      ['3d', 'computer-vision', 'point-clouds', 'vis...   \n",
              "...                                                  ...   \n",
              "22118                     ['powershell', 'azure-devops']   \n",
              "22119       ['c++', 'struct', 'nested', 'inner-classes']   \n",
              "22120  ['django', 'django-models', 'django-views', 'd...   \n",
              "22121            ['fortran', 'linker-errors', 'openacc']   \n",
              "22122  ['reactjs', 'user-interface', 'mobile', 'native']   \n",
              "\n",
              "                                                    text  \\\n",
              "0      your browser version is not supported using sy...   \n",
              "1      how to get button text value in java I want to...   \n",
              "2      How to make sure communication is stable when ...   \n",
              "3      Cubical Agda Inclusion Order I'm almost finish...   \n",
              "4      How to convert depth map to image(.png) format...   \n",
              "...                                                  ...   \n",
              "22118  SqlAzureDacpacDeployment@1 - parameter problem...   \n",
              "22119  How do I instantiate structs inside a nested c...   \n",
              "22120  How to reverse_lazy user in template view's ge...   \n",
              "22121  \"undefined reference to `GOACC_parallel_keyed'...   \n",
              "22122  How to learn React native [closed] Closed. Thi...   \n",
              "\n",
              "                                                     bag  \n",
              "0      [your, browser, version, is, not, support, usi...  \n",
              "1      [how, to, get, button, text, value, in, java, ...  \n",
              "2      [how, to, make, sure, communication, is, stabl...  \n",
              "3      [cubical, agda, inclusion, order, i, 'm, almos...  \n",
              "4      [how, to, convert, depth, map, to, image(.png,...  \n",
              "...                                                  ...  \n",
              "22118  [sqlazuredacpacdeployment@1, -, parameter, pro...  \n",
              "22119  [how, do, i, instantiate, struct, inside, a, n...  \n",
              "22120  [how, to, reverse_lazy, user, in, template, vi...  \n",
              "22121  [\", undefined, reference, to, `, goacc_paralle...  \n",
              "22122  [how, to, learn, react, native, [, close, ], c...  \n",
              "\n",
              "[22123 rows x 6 columns]"
            ],
            "text/html": [
              "\n",
              "  <div id=\"df-ca42b353-61c9-46af-a92e-40c5a58f1808\" class=\"colab-df-container\">\n",
              "    <div>\n",
              "<style scoped>\n",
              "    .dataframe tbody tr th:only-of-type {\n",
              "        vertical-align: middle;\n",
              "    }\n",
              "\n",
              "    .dataframe tbody tr th {\n",
              "        vertical-align: top;\n",
              "    }\n",
              "\n",
              "    .dataframe thead th {\n",
              "        text-align: right;\n",
              "    }\n",
              "</style>\n",
              "<table border=\"1\" class=\"dataframe\">\n",
              "  <thead>\n",
              "    <tr style=\"text-align: right;\">\n",
              "      <th></th>\n",
              "      <th>Title</th>\n",
              "      <th>URL</th>\n",
              "      <th>Question</th>\n",
              "      <th>Categories</th>\n",
              "      <th>text</th>\n",
              "      <th>bag</th>\n",
              "    </tr>\n",
              "  </thead>\n",
              "  <tbody>\n",
              "    <tr>\n",
              "      <th>0</th>\n",
              "      <td>your browser version is not supported using sy...</td>\n",
              "      <td>https://stackoverflow.com/questions/76981459/y...</td>\n",
              "      <td>I'm trying to automate some features and I nee...</td>\n",
              "      <td>['php', 'symfony', 'web-scraping']</td>\n",
              "      <td>your browser version is not supported using sy...</td>\n",
              "      <td>[your, browser, version, is, not, support, usi...</td>\n",
              "    </tr>\n",
              "    <tr>\n",
              "      <th>1</th>\n",
              "      <td>how to get button text value in java</td>\n",
              "      <td>https://stackoverflow.com/questions/76981456/h...</td>\n",
              "      <td>I want to get button text value to do the on c...</td>\n",
              "      <td>['java', 'button']</td>\n",
              "      <td>how to get button text value in java I want to...</td>\n",
              "      <td>[how, to, get, button, text, value, in, java, ...</td>\n",
              "    </tr>\n",
              "    <tr>\n",
              "      <th>2</th>\n",
              "      <td>How to make sure communication is stable when ...</td>\n",
              "      <td>https://stackoverflow.com/questions/76981455/h...</td>\n",
              "      <td>This is my Node codeasync function runClient()...</td>\n",
              "      <td>['javascript', 'node.js', 'go', 'zeromq']</td>\n",
              "      <td>How to make sure communication is stable when ...</td>\n",
              "      <td>[how, to, make, sure, communication, is, stabl...</td>\n",
              "    </tr>\n",
              "    <tr>\n",
              "      <th>3</th>\n",
              "      <td>Cubical Agda Inclusion Order</td>\n",
              "      <td>https://stackoverflow.com/questions/76981453/c...</td>\n",
              "      <td>I'm almost finished defining an Inclusion Orde...</td>\n",
              "      <td>['agda']</td>\n",
              "      <td>Cubical Agda Inclusion Order I'm almost finish...</td>\n",
              "      <td>[cubical, agda, inclusion, order, i, 'm, almos...</td>\n",
              "    </tr>\n",
              "    <tr>\n",
              "      <th>4</th>\n",
              "      <td>How to convert depth map to image(.png) format...</td>\n",
              "      <td>https://stackoverflow.com/questions/76981450/h...</td>\n",
              "      <td>I am using a depth camera which captures a 500...</td>\n",
              "      <td>['3d', 'computer-vision', 'point-clouds', 'vis...</td>\n",
              "      <td>How to convert depth map to image(.png) format...</td>\n",
              "      <td>[how, to, convert, depth, map, to, image(.png,...</td>\n",
              "    </tr>\n",
              "    <tr>\n",
              "      <th>...</th>\n",
              "      <td>...</td>\n",
              "      <td>...</td>\n",
              "      <td>...</td>\n",
              "      <td>...</td>\n",
              "      <td>...</td>\n",
              "      <td>...</td>\n",
              "    </tr>\n",
              "    <tr>\n",
              "      <th>22118</th>\n",
              "      <td>SqlAzureDacpacDeployment@1 - parameter problem</td>\n",
              "      <td>https://stackoverflow.com/questions/76933724/s...</td>\n",
              "      <td>I have the following devops task in my pipelin...</td>\n",
              "      <td>['powershell', 'azure-devops']</td>\n",
              "      <td>SqlAzureDacpacDeployment@1 - parameter problem...</td>\n",
              "      <td>[sqlazuredacpacdeployment@1, -, parameter, pro...</td>\n",
              "    </tr>\n",
              "    <tr>\n",
              "      <th>22119</th>\n",
              "      <td>How do I instantiate structs inside a nested c...</td>\n",
              "      <td>https://stackoverflow.com/questions/76933723/h...</td>\n",
              "      <td>So I googled everywhere and cannot get a strai...</td>\n",
              "      <td>['c++', 'struct', 'nested', 'inner-classes']</td>\n",
              "      <td>How do I instantiate structs inside a nested c...</td>\n",
              "      <td>[how, do, i, instantiate, struct, inside, a, n...</td>\n",
              "    </tr>\n",
              "    <tr>\n",
              "      <th>22120</th>\n",
              "      <td>How to reverse_lazy user in template view's ge...</td>\n",
              "      <td>https://stackoverflow.com/questions/76933722/h...</td>\n",
              "      <td>Does anyone know how I can redirect the user t...</td>\n",
              "      <td>['django', 'django-models', 'django-views', 'd...</td>\n",
              "      <td>How to reverse_lazy user in template view's ge...</td>\n",
              "      <td>[how, to, reverse_lazy, user, in, template, vi...</td>\n",
              "    </tr>\n",
              "    <tr>\n",
              "      <th>22121</th>\n",
              "      <td>\"undefined reference to `GOACC_parallel_keyed'...</td>\n",
              "      <td>https://stackoverflow.com/questions/76933719/u...</td>\n",
              "      <td>I am working on a project where I have to opti...</td>\n",
              "      <td>['fortran', 'linker-errors', 'openacc']</td>\n",
              "      <td>\"undefined reference to `GOACC_parallel_keyed'...</td>\n",
              "      <td>[\", undefined, reference, to, `, goacc_paralle...</td>\n",
              "    </tr>\n",
              "    <tr>\n",
              "      <th>22122</th>\n",
              "      <td>How to learn React native [closed]</td>\n",
              "      <td>https://stackoverflow.com/questions/76933718/h...</td>\n",
              "      <td>Closed. This question is seeking recommendatio...</td>\n",
              "      <td>['reactjs', 'user-interface', 'mobile', 'native']</td>\n",
              "      <td>How to learn React native [closed] Closed. Thi...</td>\n",
              "      <td>[how, to, learn, react, native, [, close, ], c...</td>\n",
              "    </tr>\n",
              "  </tbody>\n",
              "</table>\n",
              "<p>22123 rows × 6 columns</p>\n",
              "</div>\n",
              "    <div class=\"colab-df-buttons\">\n",
              "\n",
              "  <div class=\"colab-df-container\">\n",
              "    <button class=\"colab-df-convert\" onclick=\"convertToInteractive('df-ca42b353-61c9-46af-a92e-40c5a58f1808')\"\n",
              "            title=\"Convert this dataframe to an interactive table.\"\n",
              "            style=\"display:none;\">\n",
              "\n",
              "  <svg xmlns=\"http://www.w3.org/2000/svg\" height=\"24px\" viewBox=\"0 -960 960 960\">\n",
              "    <path d=\"M120-120v-720h720v720H120Zm60-500h600v-160H180v160Zm220 220h160v-160H400v160Zm0 220h160v-160H400v160ZM180-400h160v-160H180v160Zm440 0h160v-160H620v160ZM180-180h160v-160H180v160Zm440 0h160v-160H620v160Z\"/>\n",
              "  </svg>\n",
              "    </button>\n",
              "\n",
              "  <style>\n",
              "    .colab-df-container {\n",
              "      display:flex;\n",
              "      gap: 12px;\n",
              "    }\n",
              "\n",
              "    .colab-df-convert {\n",
              "      background-color: #E8F0FE;\n",
              "      border: none;\n",
              "      border-radius: 50%;\n",
              "      cursor: pointer;\n",
              "      display: none;\n",
              "      fill: #1967D2;\n",
              "      height: 32px;\n",
              "      padding: 0 0 0 0;\n",
              "      width: 32px;\n",
              "    }\n",
              "\n",
              "    .colab-df-convert:hover {\n",
              "      background-color: #E2EBFA;\n",
              "      box-shadow: 0px 1px 2px rgba(60, 64, 67, 0.3), 0px 1px 3px 1px rgba(60, 64, 67, 0.15);\n",
              "      fill: #174EA6;\n",
              "    }\n",
              "\n",
              "    .colab-df-buttons div {\n",
              "      margin-bottom: 4px;\n",
              "    }\n",
              "\n",
              "    [theme=dark] .colab-df-convert {\n",
              "      background-color: #3B4455;\n",
              "      fill: #D2E3FC;\n",
              "    }\n",
              "\n",
              "    [theme=dark] .colab-df-convert:hover {\n",
              "      background-color: #434B5C;\n",
              "      box-shadow: 0px 1px 3px 1px rgba(0, 0, 0, 0.15);\n",
              "      filter: drop-shadow(0px 1px 2px rgba(0, 0, 0, 0.3));\n",
              "      fill: #FFFFFF;\n",
              "    }\n",
              "  </style>\n",
              "\n",
              "    <script>\n",
              "      const buttonEl =\n",
              "        document.querySelector('#df-ca42b353-61c9-46af-a92e-40c5a58f1808 button.colab-df-convert');\n",
              "      buttonEl.style.display =\n",
              "        google.colab.kernel.accessAllowed ? 'block' : 'none';\n",
              "\n",
              "      async function convertToInteractive(key) {\n",
              "        const element = document.querySelector('#df-ca42b353-61c9-46af-a92e-40c5a58f1808');\n",
              "        const dataTable =\n",
              "          await google.colab.kernel.invokeFunction('convertToInteractive',\n",
              "                                                    [key], {});\n",
              "        if (!dataTable) return;\n",
              "\n",
              "        const docLinkHtml = 'Like what you see? Visit the ' +\n",
              "          '<a target=\"_blank\" href=https://colab.research.google.com/notebooks/data_table.ipynb>data table notebook</a>'\n",
              "          + ' to learn more about interactive tables.';\n",
              "        element.innerHTML = '';\n",
              "        dataTable['output_type'] = 'display_data';\n",
              "        await google.colab.output.renderOutput(dataTable, element);\n",
              "        const docLink = document.createElement('div');\n",
              "        docLink.innerHTML = docLinkHtml;\n",
              "        element.appendChild(docLink);\n",
              "      }\n",
              "    </script>\n",
              "  </div>\n",
              "\n",
              "\n",
              "    <div id=\"df-88e17a82-b099-475d-9d97-a721d18f1617\">\n",
              "      <button class=\"colab-df-quickchart\" onclick=\"quickchart('df-88e17a82-b099-475d-9d97-a721d18f1617')\"\n",
              "                title=\"Suggest charts\"\n",
              "                style=\"display:none;\">\n",
              "\n",
              "<svg xmlns=\"http://www.w3.org/2000/svg\" height=\"24px\"viewBox=\"0 0 24 24\"\n",
              "     width=\"24px\">\n",
              "    <g>\n",
              "        <path d=\"M19 3H5c-1.1 0-2 .9-2 2v14c0 1.1.9 2 2 2h14c1.1 0 2-.9 2-2V5c0-1.1-.9-2-2-2zM9 17H7v-7h2v7zm4 0h-2V7h2v10zm4 0h-2v-4h2v4z\"/>\n",
              "    </g>\n",
              "</svg>\n",
              "      </button>\n",
              "\n",
              "<style>\n",
              "  .colab-df-quickchart {\n",
              "      --bg-color: #E8F0FE;\n",
              "      --fill-color: #1967D2;\n",
              "      --hover-bg-color: #E2EBFA;\n",
              "      --hover-fill-color: #174EA6;\n",
              "      --disabled-fill-color: #AAA;\n",
              "      --disabled-bg-color: #DDD;\n",
              "  }\n",
              "\n",
              "  [theme=dark] .colab-df-quickchart {\n",
              "      --bg-color: #3B4455;\n",
              "      --fill-color: #D2E3FC;\n",
              "      --hover-bg-color: #434B5C;\n",
              "      --hover-fill-color: #FFFFFF;\n",
              "      --disabled-bg-color: #3B4455;\n",
              "      --disabled-fill-color: #666;\n",
              "  }\n",
              "\n",
              "  .colab-df-quickchart {\n",
              "    background-color: var(--bg-color);\n",
              "    border: none;\n",
              "    border-radius: 50%;\n",
              "    cursor: pointer;\n",
              "    display: none;\n",
              "    fill: var(--fill-color);\n",
              "    height: 32px;\n",
              "    padding: 0;\n",
              "    width: 32px;\n",
              "  }\n",
              "\n",
              "  .colab-df-quickchart:hover {\n",
              "    background-color: var(--hover-bg-color);\n",
              "    box-shadow: 0 1px 2px rgba(60, 64, 67, 0.3), 0 1px 3px 1px rgba(60, 64, 67, 0.15);\n",
              "    fill: var(--button-hover-fill-color);\n",
              "  }\n",
              "\n",
              "  .colab-df-quickchart-complete:disabled,\n",
              "  .colab-df-quickchart-complete:disabled:hover {\n",
              "    background-color: var(--disabled-bg-color);\n",
              "    fill: var(--disabled-fill-color);\n",
              "    box-shadow: none;\n",
              "  }\n",
              "\n",
              "  .colab-df-spinner {\n",
              "    border: 2px solid var(--fill-color);\n",
              "    border-color: transparent;\n",
              "    border-bottom-color: var(--fill-color);\n",
              "    animation:\n",
              "      spin 1s steps(1) infinite;\n",
              "  }\n",
              "\n",
              "  @keyframes spin {\n",
              "    0% {\n",
              "      border-color: transparent;\n",
              "      border-bottom-color: var(--fill-color);\n",
              "      border-left-color: var(--fill-color);\n",
              "    }\n",
              "    20% {\n",
              "      border-color: transparent;\n",
              "      border-left-color: var(--fill-color);\n",
              "      border-top-color: var(--fill-color);\n",
              "    }\n",
              "    30% {\n",
              "      border-color: transparent;\n",
              "      border-left-color: var(--fill-color);\n",
              "      border-top-color: var(--fill-color);\n",
              "      border-right-color: var(--fill-color);\n",
              "    }\n",
              "    40% {\n",
              "      border-color: transparent;\n",
              "      border-right-color: var(--fill-color);\n",
              "      border-top-color: var(--fill-color);\n",
              "    }\n",
              "    60% {\n",
              "      border-color: transparent;\n",
              "      border-right-color: var(--fill-color);\n",
              "    }\n",
              "    80% {\n",
              "      border-color: transparent;\n",
              "      border-right-color: var(--fill-color);\n",
              "      border-bottom-color: var(--fill-color);\n",
              "    }\n",
              "    90% {\n",
              "      border-color: transparent;\n",
              "      border-bottom-color: var(--fill-color);\n",
              "    }\n",
              "  }\n",
              "</style>\n",
              "\n",
              "      <script>\n",
              "        async function quickchart(key) {\n",
              "          const quickchartButtonEl =\n",
              "            document.querySelector('#' + key + ' button');\n",
              "          quickchartButtonEl.disabled = true;  // To prevent multiple clicks.\n",
              "          quickchartButtonEl.classList.add('colab-df-spinner');\n",
              "          try {\n",
              "            const charts = await google.colab.kernel.invokeFunction(\n",
              "                'suggestCharts', [key], {});\n",
              "          } catch (error) {\n",
              "            console.error('Error during call to suggestCharts:', error);\n",
              "          }\n",
              "          quickchartButtonEl.classList.remove('colab-df-spinner');\n",
              "          quickchartButtonEl.classList.add('colab-df-quickchart-complete');\n",
              "        }\n",
              "        (() => {\n",
              "          let quickchartButtonEl =\n",
              "            document.querySelector('#df-88e17a82-b099-475d-9d97-a721d18f1617 button');\n",
              "          quickchartButtonEl.style.display =\n",
              "            google.colab.kernel.accessAllowed ? 'block' : 'none';\n",
              "        })();\n",
              "      </script>\n",
              "    </div>\n",
              "    </div>\n",
              "  </div>\n"
            ],
            "application/vnd.google.colaboratory.intrinsic+json": {
              "type": "dataframe",
              "variable_name": "df",
              "summary": "{\n  \"name\": \"df\",\n  \"rows\": 22123,\n  \"fields\": [\n    {\n      \"column\": \"Title\",\n      \"properties\": {\n        \"dtype\": \"string\",\n        \"num_unique_values\": 22122,\n        \"samples\": [\n          \"How can I record and replay MongoDB requests?\",\n          \"Dataflow Flex template while running throwing error for all default parameters\",\n          \"Trying to use multiple alias to create a new column [duplicate]\"\n        ],\n        \"semantic_type\": \"\",\n        \"description\": \"\"\n      }\n    },\n    {\n      \"column\": \"URL\",\n      \"properties\": {\n        \"dtype\": \"string\",\n        \"num_unique_values\": 22123,\n        \"samples\": [\n          \"https://stackoverflow.com/questions/76975806/how-can-i-record-and-replay-mongodb-requests\",\n          \"https://stackoverflow.com/questions/76940189/dataflow-flex-template-while-running-throwing-error-for-all-default-parameters\",\n          \"https://stackoverflow.com/questions/76950125/trying-to-use-multiple-alias-to-create-a-new-column\"\n        ],\n        \"semantic_type\": \"\",\n        \"description\": \"\"\n      }\n    },\n    {\n      \"column\": \"Question\",\n      \"properties\": {\n        \"dtype\": \"string\",\n        \"num_unique_values\": 22083,\n        \"samples\": [\n          \"I'm using QgsQuick in one of my development projects.I use QGIS Desktop to setup my map environment(.qgs file). When running my project using QgsQuick, it seems that the raster image layers are always rendered on top of the vector layers. Even though I've set the rendering order in QGIS Desktop so that the vector layers should show on top.Has anyone had this issue?I've seen this issue with qgis 3.4.4 and version 3.22. Same issue on Windows and Linux.Is the QgsQuick tool still being maintained by QGIS?Do anyone know if the QgsQuick qml tool is widely used?I've tried it on windows and Linux.When opening my development project without making use of the QgsQuick, It runs correctly.Any help would be appreciated.Pieter\",\n          \"I am working on an Orbeon form where the user needs to confirm the values of some input fields before being allowed to send in the form. The confirmation uses single checkboxes to allow different error messages.The number formatting throughout the form is with comma as decimal separator and point as thousands separator.Now, when I add the needed cell names as template parameters to a label to a single checkbox, the number from the cell is shown with point as decimal separator and no thousands separator, even though it is shown correctly in the original field and in the pdf?So, how can I change this formatting of the number in a template parameter?I tried format-number(//cell,\\\"99.999,00\\\") in the template parameter.I also tried converting the number to a string and replace the point with a comma. It just seems like there must be a simpler solution\",\n          \"Closed. This question is not written in English. It is not currently accepting answers.Stack Overflow is an English-only site. The author must be able to communicate in English to understand and engage with any comments and/or answers their question receives. Don't translate this post for the author; machine translations can be inaccurate, and even human translations can alter the intended meaning of the post.Closed 16 hours ago.Improve this questionSalut, j'utilise GPT-4 et depuis 4 jours voici le probl\\u00e8me que je rencontre:Erreur d'application : une exception c\\u00f4t\\u00e9 client s'est produite (voir la console du navigateur pour plus d'informations)en consultant la console de mon navigateur qui est google chrome, voici les premi\\u00e8res lignes d'erreur qui s'affichent :\\\"general.js:102 Only one LaunchDarklyClient can exist at a time, but another client already exists. This probably means something has gone wrong with our DI system, or we're using it incorrectly. d @ general.js:102 Show 1 more frame Show less 24_app-ddf4d3f1671bd1f5.js:28 DOMException: Failed to execute 'insertBefore' on 'Node': The node before which the new node is to be inserted is not a child of this node. at e (https://chat.openai.com/_next/static/chunks/framework-10a404587b40544b.js:9:89708)\\\"que faire dans ce cas?j'ai tout essay\\u00e9 rien a abouti. aidez moi \\u00e0 r\\u00e9soudre ce probl\\u00e8me\"\n        ],\n        \"semantic_type\": \"\",\n        \"description\": \"\"\n      }\n    },\n    {\n      \"column\": \"Categories\",\n      \"properties\": {\n        \"dtype\": \"string\",\n        \"num_unique_values\": 18106,\n        \"samples\": [\n          \"['java', 'elasticsearch']\",\n          \"['css', 'msbuild', 'blazor', 'isolation']\",\n          \"['powershell', 'go', 'exec']\"\n        ],\n        \"semantic_type\": \"\",\n        \"description\": \"\"\n      }\n    },\n    {\n      \"column\": \"text\",\n      \"properties\": {\n        \"dtype\": \"string\",\n        \"num_unique_values\": 22123,\n        \"samples\": [\n          \"How can I record and replay MongoDB requests? I'm writing integration tests for a Go program that queries a MongoDB cluster using Mongo Go Driver. I'd like to record those requests and later replay them in the tests.Is there a library that I could use? I'm currently familiar with 2 similar libraries, but those are used for different purposes:https://github.com/google/go-replayershttps://github.com/cockroachdb/copyistAny help would be appreciated. Thank you.\",\n          \"Dataflow Flex template while running throwing error for all default parameters I have created a flex template for dataflow and it got build using gcloud successfully but while running the template, it is throwing the error for all default parameters that are supposed to be taken directly from gcloud run command. Below is the error:java.lang.IllegalArgumentException: Class interface org.ccm.templates.MongoDbToBigQuery$Options missing a property named 'serviceAccount'.I am using google provided docker image only i.e. java11.Command for gcloud build:gcloud dataflow flex-template build gs://hdfc-ergo-artifacts/templates_m/Flex/flextemplate.json \\\\ --image-gcr-path=asia-south1-docker.pkg.dev/prj-srv/mongodbtobigquery-flex/dataflow/flextemplate:latest \\\\ --sdk-language=JAVA \\\\ --flex-template-base-image=JAVA11 \\\\ --metadata-file=src/main/java/org/metadata/mongodb-to-bigquery-image-spec-metadata.json \\\\ --jar=target/dynamic-templates-1.0-SNAPSHOT-jar-with-dependencies.jar \\\\  --env=FLEX_TEMPLATE_JAVA_MAIN_CLASS=org.templates.MongoDbToBigQuery \\\\  --worker-region=asia-south1 \\\\  --dataflow-kms-key=projects/prj-shared/locations/asia-south1/keyRings \\\\ --service-account-email=service-account-email\\\\ --subnetwork=https://www.googleapis.com/compute/projects/prj-shared/regions/asia-south1/subnetworks \\\\  --temp-location=gs://fromMongo_Dir1/ --staging-location=gs://MongoDbToBigQuery_Stage/ \\\\ --disable-public-ips\",\n          \"Trying to use multiple alias to create a new column [duplicate] I have a lots of calculated columns and they keep repeating themselves, one inside of the others, including nested cases statements.There is a really simplified version of something that I've searching a way to do.SELECT     (1+2) AS A,     A + 3 AS B,     B * 7 AS C FROM MYTABLE\"\n        ],\n        \"semantic_type\": \"\",\n        \"description\": \"\"\n      }\n    },\n    {\n      \"column\": \"bag\",\n      \"properties\": {\n        \"dtype\": \"object\",\n        \"semantic_type\": \"\",\n        \"description\": \"\"\n      }\n    }\n  ]\n}"
            }
          },
          "metadata": {},
          "execution_count": 86
        }
      ]
    },
    {
      "cell_type": "code",
      "source": [
        "def remove_stopw(lst):\n",
        "  res = []\n",
        "  for w in lst:\n",
        "    if w not in stop_words:\n",
        "      res.append(w)\n",
        "  return res\n",
        "df['bag_cleaned'] = df['bag'].apply(remove_stopw)"
      ],
      "metadata": {
        "id": "4SLiBcL0F4xS"
      },
      "execution_count": 91,
      "outputs": []
    },
    {
      "cell_type": "code",
      "source": [
        "# @title Векторизуем text с помощью CountVectorizer\n",
        "countvec = CountVectorizer(analyzer=lambda x: x)\n",
        "\n",
        "X_count = countvec.fit_transform(df['bag_cleaned'])"
      ],
      "metadata": {
        "id": "aj1xAPf_0bUw"
      },
      "execution_count": 92,
      "outputs": []
    },
    {
      "cell_type": "code",
      "source": [
        "X_count"
      ],
      "metadata": {
        "colab": {
          "base_uri": "https://localhost:8080/"
        },
        "id": "6RshgF5_6l1t",
        "outputId": "193fd26b-c1ed-406c-9d63-a55add7844f4"
      },
      "execution_count": 93,
      "outputs": [
        {
          "output_type": "execute_result",
          "data": {
            "text/plain": [
              "<22123x478798 sparse matrix of type '<class 'numpy.int64'>'\n",
              "\twith 1675804 stored elements in Compressed Sparse Row format>"
            ]
          },
          "metadata": {},
          "execution_count": 93
        }
      ]
    },
    {
      "cell_type": "code",
      "source": [
        "# @title Векторизуем text с помощью TfidfVectorizer\n",
        "tfidfvec = TfidfVectorizer(analyzer=lambda x: x)\n",
        "\n",
        "X_tfidf = tfidfvec.fit_transform(df['bag_cleaned'])"
      ],
      "metadata": {
        "id": "MO0F8UL60bUy"
      },
      "execution_count": 94,
      "outputs": []
    },
    {
      "cell_type": "code",
      "source": [
        "X_tfidf"
      ],
      "metadata": {
        "colab": {
          "base_uri": "https://localhost:8080/"
        },
        "id": "DaKfinEf6na3",
        "outputId": "9a8594bd-8b91-4706-bf29-77c162494412"
      },
      "execution_count": 95,
      "outputs": [
        {
          "output_type": "execute_result",
          "data": {
            "text/plain": [
              "<22123x478798 sparse matrix of type '<class 'numpy.float64'>'\n",
              "\twith 1675804 stored elements in Compressed Sparse Row format>"
            ]
          },
          "metadata": {},
          "execution_count": 95
        }
      ]
    },
    {
      "cell_type": "code",
      "source": [
        "def get_glove_vec_preprocessed(lst):\n",
        "  res = []\n",
        "  for t in lst:\n",
        "    try:\n",
        "      res.append(model[t])\n",
        "    except KeyError:\n",
        "      pass\n",
        "  return np.mean(res)"
      ],
      "metadata": {
        "id": "cEWbTuW36ylS"
      },
      "execution_count": 96,
      "outputs": []
    },
    {
      "cell_type": "code",
      "source": [
        "X_glove = df['bag_cleaned'].apply(get_glove_vec_preprocessed)\n",
        "X_glove"
      ],
      "metadata": {
        "colab": {
          "base_uri": "https://localhost:8080/",
          "height": 458
        },
        "outputId": "70bc098e-d08b-4a27-bc70-0b76ddb87c8e",
        "id": "P6o-YM6p6ylT"
      },
      "execution_count": 97,
      "outputs": [
        {
          "output_type": "execute_result",
          "data": {
            "text/plain": [
              "0        0.006430\n",
              "1       -0.016381\n",
              "2        0.008351\n",
              "3        0.012812\n",
              "4        0.020092\n",
              "           ...   \n",
              "22118    0.025424\n",
              "22119    0.008887\n",
              "22120   -0.014950\n",
              "22121   -0.000701\n",
              "22122   -0.029496\n",
              "Name: bag_cleaned, Length: 22123, dtype: float32"
            ],
            "text/html": [
              "<div>\n",
              "<style scoped>\n",
              "    .dataframe tbody tr th:only-of-type {\n",
              "        vertical-align: middle;\n",
              "    }\n",
              "\n",
              "    .dataframe tbody tr th {\n",
              "        vertical-align: top;\n",
              "    }\n",
              "\n",
              "    .dataframe thead th {\n",
              "        text-align: right;\n",
              "    }\n",
              "</style>\n",
              "<table border=\"1\" class=\"dataframe\">\n",
              "  <thead>\n",
              "    <tr style=\"text-align: right;\">\n",
              "      <th></th>\n",
              "      <th>bag_cleaned</th>\n",
              "    </tr>\n",
              "  </thead>\n",
              "  <tbody>\n",
              "    <tr>\n",
              "      <th>0</th>\n",
              "      <td>0.006430</td>\n",
              "    </tr>\n",
              "    <tr>\n",
              "      <th>1</th>\n",
              "      <td>-0.016381</td>\n",
              "    </tr>\n",
              "    <tr>\n",
              "      <th>2</th>\n",
              "      <td>0.008351</td>\n",
              "    </tr>\n",
              "    <tr>\n",
              "      <th>3</th>\n",
              "      <td>0.012812</td>\n",
              "    </tr>\n",
              "    <tr>\n",
              "      <th>4</th>\n",
              "      <td>0.020092</td>\n",
              "    </tr>\n",
              "    <tr>\n",
              "      <th>...</th>\n",
              "      <td>...</td>\n",
              "    </tr>\n",
              "    <tr>\n",
              "      <th>22118</th>\n",
              "      <td>0.025424</td>\n",
              "    </tr>\n",
              "    <tr>\n",
              "      <th>22119</th>\n",
              "      <td>0.008887</td>\n",
              "    </tr>\n",
              "    <tr>\n",
              "      <th>22120</th>\n",
              "      <td>-0.014950</td>\n",
              "    </tr>\n",
              "    <tr>\n",
              "      <th>22121</th>\n",
              "      <td>-0.000701</td>\n",
              "    </tr>\n",
              "    <tr>\n",
              "      <th>22122</th>\n",
              "      <td>-0.029496</td>\n",
              "    </tr>\n",
              "  </tbody>\n",
              "</table>\n",
              "<p>22123 rows × 1 columns</p>\n",
              "</div><br><label><b>dtype:</b> float32</label>"
            ]
          },
          "metadata": {},
          "execution_count": 97
        }
      ]
    },
    {
      "cell_type": "code",
      "source": [
        "# @title Уменьшем размерность датасетов X_tfidf и X_count\n",
        "from sklearn.decomposition import PCA\n",
        "pca_2 = PCA(2) # задали количество компонент\n",
        "\n",
        "X_tfidf_pca2 = pca_2.fit_transform(X_tfidf)\n",
        "\n",
        "X_tfidf_pca2.shape # массив длиной в кол-во строк датасета и шириной по числу компонент"
      ],
      "metadata": {
        "colab": {
          "base_uri": "https://localhost:8080/"
        },
        "outputId": "863c200d-80a7-4337-c5d4-ab31cbce475e",
        "id": "8xF2gNTS7TM7"
      },
      "execution_count": 98,
      "outputs": [
        {
          "output_type": "execute_result",
          "data": {
            "text/plain": [
              "(22123, 2)"
            ]
          },
          "metadata": {},
          "execution_count": 98
        }
      ]
    },
    {
      "cell_type": "code",
      "source": [
        "X_count_pca2 = pca_2.fit_transform(X_count)\n",
        "\n",
        "X_count_pca2.shape # массив длиной в кол-во строк датасета и шириной по числу компонент"
      ],
      "metadata": {
        "colab": {
          "base_uri": "https://localhost:8080/"
        },
        "outputId": "12ac69b5-2856-4d72-f2b1-3c6dd55ccf51",
        "id": "8QEynq_77TM_"
      },
      "execution_count": 99,
      "outputs": [
        {
          "output_type": "execute_result",
          "data": {
            "text/plain": [
              "(22123, 2)"
            ]
          },
          "metadata": {},
          "execution_count": 99
        }
      ]
    },
    {
      "cell_type": "code",
      "source": [
        "# @title Вычисляем инерцию для разного количества кластеров (от 2 до 20) X_count\n",
        "\n",
        "# https://scikit-learn.org/stable/modules/clustering.html#k-means\n",
        "\n",
        "import sklearn.cluster as cluster\n",
        "from tqdm import tqdm\n",
        "\n",
        "# inertia = {} # сюда будем сохранять значения\n",
        "inertia_count = []\n",
        "for i in tqdm(range(2,22)): # значения интервала - число кластеров (можно изменять)\n",
        "\n",
        "    kmeans = cluster.KMeans(\n",
        "               n_clusters=i, # инициализируем модель\n",
        "               init='k-means++', # метод, как разбросать центры среди данных\n",
        "               n_init=15, # сколько раз будем переопределять центры (в результате выберем самый успешный)\n",
        "               max_iter=500, # количество итераций а один проход алгоритма\n",
        "               random_state=17 # сколько раз датасет перемешан перед кластеризацией\n",
        "    )\n",
        "\n",
        "\n",
        "    kmeans.fit(X_count_pca2) # обучаем модель\n",
        "    inertia_count.append(kmeans.inertia_) # добавляем значения инерции для каждого числа кластеров\n",
        "    # inertia.update({i:kmeans.inertia_})\n",
        "\n",
        "# print(inertia)"
      ],
      "metadata": {
        "colab": {
          "base_uri": "https://localhost:8080/"
        },
        "outputId": "9d3afded-3e37-45d4-dee1-a364d123b046",
        "id": "cf8jbwkH7TNB"
      },
      "execution_count": 100,
      "outputs": [
        {
          "output_type": "stream",
          "name": "stderr",
          "text": [
            "100%|██████████| 20/20 [00:15<00:00,  1.26it/s]\n"
          ]
        }
      ]
    },
    {
      "cell_type": "code",
      "source": [
        "# @title Вычисляем силуэт для разного количества кластеров (от 2 до 20) для X_count\n",
        "from sklearn.metrics import silhouette_score\n",
        "\n",
        "# все как в предыдущей ячейке, только силуэт-скоры сохраняем как значения в словаре\n",
        "silhouette_count = {}\n",
        "for i in tqdm(range(2,22)):\n",
        "    kmeans = cluster.KMeans(n_clusters=i,\n",
        "               init='k-means++',\n",
        "               n_init=15,\n",
        "               max_iter=500,\n",
        "               random_state=17)\n",
        "    kmeans.fit(X_count_pca2)\n",
        "\n",
        "    silhouette_count[i] = silhouette_score(X_count_pca2, kmeans.labels_, metric='euclidean')"
      ],
      "metadata": {
        "colab": {
          "base_uri": "https://localhost:8080/"
        },
        "outputId": "a83ed7cc-dc53-4a64-88e0-a0793f00bff4",
        "id": "053ksVfx7TNC"
      },
      "execution_count": 101,
      "outputs": [
        {
          "output_type": "stream",
          "name": "stderr",
          "text": [
            "100%|██████████| 20/20 [02:47<00:00,  8.40s/it]\n"
          ]
        }
      ]
    },
    {
      "cell_type": "code",
      "source": [
        "# @title Визуализируем\n",
        "import seaborn as sns\n",
        "import matplotlib.pyplot as plt\n",
        "\n",
        "sns.set(font_scale=1, rc={'figure.figsize':(10,8)})\n",
        "# fig, axes = plt.subplots(ncols=2, nrows=3, figsize=(10,5))\n",
        "\n",
        "# CountVectorizer\n",
        "plt.subplot(3, 2, 1) # аргументы: nrows, ncols, index\n",
        "\n",
        "plt.plot(range(2,len(inertia_count)+2), inertia_count, marker='x',color='blue')\n",
        "# первый параметр = x (число шагов= числу кластеров), второй = y (инерция)\n",
        "\n",
        "plt.xlabel('Число кластеров')\n",
        "plt.title('K-means Inertia (CountVectorizer)',fontweight='bold')\n",
        "plt.grid(True)\n",
        "\n",
        "plt.subplot(3, 2, 2) # аргументы: nrows, ncols, index\n",
        "\n",
        "plt.bar(range(len(silhouette_count)), list(silhouette_count.values()), align='center',color= 'blue')\n",
        "plt.xticks(range(len(silhouette_count)), list(silhouette_count.keys())) # отметки на шкале\n",
        "plt.grid(True)\n",
        "plt.title('Silhouette Score (CountVectorizer)',fontweight='bold')\n",
        "plt.xlabel('Число кластеров')"
      ],
      "metadata": {
        "colab": {
          "base_uri": "https://localhost:8080/",
          "height": 325
        },
        "outputId": "d81fc657-96cb-4986-c61c-cb60970268f7",
        "id": "Mxv2T-BA7TND"
      },
      "execution_count": 102,
      "outputs": [
        {
          "output_type": "execute_result",
          "data": {
            "text/plain": [
              "Text(0.5, 0, 'Число кластеров')"
            ]
          },
          "metadata": {},
          "execution_count": 102
        },
        {
          "output_type": "display_data",
          "data": {
            "text/plain": [
              "<Figure size 1000x800 with 2 Axes>"
            ],
            "image/png": "[encoded data removed]"
          },
          "metadata": {}
        }
      ]
    },
    {
      "cell_type": "code",
      "source": [
        "# @title Вычисляем инерцию для разного количества кластеров (от 2 до 20) для X_tfidf_pca2\n",
        "\n",
        "# https://scikit-learn.org/stable/modules/clustering.html#k-means\n",
        "\n",
        "import sklearn.cluster as cluster\n",
        "from tqdm import tqdm\n",
        "\n",
        "# inertia = {} # сюда будем сохранять значения\n",
        "inertia_tfidf = []\n",
        "for i in tqdm(range(2,22)): # значения интервала - число кластеров (можно изменять)\n",
        "\n",
        "    kmeans = cluster.KMeans(\n",
        "               n_clusters=i, # инициализируем модель\n",
        "               init='k-means++', # метод, как разбросать центры среди данных\n",
        "               n_init=15, # сколько раз будем переопределять центры (в результате выберем самый успешный)\n",
        "               max_iter=500, # количество итераций а один проход алгоритма\n",
        "               random_state=17 # сколько раз датасет перемешан перед кластеризацией\n",
        "    )\n",
        "\n",
        "\n",
        "    kmeans.fit(X_tfidf_pca2) # обучаем модель\n",
        "    inertia_tfidf.append(kmeans.inertia_) # добавляем значения инерции для каждого числа кластеров\n",
        "    # inertia.update({i:kmeans.inertia_})\n",
        "\n",
        "# print(inertia)"
      ],
      "metadata": {
        "colab": {
          "base_uri": "https://localhost:8080/"
        },
        "outputId": "4a58713f-43b9-45de-964b-7c24d4a3ab57",
        "id": "43qTrABg7TNE"
      },
      "execution_count": 103,
      "outputs": [
        {
          "output_type": "stream",
          "name": "stderr",
          "text": [
            "100%|██████████| 20/20 [00:16<00:00,  1.18it/s]\n"
          ]
        }
      ]
    },
    {
      "cell_type": "code",
      "source": [
        "# @title Вычисляем силуэт для разного количества кластеров (от 2 до 20) для X_tfidf_pca2\n",
        "from sklearn.metrics import silhouette_score\n",
        "\n",
        "# все как в предыдущей ячейке, только силуэт-скоры сохраняем как значения в словаре\n",
        "silhouette_tfidf = {}\n",
        "for i in tqdm(range(2,22)):\n",
        "    kmeans = cluster.KMeans(n_clusters=i,\n",
        "               init='k-means++',\n",
        "               n_init=15,\n",
        "               max_iter=500,\n",
        "               random_state=17)\n",
        "    kmeans.fit(X_tfidf_pca2)\n",
        "\n",
        "    silhouette_tfidf[i] = silhouette_score(X_tfidf_pca2, kmeans.labels_, metric='euclidean')"
      ],
      "metadata": {
        "colab": {
          "base_uri": "https://localhost:8080/"
        },
        "outputId": "81399fc9-08df-4ddd-9704-02564890f402",
        "id": "5qkofqNE7TNG"
      },
      "execution_count": 104,
      "outputs": [
        {
          "output_type": "stream",
          "name": "stderr",
          "text": [
            "100%|██████████| 20/20 [02:37<00:00,  7.89s/it]\n"
          ]
        }
      ]
    },
    {
      "cell_type": "code",
      "source": [
        "# TfIdfVectorizer\n",
        "plt.subplot(3, 2, 3) # аргументы: nrows, ncols, index\n",
        "\n",
        "plt.plot(range(2,len(inertia_tfidf)+2), inertia_tfidf, marker='x',color='blue')\n",
        "# первый параметр = x (число шагов= числу кластеров), второй = y (инерция)\n",
        "\n",
        "plt.xlabel('Число кластеров')\n",
        "plt.title('K-means Inertia (TfIdfVectorizer)',fontweight='bold')\n",
        "plt.grid(True)\n",
        "\n",
        "plt.subplot(3, 2, 4) # аргументы: nrows, ncols, index\n",
        "\n",
        "plt.bar(range(len(silhouette_tfidf)), list(silhouette_tfidf.values()), align='center',color= 'blue')\n",
        "plt.xticks(range(len(silhouette_tfidf)), list(silhouette_tfidf.keys())) # отметки на шкале\n",
        "plt.grid(True)\n",
        "plt.title('Silhouette Score (TfIdfVectorizer)',fontweight='bold')\n",
        "plt.xlabel('Число кластеров')"
      ],
      "metadata": {
        "colab": {
          "base_uri": "https://localhost:8080/",
          "height": 309
        },
        "outputId": "bef91c52-5243-4212-b557-664436c536ac",
        "id": "AVLwC3xl7TNH"
      },
      "execution_count": 105,
      "outputs": [
        {
          "output_type": "execute_result",
          "data": {
            "text/plain": [
              "Text(0.5, 0, 'Число кластеров')"
            ]
          },
          "metadata": {},
          "execution_count": 105
        },
        {
          "output_type": "display_data",
          "data": {
            "text/plain": [
              "<Figure size 1000x800 with 2 Axes>"
            ],
            "image/png": "[encoded data removed]"
          },
          "metadata": {}
        }
      ]
    },
    {
      "cell_type": "code",
      "source": [
        "# @title Вычисляем инерцию для разного количества кластеров (от 2 до 20) для X_glove\n",
        "\n",
        "# https://scikit-learn.org/stable/modules/clustering.html#k-means\n",
        "\n",
        "import sklearn.cluster as cluster\n",
        "from tqdm import tqdm\n",
        "\n",
        "# inertia = {} # сюда будем сохранять значения\n",
        "inertia_glove = []\n",
        "for i in tqdm(range(2,22)): # значения интервала - число кластеров (можно изменять)\n",
        "\n",
        "    kmeans = cluster.KMeans(\n",
        "               n_clusters=i, # инициализируем модель\n",
        "               init='k-means++', # метод, как разбросать центры среди данных\n",
        "               n_init=15, # сколько раз будем переопределять центры (в результате выберем самый успешный)\n",
        "               max_iter=500, # количество итераций а один проход алгоритма\n",
        "               random_state=17 # сколько раз датасет перемешан перед кластеризацией\n",
        "    )\n",
        "\n",
        "\n",
        "    kmeans.fit(pd.DataFrame(X_glove)) # обучаем модель\n",
        "    inertia_glove.append(kmeans.inertia_) # добавляем значения инерции для каждого числа кластеров\n",
        "    # inertia.update({i:kmeans.inertia_})\n",
        "\n",
        "# print(inertia)"
      ],
      "metadata": {
        "colab": {
          "base_uri": "https://localhost:8080/"
        },
        "outputId": "21f82642-4a8e-433c-9b83-889a7244fa3c",
        "id": "ZFGkBR027TNI"
      },
      "execution_count": 106,
      "outputs": [
        {
          "output_type": "stream",
          "name": "stderr",
          "text": [
            "100%|██████████| 20/20 [00:13<00:00,  1.44it/s]\n"
          ]
        }
      ]
    },
    {
      "cell_type": "code",
      "source": [
        "# @title Вычисляем силуэт для разного количества кластеров (от 2 до 20) для X_glove\n",
        "from sklearn.metrics import silhouette_score\n",
        "\n",
        "# все как в предыдущей ячейке, только силуэт-скоры сохраняем как значения в словаре\n",
        "silhouette_glove = {}\n",
        "for i in tqdm(range(2,22)):\n",
        "    kmeans = cluster.KMeans(n_clusters=i,\n",
        "               init='k-means++',\n",
        "               n_init=15,\n",
        "               max_iter=500,\n",
        "               random_state=17)\n",
        "    kmeans.fit(pd.DataFrame(X_glove))\n",
        "\n",
        "    silhouette_glove[i] = silhouette_score(pd.DataFrame(X_glove), kmeans.labels_, metric='euclidean')"
      ],
      "metadata": {
        "colab": {
          "base_uri": "https://localhost:8080/"
        },
        "outputId": "b8873ae4-b8d0-4778-999b-ddf6e0b470ef",
        "id": "WcoCCcGH7TNJ"
      },
      "execution_count": 107,
      "outputs": [
        {
          "output_type": "stream",
          "name": "stderr",
          "text": [
            "100%|██████████| 20/20 [03:12<00:00,  9.63s/it]\n"
          ]
        }
      ]
    },
    {
      "cell_type": "code",
      "source": [
        "# Glove\n",
        "plt.subplot(3, 2, 5) # аргументы: nrows, ncols, index\n",
        "\n",
        "plt.plot(range(2,len(inertia_glove)+2), inertia_glove, marker='x',color='blue')\n",
        "# первый параметр = x (число шагов= числу кластеров), второй = y (инерция)\n",
        "\n",
        "plt.xlabel('Число кластеров')\n",
        "plt.title('K-means Inertia (Glove)',fontweight='bold')\n",
        "plt.grid(True)\n",
        "\n",
        "plt.subplot(3, 2, 6) # аргументы: nrows, ncols, index\n",
        "\n",
        "plt.bar(range(len(silhouette_glove)), list(silhouette_glove.values()), align='center',color= 'blue')\n",
        "plt.xticks(range(len(silhouette_glove)), list(silhouette_glove.keys())) # отметки на шкале\n",
        "plt.grid(True)\n",
        "plt.title('Silhouette Score (Glove)',fontweight='bold')\n",
        "plt.xlabel('Число кластеров')\n",
        "\n",
        "\n",
        "plt.show()"
      ],
      "metadata": {
        "colab": {
          "base_uri": "https://localhost:8080/",
          "height": 292
        },
        "outputId": "763d3ce5-5d7f-4c3f-e451-51960a73256f",
        "id": "xznigKiH7TNK"
      },
      "execution_count": 108,
      "outputs": [
        {
          "output_type": "display_data",
          "data": {
            "text/plain": [
              "<Figure size 1000x800 with 2 Axes>"
            ],
            "image/png": "[encoded data removed]"
          },
          "metadata": {}
        }
      ]
    },
    {
      "cell_type": "markdown",
      "source": [
        "Попробуем разделить тексты, векторизированные TfIdfVectorizer на 3 кластера, и на 2 -- тексты, векторизированные другими способами"
      ],
      "metadata": {
        "id": "YMNw2kb97TNK"
      }
    },
    {
      "cell_type": "code",
      "source": [
        "import sklearn.cluster as cluster"
      ],
      "metadata": {
        "id": "DqvsgbKfKFkz"
      },
      "execution_count": 144,
      "outputs": []
    },
    {
      "cell_type": "code",
      "source": [
        "# @title CountVectorizer\n",
        "kmeans2 = cluster.KMeans(n_clusters=2,random_state=42,init='k-means++')\n",
        "kmeans_labels_count = kmeans2.fit_predict(X_count_pca2)\n",
        "# вычисляем центры кластеров и предугадываем номер кластера для каждого семпла данных\n",
        "\n",
        "centroids_count = kmeans2.cluster_centers_\n",
        "\n",
        "display(pd.Series(kmeans_labels_count).value_counts()) # кол-во вин по кластерам"
      ],
      "metadata": {
        "colab": {
          "base_uri": "https://localhost:8080/",
          "height": 147
        },
        "outputId": "1b975d20-70c4-4aa4-b2a1-01e23e8407f7",
        "id": "kvLWmmBGKFk2"
      },
      "execution_count": 149,
      "outputs": [
        {
          "output_type": "display_data",
          "data": {
            "text/plain": [
              "1    21172\n",
              "0      951\n",
              "Name: count, dtype: int64"
            ],
            "text/html": [
              "<div>\n",
              "<style scoped>\n",
              "    .dataframe tbody tr th:only-of-type {\n",
              "        vertical-align: middle;\n",
              "    }\n",
              "\n",
              "    .dataframe tbody tr th {\n",
              "        vertical-align: top;\n",
              "    }\n",
              "\n",
              "    .dataframe thead th {\n",
              "        text-align: right;\n",
              "    }\n",
              "</style>\n",
              "<table border=\"1\" class=\"dataframe\">\n",
              "  <thead>\n",
              "    <tr style=\"text-align: right;\">\n",
              "      <th></th>\n",
              "      <th>count</th>\n",
              "    </tr>\n",
              "  </thead>\n",
              "  <tbody>\n",
              "    <tr>\n",
              "      <th>1</th>\n",
              "      <td>21172</td>\n",
              "    </tr>\n",
              "    <tr>\n",
              "      <th>0</th>\n",
              "      <td>951</td>\n",
              "    </tr>\n",
              "  </tbody>\n",
              "</table>\n",
              "</div><br><label><b>dtype:</b> int64</label>"
            ]
          },
          "metadata": {}
        }
      ]
    },
    {
      "cell_type": "code",
      "source": [
        "sns.set( rc={'figure.figsize':(5,4)},font_scale=1)\n",
        "\n",
        "plt.scatter(x=X_count_pca2[:, 0], y=X_count_pca2[:, 1], c=kmeans_labels_count, cmap='viridis')\n",
        "plt.scatter(centroids_count[:, 0], centroids_count[:, 1],\n",
        "            marker='x', s=160, color='black')\n",
        "\n",
        "plt.xlabel('Principal Component 1')\n",
        "plt.ylabel('Principal Component 2')\n",
        "# добавить легенду\n",
        "\n",
        "plt.title('Clustered Data (PCA visualization)',fontweight='bold')\n",
        "\n",
        "plt.show()"
      ],
      "metadata": {
        "colab": {
          "base_uri": "https://localhost:8080/",
          "height": 419
        },
        "outputId": "446fe663-e733-4e30-ff37-26496054868a",
        "id": "K75tdZqsKFk3"
      },
      "execution_count": 150,
      "outputs": [
        {
          "output_type": "display_data",
          "data": {
            "text/plain": [
              "<Figure size 500x400 with 1 Axes>"
            ],
            "image/png": "[encoded data removed]"
          },
          "metadata": {}
        }
      ]
    },
    {
      "cell_type": "code",
      "source": [
        "# силуэты: определяется на промежутке [-1;1] (чем выше тем лучше)\n",
        "\n",
        "# инерция: определяется на [0, inf) (чем ниже тем лучше)\n",
        "\n",
        "print(\"Inertia score: %0.1f\" % kmeans2.inertia_,\n",
        "     \"\\nSilhouette score: %0.1f\" % silhouette_score(X_count_pca2, kmeans2.labels_, metric='euclidean'))"
      ],
      "metadata": {
        "colab": {
          "base_uri": "https://localhost:8080/"
        },
        "outputId": "99eb3649-666a-4da5-82ad-768ec02dc5df",
        "id": "_8_oXFw3KFk4"
      },
      "execution_count": 151,
      "outputs": [
        {
          "output_type": "stream",
          "name": "stdout",
          "text": [
            "Inertia score: 25468949.8 \n",
            "Silhouette score: 0.9\n"
          ]
        }
      ]
    },
    {
      "cell_type": "markdown",
      "source": [
        "Было:\n",
        "```\n",
        "Inertia score: 4550075.8\n",
        "Silhouette score: 1.0\n",
        "```\n",
        "\n",
        "Стало:\n",
        "```\n",
        "Inertia score: 25468949.8\n",
        "Silhouette score: 0.9\n",
        "```"
      ],
      "metadata": {
        "id": "vjxEzu62LzCA"
      }
    },
    {
      "cell_type": "code",
      "source": [
        "from sklearn.metrics import pairwise_distances_argmin_min\n",
        "\n",
        "closest, _ = pairwise_distances_argmin_min(centroids_count, X_count_pca2)\n",
        "closest"
      ],
      "metadata": {
        "colab": {
          "base_uri": "https://localhost:8080/"
        },
        "outputId": "95c9e493-4a83-45d6-f78c-902a1874fe12",
        "id": "XIkzlNODKFk4"
      },
      "execution_count": 130,
      "outputs": [
        {
          "output_type": "execute_result",
          "data": {
            "text/plain": [
              "array([18541,  7507])"
            ]
          },
          "metadata": {},
          "execution_count": 130
        }
      ]
    },
    {
      "cell_type": "code",
      "source": [
        "# Тексты, ближайший к центроиду 1\n",
        "df.iloc[closest[0]]['text']"
      ],
      "metadata": {
        "colab": {
          "base_uri": "https://localhost:8080/",
          "height": 105
        },
        "outputId": "d7fd9fa4-38e5-4510-a84d-586f92c88766",
        "id": "0sLLhyPeKFk6"
      },
      "execution_count": 131,
      "outputs": [
        {
          "output_type": "execute_result",
          "data": {
            "text/plain": [
              "'Why does my microk8s AdGuard Home container need to be reconfigured every time it shuts down? I\\'m having experiencing an issue with my AGH pod where it has to be reconfigured every time the container shuts down; be it manually, or at server restart.These are the various YAMLs:Namespace---apiVersion: v1kind: Namespacemetadata:  name: adguardPV---apiVersion: v1kind: PersistentVolumemetadata:  name: adguard-data-pv  namespace: adguardspec:  capacity:    storage: 1Gi  accessModes:    - ReadWriteOnce  persistentVolumeReclaimPolicy: Retain  hostPath:    path: \"/tank/apps/adguard/data\"---apiVersion: v1kind: PersistentVolumemetadata:  name: adguard-conf-pv  namespace: adguardspec:  capacity:    storage: 1Gi  accessModes:    - ReadWriteOnce  persistentVolumeReclaimPolicy: Retain  hostPath:    path: \"/tank/apps/adguard/conf\"PVC---apiVersion: v1kind: PersistentVolumeClaimmetadata:  name: adguard-data-pvc  namespace: adguardspec:  accessModes:    - ReadWriteOnce  resources:    requests:      storage: 1Gi  volumeName: adguard-data-pv---apiVersion: v1kind: PersistentVolumeClaimmetadata:  name: adguard-conf-pvc  namespace: adguardspec:  accessModes:    - ReadWriteOnce  resources:    requests:      storage: 1Gi  volumeName: adguard-conf-pvConfigMap---apiVersion: v1kind: ConfigMapmetadata:  name: adguard-config  namespace: adguarddata:  AdGuardHome.yaml: |    bind_host: 0.0.0.0    bind_port: 3000    auth_name: \"admin\"    auth_pass: \"[REDACTED]\"    language: \"en\"    rlimit_nofile: 0    rlimit_nproc: 0    log_file: \"\"    log_syslog: false    log_syslog_srv: \"\"    pid_file: \"\"    verbose: falseDeployment---apiVersion: apps/v1kind: Deploymentmetadata:  name: adguard-deployment  namespace: adguardspec:  replicas: 1  selector:    matchLabels:      app: adguard  template:    metadata:      labels:        app: adguard    spec:      containers:        - name: adguard-home          image: adguard/adguardhome:latest          resources:            requests:              memory: \"128Mi\"              cpu: \"250m\"            limits:              memory: \"512Mi\"              cpu: \"1000m\"          env:            - name: AGH_CONFIG              valueFrom:                configMapKeyRef:                  name: adguard-config                  key: AdGuardHome.yaml          ports:            - containerPort: 53              name: dns-tcp              protocol: TCP            - containerPort: 53              name: dns-udp              protocol: UDP            - containerPort: 67              name: dhcp-one              protocol: UDP            - containerPort: 68              name: dhcp-two              protocol: TCP            - containerPort: 68              name: dhcp-three              protocol: UDP            - containerPort: 80              name: http-tcp              protocol: TCP            - containerPort: 443              name: doh-tcp              protocol: TCP            - containerPort: 443              name: doh-udp              protocol: UDP            - containerPort: 3000              name: http-initial            - containerPort: 784              name: doq-one              protocol: UDP            - containerPort: 853              name: dot              protocol: TCP            - containerPort: 853              name: doq-two              protocol: UDP            - containerPort: 5443              name: dnscrypt-tcp              protocol: TCP            - containerPort: 5443              name: dnscrypt-udp              protocol: UDP          volumeMounts:            - name: adguard-data              mountPath: /opt/adguardhome/work            - name: adguard-conf              mountPath: /opt/adguardhome/conf      volumes:        - name: adguard-data          persistentVolumeClaim:            claimName: adguard-data-pvc        - name: adguard-conf          persistentVolumeClaim:            claimName: adguard-conf-pvcService---apiVersion: v1kind: Servicemetadata:  name: adguard-service  namespace: adguardspec:  selector:    app: adguard  ports:    - protocol: TCP      port: 3000      targetPort: 3000      name: http-initial    - protocol: TCP      port: 80      targetPort: 80      name: http-tcp    - protocol: UDP      port: 53      targetPort: 53      name: dns-udp    - protocol: TCP      port: 53      targetPort: 53      name: dns-tcp    - protocol: UDP      port: 67      targetPort: 67      name: dhcp-one    - protocol: TCP      port: 68      targetPort: 68      name: dhcp-two    - protocol: UDP      port: 68      targetPort: 68      name: dhcp-three    - protocol: TCP      port: 443      targetPort: 443      name: doh-tcp    - protocol: UDP      port: 443      targetPort: 443      name: doh-udp    - protocol: UDP      port: 784      targetPort: 784      name: doq-one    - protocol: TCP      port: 853      targetPort: 853      name: dot    - protocol: UDP      port: 853      targetPort: 853      name: doq-two    - protocol: TCP      port: 5443      targetPort: 5443      name: dnscrypt-tcp    - protocol: UDP      port: 5443      targetPort: 5443      name: dnscrypt-udp  type: LoadBalancer  externalTrafficPolicy: LocalI have to admit that I am new to Kubernetes, so maybe I am doing something wrong? I do, however, find it puzzling that having deployed Plex in a similar fashion seems to work just fine; I can stop, destroy, etc. and re-deploy it, and it starts as if nothing ever happened.I\\'m using microk8s and metallb over ZFS (for the data).'"
            ],
            "application/vnd.google.colaboratory.intrinsic+json": {
              "type": "string"
            }
          },
          "metadata": {},
          "execution_count": 131
        }
      ]
    },
    {
      "cell_type": "code",
      "source": [
        "# Тексты, ближайший к центроиду 2\n",
        "df.iloc[closest[1]]['text']"
      ],
      "metadata": {
        "colab": {
          "base_uri": "https://localhost:8080/",
          "height": 105
        },
        "outputId": "f2268a90-b071-426d-a035-6a38143fa515",
        "id": "FIiCgTIyKFk6"
      },
      "execution_count": 132,
      "outputs": [
        {
          "output_type": "execute_result",
          "data": {
            "text/plain": [
              "'Program to find the Set of Subsets using Iteration in Java. Issue: Two ArrayLists happen to share the same Address. Help to Debug Intro: Below is the program to find the set of subsets, using iteration, in Java.Issue: The ans is also getting updated with the new value when only ansCopy is attempted to update.For example, I take a value as {5,4,6}. In the first iteration, 5 gets appended in the first inner array list of ansCopy. But to the surprise the first inner array list of ans also gets appended by 5.Maybe, the two ArrayList ans and ansCopy happen to share the same address.Requirement: Can someone explain why this is happening and help me to debug it!public static ArrayList<ArrayList<Integer> > subsetUsingIteration2(int[] a) {    ArrayList<ArrayList<Integer> > ans=new ArrayList<ArrayList<Integer> >();    ans.add(new ArrayList<Integer>());     // ArrayList<ArrayList<Integer> > ans={{}};    ArrayList<ArrayList<Integer> > ansCopy=new ArrayList<ArrayList<Integer> >();    // ArrayList<Integer> ansCopy={};    for(int i=0; i<a.length; i++) {      ansCopy.addAll(ans);            for(int j=0; j<ansCopy.size(); j++)         ansCopy.get(j).add(a[i]);      ans.addAll(ansCopy);      ansCopy.clear();          }    return ans;  }Attempts: When I take a={5,4,6} as the input, I am supposed to get this output[[], [5], [4], [6], [5,4], [4,6], [5,6], [5,4,6]]instead I get this output[[5, 4, 4, 6, 6, 6, 6], [5, 4, 4, 6, 6, 6, 6], [5, 4, 4, 6, 6, 6, 6], [5, 4, 4, 6, 6, 6, 6], [5, 4, 4, 6, 6, 6, 6], [5, 4, 4, 6, 6, 6, 6], [5, 4, 4, 6, 6, 6, 6], [5, 4, 4, 6, 6, 6, 6]]Tried to find the memory addresses of those two variables but could not find them.'"
            ],
            "application/vnd.google.colaboratory.intrinsic+json": {
              "type": "string"
            }
          },
          "metadata": {},
          "execution_count": 132
        }
      ]
    },
    {
      "cell_type": "code",
      "source": [
        "# @title TfIdfVectorizer\n",
        "kmeans3 = cluster.KMeans(n_clusters=3,random_state=42,init='k-means++')\n",
        "kmeans_labels_tfidf = kmeans3.fit_predict(X_tfidf_pca2)\n",
        "# вычисляем центры кластеров и предугадываем номер кластера для каждого семпла данных\n",
        "\n",
        "centroids_tfidf = kmeans3.cluster_centers_\n",
        "\n",
        "display(pd.Series(kmeans_labels_tfidf).value_counts()) # кол-во вин по кластерам"
      ],
      "metadata": {
        "colab": {
          "base_uri": "https://localhost:8080/",
          "height": 178
        },
        "outputId": "0e4f531b-b687-4e42-852a-15f54be4499d",
        "id": "zSM0jYuwKFk7"
      },
      "execution_count": 152,
      "outputs": [
        {
          "output_type": "display_data",
          "data": {
            "text/plain": [
              "1    12390\n",
              "2     6055\n",
              "0     3678\n",
              "Name: count, dtype: int64"
            ],
            "text/html": [
              "<div>\n",
              "<style scoped>\n",
              "    .dataframe tbody tr th:only-of-type {\n",
              "        vertical-align: middle;\n",
              "    }\n",
              "\n",
              "    .dataframe tbody tr th {\n",
              "        vertical-align: top;\n",
              "    }\n",
              "\n",
              "    .dataframe thead th {\n",
              "        text-align: right;\n",
              "    }\n",
              "</style>\n",
              "<table border=\"1\" class=\"dataframe\">\n",
              "  <thead>\n",
              "    <tr style=\"text-align: right;\">\n",
              "      <th></th>\n",
              "      <th>count</th>\n",
              "    </tr>\n",
              "  </thead>\n",
              "  <tbody>\n",
              "    <tr>\n",
              "      <th>1</th>\n",
              "      <td>12390</td>\n",
              "    </tr>\n",
              "    <tr>\n",
              "      <th>2</th>\n",
              "      <td>6055</td>\n",
              "    </tr>\n",
              "    <tr>\n",
              "      <th>0</th>\n",
              "      <td>3678</td>\n",
              "    </tr>\n",
              "  </tbody>\n",
              "</table>\n",
              "</div><br><label><b>dtype:</b> int64</label>"
            ]
          },
          "metadata": {}
        }
      ]
    },
    {
      "cell_type": "code",
      "source": [
        "sns.set( rc={'figure.figsize':(5,4)},font_scale=1)\n",
        "\n",
        "plt.scatter(x=X_tfidf_pca2[:, 0], y=X_tfidf_pca2[:, 1], c=kmeans_labels_tfidf, cmap='viridis')\n",
        "plt.scatter(centroids_tfidf[:, 0], centroids_tfidf[:, 1],\n",
        "            marker='x', s=160, color='black')\n",
        "\n",
        "plt.xlabel('Principal Component 1')\n",
        "plt.ylabel('Principal Component 2')\n",
        "# добавить легенду\n",
        "\n",
        "plt.title('Clustered Data (PCA visualization)',fontweight='bold')\n",
        "\n",
        "plt.show()"
      ],
      "metadata": {
        "colab": {
          "base_uri": "https://localhost:8080/",
          "height": 419
        },
        "outputId": "0d807e54-acf1-485c-c87f-6f66a98f0219",
        "id": "R3M41kh8KFk8"
      },
      "execution_count": 153,
      "outputs": [
        {
          "output_type": "display_data",
          "data": {
            "text/plain": [
              "<Figure size 500x400 with 1 Axes>"
            ],
            "image/png": "[encoded data removed]"
          },
          "metadata": {}
        }
      ]
    },
    {
      "cell_type": "code",
      "source": [
        "# силуэты: определяется на промежутке [-1;1] (чем выше тем лучше)\n",
        "\n",
        "# инерция: определяется на [0, inf) (чем ниже тем лучше)\n",
        "\n",
        "print(\"Inertia score: %0.1f\" % kmeans3.inertia_,\n",
        "     \"\\nSilhouette score: %0.1f\" % silhouette_score(X_tfidf_pca2, kmeans3.labels_, metric='euclidean'))"
      ],
      "metadata": {
        "colab": {
          "base_uri": "https://localhost:8080/"
        },
        "outputId": "5b26bf9b-8ac9-47c6-8603-06ce3fd1146c",
        "id": "wDKNReU2KFk8"
      },
      "execution_count": 154,
      "outputs": [
        {
          "output_type": "stream",
          "name": "stdout",
          "text": [
            "Inertia score: 249.5 \n",
            "Silhouette score: 0.6\n"
          ]
        }
      ]
    },
    {
      "cell_type": "markdown",
      "source": [
        "Было:\n",
        "```\n",
        "Inertia score: 159.5\n",
        "Silhouette score: 0.7\n",
        "```\n",
        "\n",
        "Стало:\n",
        "```\n",
        "Inertia score: 249.5\n",
        "Silhouette score: 0.6\n",
        "```"
      ],
      "metadata": {
        "id": "jQiwSQDxM2uu"
      }
    },
    {
      "cell_type": "code",
      "source": [
        "from sklearn.metrics import pairwise_distances_argmin_min\n",
        "\n",
        "closest, _ = pairwise_distances_argmin_min(centroids_tfidf, X_tfidf_pca2)\n",
        "closest"
      ],
      "metadata": {
        "colab": {
          "base_uri": "https://localhost:8080/"
        },
        "outputId": "f8b34c9a-dd52-403f-db09-061ddcf6668a",
        "id": "G87B74viKFk9"
      },
      "execution_count": 155,
      "outputs": [
        {
          "output_type": "execute_result",
          "data": {
            "text/plain": [
              "array([11663, 16540,  6683])"
            ]
          },
          "metadata": {},
          "execution_count": 155
        }
      ]
    },
    {
      "cell_type": "code",
      "source": [
        "# Тексты, ближайший к центроиду 1\n",
        "df.iloc[closest[0]]['text']"
      ],
      "metadata": {
        "colab": {
          "base_uri": "https://localhost:8080/",
          "height": 105
        },
        "outputId": "5793d300-3d84-4d4d-d721-1aaae31cd9b5",
        "id": "pvWJbcr2KFk9"
      },
      "execution_count": 156,
      "outputs": [
        {
          "output_type": "execute_result",
          "data": {
            "text/plain": [
              "'react pong game state add up wierdly I am trying to make a pong game I made a player to move by pressing w/s toward top and bottom but when I change the direction of it it bounces which I don\\'t expect it bounce exponentially if you change the directionimport logo from \"./logo.svg\";import { useState, useEffect } from \"react\";import \"./App.css\";function App() {  const [location, setLocation] = useState(100);  document.addEventListener(\"keypress\", (e) => handleclick(e));  const handleclick = (e) => {    const key = e.key;    console.log(key);    if (key == \"w\") {      setLocation((prevLocation) => prevLocation - 10);    }    if (key == \"s\") {      setLocation((prevLocation) => prevLocation + 10);    }  };  //! problem is when you change the direction player bounce   return (    <div className=\"App\">      <div        className=\"player1\"        style={{          top: location + \"px\",        }}      ></div>    </div>  );}export default App; There is nothing problematic in CSS so I don\\'t consider it here.//edit i removed setLocation((prevLocation) => prevLocation + 10); and add setLocation(location + 10); but still there is problem state whole app crashes like there is infinite loop and and state changes properly but function inside eventListener execute infinitely and i cahnged keypress to keydown next tried to set another event listner for keyup to removeEventListner of keydown in case maybe it dont go in a infinite loop but still didnt helpnow code is like this but still problematicfunction App() {  const [location, setLocation] = useState(100);  document.addEventListener(\"keydown\", (e) => handleMove(e));  document.addEventListener(\"keyup\", () => {    document.removeEventListener(\"keydown\", (e) => handleMove(e));  });  console.log(location);  const handleMove = (e) => {    const key = e.key;    if (key == \"w\") {      setLocation(location - 10);    }    if (key == \"s\") {      setLocation(location + 10);    }  };  //! problem is when you change the direction player bounce  return (    <div className=\"App\">      <div        className=\"player1\"        style={{          top: location + \"px\",        }}      ></div>    </div>  );}export default App;'"
            ],
            "application/vnd.google.colaboratory.intrinsic+json": {
              "type": "string"
            }
          },
          "metadata": {},
          "execution_count": 156
        }
      ]
    },
    {
      "cell_type": "code",
      "source": [
        "# Тексты, ближайший к центроиду 2\n",
        "df.iloc[closest[1]]['text']"
      ],
      "metadata": {
        "colab": {
          "base_uri": "https://localhost:8080/",
          "height": 105
        },
        "outputId": "91278a0a-3a44-46c0-c025-ce9d2da6967f",
        "id": "0qOSAg3TKFk9"
      },
      "execution_count": 157,
      "outputs": [
        {
          "output_type": "execute_result",
          "data": {
            "text/plain": [
              "'Pointer to array vs pointer I examined a lot question that asked in stackoverflow but ı didn\\'t get exact answer of my question. Btw,my question is about C.int a[10] = {0,1,2,3,4,5,6,7,8,9};int (*p)[10]; // ı know it is pointer to int array that consist of 10 elements.int *d;d = a;p = &a; // it is array typeprintf(\"*p = %p , p = %d\", (void *)*p, (void*)p); // it prints same thing, start address of \"a\" array printf(\"*d = %p, d = %p\",*d,d); // it prints a[0] and start address of a respectively.I know already \"p\" is a array typed but actually it is a pointer for array (it occupy 8 bytes in memory like \"d\" with address data in most of systems). When ı dereference \"p\", ı expect \"a[0]\". Someway compiler handle it and returns address data of \"a\" array. But why? Is this about standart or historically thing? Because ı didn\\'t find any reason why compiler does that. It could be normally dereference it like as \"d\".'"
            ],
            "application/vnd.google.colaboratory.intrinsic+json": {
              "type": "string"
            }
          },
          "metadata": {},
          "execution_count": 157
        }
      ]
    },
    {
      "cell_type": "code",
      "source": [
        "# Тексты, ближайший к центроиду 3\n",
        "df.iloc[closest[2]]['text']"
      ],
      "metadata": {
        "colab": {
          "base_uri": "https://localhost:8080/",
          "height": 105
        },
        "id": "IAPLGdNvNFbp",
        "outputId": "ab292de6-a0a4-46c8-bc30-c7d78856b894"
      },
      "execution_count": 159,
      "outputs": [
        {
          "output_type": "execute_result",
          "data": {
            "text/plain": [
              "\"Best way to display widgets outside of the main Scaffold? I want to display a sidebar to the right of the entire Scaffold, such that when the user navigates between routes in the Scaffold, for example using Navigator.of(context).pushNamed(), the sidebar should be unaffected. In the sidebar, I also need to have a button that displays widgets in front of the entire Scaffold.It seems simple enough to just use the MaterialApp's builder-method to surround the entire app with a Row and possibly a Stack (to be able to display things in front of the Scaffold). The problem is that there seem to be a few puzzle pieces missing when using the builder method, for example Overlay and Material. If I add them manually, it seems to work.builder: (context, child) {  return Overlay(    initialEntries: [      OverlayEntry(builder: (context){        return Row(          children: [            Expanded(child: child),            Material(child: MySideBar()),          ],        );      })    ],  );},Is this a good way to structure this kind of app? It honestly feels kind of sketchy. Is there a better approach, or even an official way to do it?\""
            ],
            "application/vnd.google.colaboratory.intrinsic+json": {
              "type": "string"
            }
          },
          "metadata": {},
          "execution_count": 159
        }
      ]
    },
    {
      "cell_type": "code",
      "source": [
        "# @title Glove\n",
        "kmeans2 = cluster.KMeans(n_clusters=2,random_state=42,init='k-means++')\n",
        "kmeans_labels_glove = kmeans2.fit_predict(pd.DataFrame(X_glove))\n",
        "# вычисляем центры кластеров и предугадываем номер кластера для каждого семпла данных\n",
        "\n",
        "centroids_glove = kmeans2.cluster_centers_\n",
        "\n",
        "display(pd.Series(kmeans_labels_glove).value_counts()) # кол-во вин по кластерам"
      ],
      "metadata": {
        "colab": {
          "base_uri": "https://localhost:8080/",
          "height": 147
        },
        "outputId": "bfb06253-176c-4cfd-bfe5-6c59d84d9a8d",
        "id": "ALhLayLzKFk-"
      },
      "execution_count": 160,
      "outputs": [
        {
          "output_type": "display_data",
          "data": {
            "text/plain": [
              "1    11801\n",
              "0    10322\n",
              "Name: count, dtype: int64"
            ],
            "text/html": [
              "<div>\n",
              "<style scoped>\n",
              "    .dataframe tbody tr th:only-of-type {\n",
              "        vertical-align: middle;\n",
              "    }\n",
              "\n",
              "    .dataframe tbody tr th {\n",
              "        vertical-align: top;\n",
              "    }\n",
              "\n",
              "    .dataframe thead th {\n",
              "        text-align: right;\n",
              "    }\n",
              "</style>\n",
              "<table border=\"1\" class=\"dataframe\">\n",
              "  <thead>\n",
              "    <tr style=\"text-align: right;\">\n",
              "      <th></th>\n",
              "      <th>count</th>\n",
              "    </tr>\n",
              "  </thead>\n",
              "  <tbody>\n",
              "    <tr>\n",
              "      <th>1</th>\n",
              "      <td>11801</td>\n",
              "    </tr>\n",
              "    <tr>\n",
              "      <th>0</th>\n",
              "      <td>10322</td>\n",
              "    </tr>\n",
              "  </tbody>\n",
              "</table>\n",
              "</div><br><label><b>dtype:</b> int64</label>"
            ]
          },
          "metadata": {}
        }
      ]
    },
    {
      "cell_type": "code",
      "source": [
        "sns.set( rc={'figure.figsize':(5,4)},font_scale=1)\n",
        "\n",
        "plt.scatter(X_glove, X_glove, c=kmeans_labels_glove, cmap='viridis')\n",
        "plt.scatter(centroids_glove[:, 0], centroids_glove[:, 0],\n",
        "            marker='x', s=160, color='black')\n",
        "\n",
        "plt.xlabel('Средний вектор документа')\n",
        "plt.ylabel('Средний вектор документа')\n",
        "# добавить легенду\n",
        "\n",
        "plt.title('Clustered Data ',fontweight='bold')\n",
        "\n",
        "plt.show()"
      ],
      "metadata": {
        "colab": {
          "base_uri": "https://localhost:8080/",
          "height": 419
        },
        "outputId": "71381ff4-8f1b-4732-aece-63a59a75a4e5",
        "id": "2fUK-9WVKFk_"
      },
      "execution_count": 161,
      "outputs": [
        {
          "output_type": "display_data",
          "data": {
            "text/plain": [
              "<Figure size 500x400 with 1 Axes>"
            ],
            "image/png": "[encoded data removed]"
          },
          "metadata": {}
        }
      ]
    },
    {
      "cell_type": "code",
      "source": [
        "# силуэты: определяется на промежутке [-1;1] (чем выше тем лучше)\n",
        "\n",
        "# инерция: определяется на [0, inf) (чем ниже тем лучше)\n",
        "\n",
        "print(\"Inertia score: %0.1f\" % kmeans2.inertia_,\n",
        "     \"\\nSilhouette score: %0.1f\" % silhouette_score(pd.DataFrame(X_glove), kmeans2.labels_, metric='euclidean'))"
      ],
      "metadata": {
        "colab": {
          "base_uri": "https://localhost:8080/"
        },
        "outputId": "7028ec9b-8d17-4ab6-c433-3a8cdefd5ec9",
        "id": "3DLGaK1yKFk_"
      },
      "execution_count": 162,
      "outputs": [
        {
          "output_type": "stream",
          "name": "stdout",
          "text": [
            "Inertia score: 1.7 \n",
            "Silhouette score: 0.5\n"
          ]
        }
      ]
    },
    {
      "cell_type": "markdown",
      "source": [
        "Было:\n",
        "```\n",
        "Inertia score: 0.6\n",
        "Silhouette score: 0.5\n",
        "```\n",
        "\n",
        "\n",
        "Стало:\n",
        "```\n",
        "Inertia score: 1.7\n",
        "Silhouette score: 0.5\n",
        "```"
      ],
      "metadata": {
        "id": "wyqlEoLENnSI"
      }
    },
    {
      "cell_type": "code",
      "source": [
        "from sklearn.metrics import pairwise_distances_argmin_min\n",
        "\n",
        "closest, _ = pairwise_distances_argmin_min(centroids_glove, pd.DataFrame(X_glove))\n",
        "closest"
      ],
      "metadata": {
        "colab": {
          "base_uri": "https://localhost:8080/"
        },
        "outputId": "7e12e426-28c1-40cb-de64-512f2cadd682",
        "id": "lLNJy3RaKFlA"
      },
      "execution_count": 163,
      "outputs": [
        {
          "output_type": "execute_result",
          "data": {
            "text/plain": [
              "array([21923, 20932])"
            ]
          },
          "metadata": {},
          "execution_count": 163
        }
      ]
    },
    {
      "cell_type": "code",
      "source": [
        "# Тексты, ближайший к центроиду 1\n",
        "df.iloc[closest[0]]['text']"
      ],
      "metadata": {
        "colab": {
          "base_uri": "https://localhost:8080/",
          "height": 105
        },
        "outputId": "17b53cd4-ebe6-48f6-c726-6c0ae4375ffd",
        "id": "4YsyqSf_KFlA"
      },
      "execution_count": 164,
      "outputs": [
        {
          "output_type": "execute_result",
          "data": {
            "text/plain": [
              "'Creating and displaying DynamicMesh from C++ - messed up normals of half of the faces I’m having hard times doing quite simple thing in UE, from C++ level. The goal is simple. I want to be able to display a cube. I want to specify vertices, faces and normals by hand. Hardcode it in C++, create mesh and display. And yet I can’t get it right.Full code of the project is available in this repo. Please look at the AMyActor::RegenerateMeshByHand method. https://github.com/stryku/BareBonesDynamicMesh/blob/forum-question/Source/BareBonesDynamicMesh/MyActor.cpp#L154I have a bare bones project with just a single MyActor deriving from the AActor. I create a UDynamicMeshComponent and set it as my root component. In PostLoad() I attempt to create a UE::Geometry::FDynamicMesh3 mesh and set it in my root component.It all works, the mesh is set, but it doesn’t look good. Every other face has a messed up normal and because of that half of the faces of the cube are invisible. They are visible only “from inside”, because only in this view, the normals are facing camera (I think).When I call mesh.CheckValidity() I get false, so I must do something wrong.I tried another thing: create a cube in Blender, export to OBJ file, look what’s inside and do the same from the code. AND IT WORKS (after ReverseOrientation and InitializeOverlayToPerTriangleNormals)!! Full cube is displayed, all the normals are fine. So, I’m double-confused.For sure I’m missing something obvious required by the engine. Does anyone have an idea what’s wrong?Full code of the method if someone prefers it here:UE::Geometry::FDynamicMesh3 AMyActor::RegenerateMeshByHand() {  UE::Geometry::FDynamicMesh3 mesh;  mesh.EnableAttributes();  UE::Geometry::FDynamicMeshNormalOverlay *normalsOverlay =      mesh.Attributes()->PrimaryNormals();  const std::array vertices{FVector3d(-1, -1, -1), FVector3d(1, -1, -1),                            FVector3d(-1, -1, 1),  FVector3d(1, -1, 1),                            FVector3d(-1, 1, -1),  FVector3d(1, 1, -1),                            FVector3d(-1, 1, 1),   FVector3d(1, 1, 1)};  const std::array normals{FVector3f(0, -1, 0), FVector3f(0, 1, 0),                           FVector3f(-1, 0, 0), FVector3f(1, 0, 0),                           FVector3f(0, 0, -1), FVector3f(0, 0, 1)};  int32 id;  UE::Geometry::EMeshResult result;  for (auto vertex : vertices) {    mesh.AppendVertex(vertex * 100);  }  for (auto normal : normals) {    normalsOverlay->AppendElement(normal);    normalsOverlay->AppendElement(normal);    normalsOverlay->AppendElement(normal);  }  // Face 0, 1. Normal 0  id = mesh.AppendTriangle(0, 1, 2);  result = normalsOverlay->SetTriangle(id, {0, 1, 2});  id = mesh.AppendTriangle(3, 1, 2);  result = normalsOverlay->SetTriangle(id, {0, 1, 2});  // Face 2, 3. Normal 1  id = mesh.AppendTriangle(4, 5, 6);  result = normalsOverlay->SetTriangle(id, {1 * 3, 1 * 3 + 1, 1 * 3 + 2});  id = mesh.AppendTriangle(7, 5, 6);  result = normalsOverlay->SetTriangle(id, {1 * 3, 1 * 3 + 1, 1 * 3 + 2});  // Face 4, 5. Normal 2  id = mesh.AppendTriangle(4, 6, 0);  result = normalsOverlay->SetTriangle(id, {2 * 3, 2 * 3 + 1, 2 * 3 + 2});  id = mesh.AppendTriangle(2, 6, 0);  result = normalsOverlay->SetTriangle(id, {2 * 3, 2 * 3 + 1, 2 * 3 + 2});  // Face 6, 7. Normal 3  id = mesh.AppendTriangle(1, 5, 3);  result = normalsOverlay->SetTriangle(id, {3 * 3, 3 * 3 + 1, 3 * 3 + 2});  id = mesh.AppendTriangle(7, 5, 3);  result = normalsOverlay->SetTriangle(id, {3 * 3, 3 * 3 + 1, 3 * 3 + 2});  // Face 8, 9. Normal 4  id = mesh.AppendTriangle(0, 1, 4);  result = normalsOverlay->SetTriangle(id, {4 * 3, 4 * 3 + 1, 4 * 3 + 2});  id = mesh.AppendTriangle(5, 1, 4);  result = normalsOverlay->SetTriangle(id, {4 * 3, 4 * 3 + 1, 4 * 3 + 2});  // Face 10, 11. Normal 5  id = mesh.AppendTriangle(2, 3, 6);  result = normalsOverlay->SetTriangle(id, {5 * 3, 5 * 3 + 1, 5 * 3 + 2});  id = mesh.AppendTriangle(7, 3, 6);  result = normalsOverlay->SetTriangle(id, {5 * 3, 5 * 3 + 1, 5 * 3 + 2});  // Why is this false?  const auto validityResult =      mesh.CheckValidity({}, UE::Geometry::EValidityCheckFailMode::ReturnOnly);  return mesh;}'"
            ],
            "application/vnd.google.colaboratory.intrinsic+json": {
              "type": "string"
            }
          },
          "metadata": {},
          "execution_count": 164
        }
      ]
    },
    {
      "cell_type": "code",
      "source": [
        "# Тексты, ближайший к центроиду 2\n",
        "df.iloc[closest[1]]['text']"
      ],
      "metadata": {
        "colab": {
          "base_uri": "https://localhost:8080/",
          "height": 70
        },
        "outputId": "4d5daf2e-4845-432b-ef7a-b54704880ab7",
        "id": "NMlrsNBGKFlA"
      },
      "execution_count": 165,
      "outputs": [
        {
          "output_type": "execute_result",
          "data": {
            "text/plain": [
              "\"geoLocation and googleMaps flutter Future<Position> getLocation() async {  Position position = await Geolocator.getCurrentPosition();  return position;}class trip extends StatefulWidget {  const trip({super.key});  @override  State<trip> createState() => tripState();}  static const CameraPosition _kGooglePlex = CameraPosition(    target: LatLng(33.8869, 9.5375),    zoom: 14.4746,  );I want to use the lat and long inside the CameraPosition's target: LatLng(lat,long) Everytime I put it the compiler signs that there is an issue in the codeI've tryed making the type double but same problem, I can't\""
            ],
            "application/vnd.google.colaboratory.intrinsic+json": {
              "type": "string"
            }
          },
          "metadata": {},
          "execution_count": 165
        }
      ]
    },
    {
      "cell_type": "markdown",
      "source": [
        "Улучшения хоть и есть, но частично и незначительные.\n",
        "\n",
        "В случае кластеризации текстов, векторизированных с помощью CountVectorizer, после удаления стоп-слов и (долгой) лемматизации, и инерция, и силуэт ухудшились.\n",
        "\n",
        "Для TfIdf-векторизованных текстов незначительно снизилась инерция, но силуэт ухудшился. Хотя на этапе подбора количества кластеров значение 2 дало силуэт, который был еще хуже.\n",
        "\n",
        "В последнем случае с Glove силуэт не поменялся, а инерция увеличилась почти в три раза.\n",
        "\n",
        "Скорее всего, я что-то напутала или упустила на этапе предобработки. Также возможно, что стоило попробовать большее количество кластеров (больше 20). Но пока результаты что до, что после чистки текстов, сомнительные.\n"
      ],
      "metadata": {
        "id": "36sOuaNhN1_H"
      }
    }
  ]
}